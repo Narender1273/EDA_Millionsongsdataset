{
 "cells": [
  {
   "cell_type": "code",
   "execution_count": null,
   "metadata": {
    "id": "YRrF1DokJ5LI"
   },
   "outputs": [],
   "source": [
    "import pandas as pd\n",
    "import numpy as np\n",
    "import matplotlib.pyplot as plt\n",
    "import seaborn as sns\n",
    "import math\n",
    "import missingno as ms\n",
    "import os\n",
    "import random"
   ]
  },
  {
   "cell_type": "code",
   "execution_count": null,
   "metadata": {
    "colab": {
     "base_uri": "https://localhost:8080/"
    },
    "id": "zCrALvi5q8iw",
    "outputId": "43b26879-001c-4667-a4f3-9a5d34563d54"
   },
   "outputs": [
    {
     "name": "stdout",
     "output_type": "stream",
     "text": [
      "Mounted at /content/gdrive\n"
     ]
    }
   ],
   "source": [
    "#for accsess data\n",
    "from google.colab import files\n",
    "from google.colab import drive\n",
    "drive.mount('/content/gdrive')"
   ]
  },
  {
   "cell_type": "code",
   "execution_count": null,
   "metadata": {
    "id": "1eF4gIb7RPbd"
   },
   "outputs": [],
   "source": [
    "import warnings\n",
    "warnings.filterwarnings('ignore')"
   ]
  },
  {
   "cell_type": "markdown",
   "metadata": {
    "id": "biSj83sNfZ32"
   },
   "source": [
    "**working on 1 dataset kaggle_visible_evaluation_triplets.txt**\n",
    "\n",
    "\n"
   ]
  },
  {
   "cell_type": "code",
   "execution_count": null,
   "metadata": {
    "id": "iSmUT3NISKf4"
   },
   "outputs": [],
   "source": [
    "df=pd.read_csv('kaggle_visible_evaluation_triplets.txt',sep='\\t', names=['user_id','song_id','freq'])"
   ]
  },
  {
   "cell_type": "code",
   "execution_count": null,
   "metadata": {
    "colab": {
     "base_uri": "https://localhost:8080/",
     "height": 204
    },
    "id": "KX8bg5efS-wj",
    "outputId": "b3dd8a99-2607-4d25-a52f-6eea7705a779"
   },
   "outputs": [
    {
     "data": {
      "text/html": [
       "<div>\n",
       "<style scoped>\n",
       "    .dataframe tbody tr th:only-of-type {\n",
       "        vertical-align: middle;\n",
       "    }\n",
       "\n",
       "    .dataframe tbody tr th {\n",
       "        vertical-align: top;\n",
       "    }\n",
       "\n",
       "    .dataframe thead th {\n",
       "        text-align: right;\n",
       "    }\n",
       "</style>\n",
       "<table border=\"1\" class=\"dataframe\">\n",
       "  <thead>\n",
       "    <tr style=\"text-align: right;\">\n",
       "      <th></th>\n",
       "      <th>user_id</th>\n",
       "      <th>song_id</th>\n",
       "      <th>freq</th>\n",
       "    </tr>\n",
       "  </thead>\n",
       "  <tbody>\n",
       "    <tr>\n",
       "      <th>0</th>\n",
       "      <td>fd50c4007b68a3737fe052d5a4f78ce8aa117f3d</td>\n",
       "      <td>SOBONKR12A58A7A7E0</td>\n",
       "      <td>1</td>\n",
       "    </tr>\n",
       "    <tr>\n",
       "      <th>1</th>\n",
       "      <td>fd50c4007b68a3737fe052d5a4f78ce8aa117f3d</td>\n",
       "      <td>SOEGIYH12A6D4FC0E3</td>\n",
       "      <td>1</td>\n",
       "    </tr>\n",
       "    <tr>\n",
       "      <th>2</th>\n",
       "      <td>fd50c4007b68a3737fe052d5a4f78ce8aa117f3d</td>\n",
       "      <td>SOFLJQZ12A6D4FADA6</td>\n",
       "      <td>1</td>\n",
       "    </tr>\n",
       "    <tr>\n",
       "      <th>3</th>\n",
       "      <td>fd50c4007b68a3737fe052d5a4f78ce8aa117f3d</td>\n",
       "      <td>SOHTKMO12AB01843B0</td>\n",
       "      <td>1</td>\n",
       "    </tr>\n",
       "    <tr>\n",
       "      <th>4</th>\n",
       "      <td>fd50c4007b68a3737fe052d5a4f78ce8aa117f3d</td>\n",
       "      <td>SODQZCY12A6D4F9D11</td>\n",
       "      <td>1</td>\n",
       "    </tr>\n",
       "  </tbody>\n",
       "</table>\n",
       "</div>"
      ],
      "text/plain": [
       "                                    user_id             song_id  freq\n",
       "0  fd50c4007b68a3737fe052d5a4f78ce8aa117f3d  SOBONKR12A58A7A7E0     1\n",
       "1  fd50c4007b68a3737fe052d5a4f78ce8aa117f3d  SOEGIYH12A6D4FC0E3     1\n",
       "2  fd50c4007b68a3737fe052d5a4f78ce8aa117f3d  SOFLJQZ12A6D4FADA6     1\n",
       "3  fd50c4007b68a3737fe052d5a4f78ce8aa117f3d  SOHTKMO12AB01843B0     1\n",
       "4  fd50c4007b68a3737fe052d5a4f78ce8aa117f3d  SODQZCY12A6D4F9D11     1"
      ]
     },
     "execution_count": 6,
     "metadata": {
      "tags": []
     },
     "output_type": "execute_result"
    }
   ],
   "source": [
    "df.head()\n"
   ]
  },
  {
   "cell_type": "code",
   "execution_count": null,
   "metadata": {
    "colab": {
     "base_uri": "https://localhost:8080/"
    },
    "id": "-Loeo0B_MlO_",
    "outputId": "78cb8fd3-ee1f-4cd6-a8f2-84659a308719"
   },
   "outputs": [
    {
     "data": {
      "text/plain": [
       "163206"
      ]
     },
     "execution_count": 7,
     "metadata": {
      "tags": []
     },
     "output_type": "execute_result"
    }
   ],
   "source": [
    "df['song_id'].nunique()"
   ]
  },
  {
   "cell_type": "markdown",
   "metadata": {
    "id": "ClQgGQP7MrB4"
   },
   "source": [
    "if we observed here there are 1,63,206 unique number of songs in triplets file"
   ]
  },
  {
   "cell_type": "code",
   "execution_count": null,
   "metadata": {
    "colab": {
     "base_uri": "https://localhost:8080/"
    },
    "id": "DY4MLgCVNClx",
    "outputId": "502e133b-913d-4ed5-d5a2-ea7948d0e61d"
   },
   "outputs": [
    {
     "data": {
      "text/plain": [
       "110000"
      ]
     },
     "execution_count": 9,
     "metadata": {
      "tags": []
     },
     "output_type": "execute_result"
    }
   ],
   "source": [
    "df['user_id'].nunique()"
   ]
  },
  {
   "cell_type": "markdown",
   "metadata": {
    "id": "8BnOVcylNSrw"
   },
   "source": [
    "there are 1,10,000 unique users are observed here in triplets file"
   ]
  },
  {
   "cell_type": "code",
   "execution_count": null,
   "metadata": {
    "colab": {
     "base_uri": "https://localhost:8080/"
    },
    "id": "XjXFft1Y4pKj",
    "outputId": "5e461777-51b5-4af1-d4a3-a256d138987c"
   },
   "outputs": [
    {
     "data": {
      "text/plain": [
       "(1450933, 3)"
      ]
     },
     "execution_count": 10,
     "metadata": {
      "tags": []
     },
     "output_type": "execute_result"
    }
   ],
   "source": [
    "df.shape"
   ]
  },
  {
   "cell_type": "code",
   "execution_count": null,
   "metadata": {
    "colab": {
     "base_uri": "https://localhost:8080/"
    },
    "id": "vg3M2Ux6nNmq",
    "outputId": "be33e87d-9d31-4b63-e697-662f6447a0a2"
   },
   "outputs": [
    {
     "data": {
      "text/plain": [
       "0"
      ]
     },
     "execution_count": 11,
     "metadata": {
      "tags": []
     },
     "output_type": "execute_result"
    }
   ],
   "source": [
    "dup=df.duplicated()\n",
    "sum(dup)\n",
    "# there are no duplictes in triplets file"
   ]
  },
  {
   "cell_type": "code",
   "execution_count": null,
   "metadata": {
    "colab": {
     "base_uri": "https://localhost:8080/"
    },
    "id": "tztzQPRanNg6",
    "outputId": "ef44873b-e051-4ec6-c94e-8b03cbe14172"
   },
   "outputs": [
    {
     "name": "stdout",
     "output_type": "stream",
     "text": [
      "0\n"
     ]
    }
   ],
   "source": [
    "print(sum(df.isnull().any())) # no null values are observed"
   ]
  },
  {
   "cell_type": "markdown",
   "metadata": {
    "id": "QKTtO8wFgIuB"
   },
   "source": [
    "**working on 2 dataset unique.txt**"
   ]
  },
  {
   "cell_type": "code",
   "execution_count": null,
   "metadata": {
    "colab": {
     "base_uri": "https://localhost:8080/"
    },
    "id": "qYp8FXfenNc5",
    "outputId": "750ee816-61ef-4fbc-912d-3943d77826b0"
   },
   "outputs": [
    {
     "data": {
      "text/plain": [
       "(1000000, 3)"
      ]
     },
     "execution_count": 13,
     "metadata": {
      "tags": []
     },
     "output_type": "execute_result"
    }
   ],
   "source": [
    "df1=pd.read_csv(\"unique_tracks.txt\",sep='<SEP>',names=['track_id','song_id','artist_name','release']) \n",
    "df1=df1.drop(['track_id'],axis=1)\n",
    "df1.shape"
   ]
  },
  {
   "cell_type": "markdown",
   "metadata": {
    "id": "AxRce7eXKu5S"
   },
   "source": [
    "### **10L unique tracks are observed in uniquqe_tracks file and here we drop the column track_id**"
   ]
  },
  {
   "cell_type": "code",
   "execution_count": null,
   "metadata": {
    "colab": {
     "base_uri": "https://localhost:8080/",
     "height": 204
    },
    "id": "mqcdx7q4nNZ3",
    "outputId": "02eece38-68fa-475c-b4a4-eed8a4a42aaa"
   },
   "outputs": [
    {
     "data": {
      "text/html": [
       "<div>\n",
       "<style scoped>\n",
       "    .dataframe tbody tr th:only-of-type {\n",
       "        vertical-align: middle;\n",
       "    }\n",
       "\n",
       "    .dataframe tbody tr th {\n",
       "        vertical-align: top;\n",
       "    }\n",
       "\n",
       "    .dataframe thead th {\n",
       "        text-align: right;\n",
       "    }\n",
       "</style>\n",
       "<table border=\"1\" class=\"dataframe\">\n",
       "  <thead>\n",
       "    <tr style=\"text-align: right;\">\n",
       "      <th></th>\n",
       "      <th>song_id</th>\n",
       "      <th>artist_name</th>\n",
       "      <th>release</th>\n",
       "    </tr>\n",
       "  </thead>\n",
       "  <tbody>\n",
       "    <tr>\n",
       "      <th>0</th>\n",
       "      <td>SOQMMHC12AB0180CB8</td>\n",
       "      <td>Faster Pussy cat</td>\n",
       "      <td>Silent Night</td>\n",
       "    </tr>\n",
       "    <tr>\n",
       "      <th>1</th>\n",
       "      <td>SOVFVAK12A8C1350D9</td>\n",
       "      <td>Karkkiautomaatti</td>\n",
       "      <td>Tanssi vaan</td>\n",
       "    </tr>\n",
       "    <tr>\n",
       "      <th>2</th>\n",
       "      <td>SOGTUKN12AB017F4F1</td>\n",
       "      <td>Hudson Mohawke</td>\n",
       "      <td>No One Could Ever</td>\n",
       "    </tr>\n",
       "    <tr>\n",
       "      <th>3</th>\n",
       "      <td>SOBNYVR12A8C13558C</td>\n",
       "      <td>Yerba Brava</td>\n",
       "      <td>Si Vos Querés</td>\n",
       "    </tr>\n",
       "    <tr>\n",
       "      <th>4</th>\n",
       "      <td>SOHSBXH12A8C13B0DF</td>\n",
       "      <td>Der Mystic</td>\n",
       "      <td>Tangle Of Aspens</td>\n",
       "    </tr>\n",
       "  </tbody>\n",
       "</table>\n",
       "</div>"
      ],
      "text/plain": [
       "              song_id       artist_name            release\n",
       "0  SOQMMHC12AB0180CB8  Faster Pussy cat       Silent Night\n",
       "1  SOVFVAK12A8C1350D9  Karkkiautomaatti        Tanssi vaan\n",
       "2  SOGTUKN12AB017F4F1    Hudson Mohawke  No One Could Ever\n",
       "3  SOBNYVR12A8C13558C       Yerba Brava      Si Vos Querés\n",
       "4  SOHSBXH12A8C13B0DF        Der Mystic   Tangle Of Aspens"
      ]
     },
     "execution_count": 14,
     "metadata": {
      "tags": []
     },
     "output_type": "execute_result"
    }
   ],
   "source": [
    "df1.head()"
   ]
  },
  {
   "cell_type": "code",
   "execution_count": null,
   "metadata": {
    "colab": {
     "base_uri": "https://localhost:8080/"
    },
    "id": "udpj1H5DMbZX",
    "outputId": "ecbc35c6-0ad0-493d-df95-0967a27610b4"
   },
   "outputs": [
    {
     "data": {
      "text/plain": [
       "999056"
      ]
     },
     "execution_count": 15,
     "metadata": {
      "tags": []
     },
     "output_type": "execute_result"
    }
   ],
   "source": [
    "df1['song_id'].nunique()"
   ]
  },
  {
   "cell_type": "markdown",
   "metadata": {
    "id": "uzGhbBzRNulT"
   },
   "source": [
    "9,99,056 number of unique songs are available in unique_tracks file"
   ]
  },
  {
   "cell_type": "markdown",
   "metadata": {
    "id": "C6txuhEUgoh9"
   },
   "source": [
    "**merging df and df1 on the bisis of \"song_id\"**.\n",
    "it means that if song_id of df is present in df1 then only there will be merege if not then next song_id will select and same condtion will on that also. for help see the image.![download.png](data:image/png;base64,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)"
   ]
  },
  {
   "cell_type": "code",
   "execution_count": null,
   "metadata": {
    "colab": {
     "base_uri": "https://localhost:8080/",
     "height": 427
    },
    "id": "DrQINdN6O6Tq",
    "outputId": "78ed7ebd-40d5-4678-8597-04678ebd1fc3"
   },
   "outputs": [
    {
     "data": {
      "text/html": [
       "<div>\n",
       "<style scoped>\n",
       "    .dataframe tbody tr th:only-of-type {\n",
       "        vertical-align: middle;\n",
       "    }\n",
       "\n",
       "    .dataframe tbody tr th {\n",
       "        vertical-align: top;\n",
       "    }\n",
       "\n",
       "    .dataframe thead th {\n",
       "        text-align: right;\n",
       "    }\n",
       "</style>\n",
       "<table border=\"1\" class=\"dataframe\">\n",
       "  <thead>\n",
       "    <tr style=\"text-align: right;\">\n",
       "      <th></th>\n",
       "      <th>user_id</th>\n",
       "      <th>song_id</th>\n",
       "      <th>freq</th>\n",
       "      <th>artist_name</th>\n",
       "      <th>release</th>\n",
       "    </tr>\n",
       "  </thead>\n",
       "  <tbody>\n",
       "    <tr>\n",
       "      <th>0</th>\n",
       "      <td>fd50c4007b68a3737fe052d5a4f78ce8aa117f3d</td>\n",
       "      <td>SOBONKR12A58A7A7E0</td>\n",
       "      <td>1</td>\n",
       "      <td>Dwight Yoakam</td>\n",
       "      <td>You're The One</td>\n",
       "    </tr>\n",
       "    <tr>\n",
       "      <th>1</th>\n",
       "      <td>fd50c4007b68a3737fe052d5a4f78ce8aa117f3d</td>\n",
       "      <td>SOEGIYH12A6D4FC0E3</td>\n",
       "      <td>1</td>\n",
       "      <td>Barry Tuckwell/Academy of St Martin-in-the-Fie...</td>\n",
       "      <td>Horn Concerto No. 4 in E flat K495: II. Romanc...</td>\n",
       "    </tr>\n",
       "    <tr>\n",
       "      <th>2</th>\n",
       "      <td>fd50c4007b68a3737fe052d5a4f78ce8aa117f3d</td>\n",
       "      <td>SOFLJQZ12A6D4FADA6</td>\n",
       "      <td>1</td>\n",
       "      <td>Cartola</td>\n",
       "      <td>Tive Sim</td>\n",
       "    </tr>\n",
       "    <tr>\n",
       "      <th>3</th>\n",
       "      <td>fd50c4007b68a3737fe052d5a4f78ce8aa117f3d</td>\n",
       "      <td>SOHTKMO12AB01843B0</td>\n",
       "      <td>1</td>\n",
       "      <td>Lonnie Gordon</td>\n",
       "      <td>Catch You Baby (Steve Pitron &amp; Max Sanna Radio...</td>\n",
       "    </tr>\n",
       "    <tr>\n",
       "      <th>4</th>\n",
       "      <td>fd50c4007b68a3737fe052d5a4f78ce8aa117f3d</td>\n",
       "      <td>SODQZCY12A6D4F9D11</td>\n",
       "      <td>1</td>\n",
       "      <td>Miguel Calo</td>\n",
       "      <td>El Cuatrero</td>\n",
       "    </tr>\n",
       "    <tr>\n",
       "      <th>5</th>\n",
       "      <td>fd50c4007b68a3737fe052d5a4f78ce8aa117f3d</td>\n",
       "      <td>SOXLOQG12AF72A2D55</td>\n",
       "      <td>1</td>\n",
       "      <td>Beastie Boys</td>\n",
       "      <td>Unite (2009 Digital Remaster)</td>\n",
       "    </tr>\n",
       "    <tr>\n",
       "      <th>6</th>\n",
       "      <td>d7083f5e1d50c264277d624340edaaf3dc16095b</td>\n",
       "      <td>SOUVUHC12A67020E3B</td>\n",
       "      <td>1</td>\n",
       "      <td>Moby</td>\n",
       "      <td>Lift Me Up</td>\n",
       "    </tr>\n",
       "    <tr>\n",
       "      <th>7</th>\n",
       "      <td>d7083f5e1d50c264277d624340edaaf3dc16095b</td>\n",
       "      <td>SOUQERE12A58A75633</td>\n",
       "      <td>1</td>\n",
       "      <td>Guano Apes</td>\n",
       "      <td>Living In A Lie</td>\n",
       "    </tr>\n",
       "    <tr>\n",
       "      <th>8</th>\n",
       "      <td>d7083f5e1d50c264277d624340edaaf3dc16095b</td>\n",
       "      <td>SOIPJAX12A8C141A2D</td>\n",
       "      <td>1</td>\n",
       "      <td>Guano Apes</td>\n",
       "      <td>Open Your Eyes</td>\n",
       "    </tr>\n",
       "    <tr>\n",
       "      <th>9</th>\n",
       "      <td>d7083f5e1d50c264277d624340edaaf3dc16095b</td>\n",
       "      <td>SOEFCDJ12AB0185FA0</td>\n",
       "      <td>2</td>\n",
       "      <td>UDG</td>\n",
       "      <td>Kurtizana</td>\n",
       "    </tr>\n",
       "  </tbody>\n",
       "</table>\n",
       "</div>"
      ],
      "text/plain": [
       "                                    user_id  ...                                            release\n",
       "0  fd50c4007b68a3737fe052d5a4f78ce8aa117f3d  ...                                     You're The One\n",
       "1  fd50c4007b68a3737fe052d5a4f78ce8aa117f3d  ...  Horn Concerto No. 4 in E flat K495: II. Romanc...\n",
       "2  fd50c4007b68a3737fe052d5a4f78ce8aa117f3d  ...                                           Tive Sim\n",
       "3  fd50c4007b68a3737fe052d5a4f78ce8aa117f3d  ...  Catch You Baby (Steve Pitron & Max Sanna Radio...\n",
       "4  fd50c4007b68a3737fe052d5a4f78ce8aa117f3d  ...                                        El Cuatrero\n",
       "5  fd50c4007b68a3737fe052d5a4f78ce8aa117f3d  ...                      Unite (2009 Digital Remaster)\n",
       "6  d7083f5e1d50c264277d624340edaaf3dc16095b  ...                                         Lift Me Up\n",
       "7  d7083f5e1d50c264277d624340edaaf3dc16095b  ...                                    Living In A Lie\n",
       "8  d7083f5e1d50c264277d624340edaaf3dc16095b  ...                                     Open Your Eyes\n",
       "9  d7083f5e1d50c264277d624340edaaf3dc16095b  ...                                          Kurtizana\n",
       "\n",
       "[10 rows x 5 columns]"
      ]
     },
     "execution_count": 16,
     "metadata": {
      "tags": []
     },
     "output_type": "execute_result"
    }
   ],
   "source": [
    "df_final = pd.merge(df, df1.drop_duplicates(['song_id']), on='song_id',how='left')\n",
    "df_final.head(10)"
   ]
  },
  {
   "cell_type": "markdown",
   "metadata": {
    "id": "3Ob-A2inLiH_"
   },
   "source": [
    "here we merged the both the datasets according to the user_id matched song, it should merge only with respect to user listened songs in unique_tracks file, so here we dropped the duplicates, which removes similar identified rows "
   ]
  },
  {
   "cell_type": "code",
   "execution_count": null,
   "metadata": {
    "colab": {
     "base_uri": "https://localhost:8080/"
    },
    "id": "fx6Cw0qDO6IG",
    "outputId": "5f8147f0-0f85-44d0-e491-0702e21b73f2"
   },
   "outputs": [
    {
     "data": {
      "text/plain": [
       "(1450933, 5)"
      ]
     },
     "execution_count": 17,
     "metadata": {
      "tags": []
     },
     "output_type": "execute_result"
    }
   ],
   "source": [
    "df_final.shape"
   ]
  },
  {
   "cell_type": "code",
   "execution_count": null,
   "metadata": {
    "colab": {
     "base_uri": "https://localhost:8080/"
    },
    "id": "CZlXM1sfO55a",
    "outputId": "ccff78b7-80ae-45a9-a12d-8122755c75d8"
   },
   "outputs": [
    {
     "name": "stdout",
     "output_type": "stream",
     "text": [
      "1\n"
     ]
    }
   ],
   "source": [
    "print(sum(df_final.isnull().any()))"
   ]
  },
  {
   "cell_type": "markdown",
   "metadata": {
    "id": "yktGCsdvWQz3"
   },
   "source": [
    "**there is one null value we will find it in which col there is null.**"
   ]
  },
  {
   "cell_type": "code",
   "execution_count": null,
   "metadata": {
    "colab": {
     "base_uri": "https://localhost:8080/"
    },
    "id": "oyr8QaMmWZs1",
    "outputId": "c8b3736d-067a-463a-f3ee-019a674d13fc"
   },
   "outputs": [
    {
     "data": {
      "text/plain": [
       "array([192828])"
      ]
     },
     "execution_count": 19,
     "metadata": {
      "tags": []
     },
     "output_type": "execute_result"
    }
   ],
   "source": [
    "np.where(df_final['release'].isnull())[0]"
   ]
  },
  {
   "cell_type": "markdown",
   "metadata": {
    "id": "zGSbiASMXSws"
   },
   "source": [
    "**at row index 192828 there is null value now we will find col **"
   ]
  },
  {
   "cell_type": "code",
   "execution_count": null,
   "metadata": {
    "colab": {
     "base_uri": "https://localhost:8080/",
     "height": 80
    },
    "id": "KL_V0bGtXhCQ",
    "outputId": "ca41d6d6-2bdc-4faf-869f-e8d01d1baec6"
   },
   "outputs": [
    {
     "data": {
      "text/html": [
       "<div>\n",
       "<style scoped>\n",
       "    .dataframe tbody tr th:only-of-type {\n",
       "        vertical-align: middle;\n",
       "    }\n",
       "\n",
       "    .dataframe tbody tr th {\n",
       "        vertical-align: top;\n",
       "    }\n",
       "\n",
       "    .dataframe thead th {\n",
       "        text-align: right;\n",
       "    }\n",
       "</style>\n",
       "<table border=\"1\" class=\"dataframe\">\n",
       "  <thead>\n",
       "    <tr style=\"text-align: right;\">\n",
       "      <th></th>\n",
       "      <th>user_id</th>\n",
       "      <th>song_id</th>\n",
       "      <th>freq</th>\n",
       "      <th>artist_name</th>\n",
       "      <th>release</th>\n",
       "    </tr>\n",
       "  </thead>\n",
       "  <tbody>\n",
       "    <tr>\n",
       "      <th>192828</th>\n",
       "      <td>7b3a62a418862aefc4b3d85feb191fa0fd752c69</td>\n",
       "      <td>SOZDBDL12AB018AFFF</td>\n",
       "      <td>1</td>\n",
       "      <td>Sébastien Roch</td>\n",
       "      <td>NaN</td>\n",
       "    </tr>\n",
       "  </tbody>\n",
       "</table>\n",
       "</div>"
      ],
      "text/plain": [
       "                                         user_id  ... release\n",
       "192828  7b3a62a418862aefc4b3d85feb191fa0fd752c69  ...     NaN\n",
       "\n",
       "[1 rows x 5 columns]"
      ]
     },
     "execution_count": 20,
     "metadata": {
      "tags": []
     },
     "output_type": "execute_result"
    }
   ],
   "source": [
    "df_final.iloc[[192828]]"
   ]
  },
  {
   "cell_type": "markdown",
   "metadata": {
    "id": "pWkbKbGvXkaR"
   },
   "source": [
    "**we have found out that in the release there is nan value.now we will find any artist named as 'Sébastien Roch' has any release or not. if not then we will drop it.**"
   ]
  },
  {
   "cell_type": "code",
   "execution_count": null,
   "metadata": {
    "colab": {
     "base_uri": "https://localhost:8080/"
    },
    "id": "6K7rXVYJX64L",
    "outputId": "227df3f7-cf27-437d-ae95-16713f475070"
   },
   "outputs": [
    {
     "data": {
      "text/plain": [
       "(array([192828]),)"
      ]
     },
     "execution_count": 19,
     "metadata": {
      "tags": []
     },
     "output_type": "execute_result"
    }
   ],
   "source": [
    "np.where(df_final['artist_name']=='Sébastien Roch')"
   ]
  },
  {
   "cell_type": "markdown",
   "metadata": {
    "id": "sc023TP5YF1A"
   },
   "source": [
    "**there is not any release for 'Sébastien Roch' so we will delete the row 192828.**"
   ]
  },
  {
   "cell_type": "code",
   "execution_count": null,
   "metadata": {
    "id": "ZvvavbFFYRBi"
   },
   "outputs": [],
   "source": [
    "df_final=df_final.drop(labels=192828, axis=0)"
   ]
  },
  {
   "cell_type": "code",
   "execution_count": null,
   "metadata": {
    "colab": {
     "base_uri": "https://localhost:8080/"
    },
    "id": "VEzPbJmbY_YX",
    "outputId": "14fac360-ee4a-4276-98eb-2e43d9cd81f1"
   },
   "outputs": [
    {
     "name": "stdout",
     "output_type": "stream",
     "text": [
      "0\n"
     ]
    }
   ],
   "source": [
    "print(sum(df_final.isnull().any()))"
   ]
  },
  {
   "cell_type": "code",
   "execution_count": null,
   "metadata": {
    "colab": {
     "base_uri": "https://localhost:8080/"
    },
    "id": "IWqVNQedZCjj",
    "outputId": "ba289884-89db-4b14-8ed7-670f12094e54"
   },
   "outputs": [
    {
     "data": {
      "text/plain": [
       "(1450932, 5)"
      ]
     },
     "execution_count": 22,
     "metadata": {
      "tags": []
     },
     "output_type": "execute_result"
    }
   ],
   "source": [
    "df_final.shape"
   ]
  },
  {
   "cell_type": "code",
   "execution_count": null,
   "metadata": {
    "colab": {
     "base_uri": "https://localhost:8080/"
    },
    "id": "pxYuOjDtnDHc",
    "outputId": "5ba4b17b-66c6-41e4-d6f9-60cffc913358"
   },
   "outputs": [
    {
     "data": {
      "text/plain": [
       "0"
      ]
     },
     "execution_count": 23,
     "metadata": {
      "tags": []
     },
     "output_type": "execute_result"
    }
   ],
   "source": [
    "dup3=df_final.duplicated()\n",
    "sum(dup3)"
   ]
  },
  {
   "cell_type": "code",
   "execution_count": null,
   "metadata": {
    "colab": {
     "base_uri": "https://localhost:8080/"
    },
    "id": "1FH7Vx60nDE-",
    "outputId": "cfd2d1b4-96db-4d5e-f33b-42f76032a3b6"
   },
   "outputs": [
    {
     "name": "stdout",
     "output_type": "stream",
     "text": [
      "total datapoints 1450932\n",
      "total number of user 110000\n",
      "total number of songs 163205\n"
     ]
    }
   ],
   "source": [
    "print('total datapoints',df_final.shape[0])\n",
    "print('total number of user',df_final['user_id'].unique().shape[0])\n",
    "print('total number of songs',df_final['song_id'].unique().shape[0])"
   ]
  },
  {
   "cell_type": "code",
   "execution_count": null,
   "metadata": {
    "colab": {
     "base_uri": "https://localhost:8080/"
    },
    "id": "9GTERoaunDA5",
    "outputId": "15247d85-25ce-4d0d-863e-b7bc5b429710"
   },
   "outputs": [
    {
     "name": "stdout",
     "output_type": "stream",
     "text": [
      "total number of release 137622\n",
      "total number of artist 28360\n"
     ]
    }
   ],
   "source": [
    "print('total number of release',df_final['release'].unique().shape[0])\n",
    "print('total number of artist',df_final['artist_name'].unique().shape[0])"
   ]
  },
  {
   "cell_type": "code",
   "execution_count": null,
   "metadata": {
    "colab": {
     "base_uri": "https://localhost:8080/",
     "height": 284
    },
    "id": "NCwac6g3nC-4",
    "outputId": "3c49f0d7-1eb2-4b6c-ee3c-08286398bcb2"
   },
   "outputs": [
    {
     "data": {
      "text/html": [
       "<div>\n",
       "<style scoped>\n",
       "    .dataframe tbody tr th:only-of-type {\n",
       "        vertical-align: middle;\n",
       "    }\n",
       "\n",
       "    .dataframe tbody tr th {\n",
       "        vertical-align: top;\n",
       "    }\n",
       "\n",
       "    .dataframe thead th {\n",
       "        text-align: right;\n",
       "    }\n",
       "</style>\n",
       "<table border=\"1\" class=\"dataframe\">\n",
       "  <thead>\n",
       "    <tr style=\"text-align: right;\">\n",
       "      <th></th>\n",
       "      <th>freq</th>\n",
       "    </tr>\n",
       "  </thead>\n",
       "  <tbody>\n",
       "    <tr>\n",
       "      <th>count</th>\n",
       "      <td>1.450932e+06</td>\n",
       "    </tr>\n",
       "    <tr>\n",
       "      <th>mean</th>\n",
       "      <td>3.187151e+00</td>\n",
       "    </tr>\n",
       "    <tr>\n",
       "      <th>std</th>\n",
       "      <td>7.051666e+00</td>\n",
       "    </tr>\n",
       "    <tr>\n",
       "      <th>min</th>\n",
       "      <td>1.000000e+00</td>\n",
       "    </tr>\n",
       "    <tr>\n",
       "      <th>25%</th>\n",
       "      <td>1.000000e+00</td>\n",
       "    </tr>\n",
       "    <tr>\n",
       "      <th>50%</th>\n",
       "      <td>1.000000e+00</td>\n",
       "    </tr>\n",
       "    <tr>\n",
       "      <th>75%</th>\n",
       "      <td>3.000000e+00</td>\n",
       "    </tr>\n",
       "    <tr>\n",
       "      <th>max</th>\n",
       "      <td>9.230000e+02</td>\n",
       "    </tr>\n",
       "  </tbody>\n",
       "</table>\n",
       "</div>"
      ],
      "text/plain": [
       "               freq\n",
       "count  1.450932e+06\n",
       "mean   3.187151e+00\n",
       "std    7.051666e+00\n",
       "min    1.000000e+00\n",
       "25%    1.000000e+00\n",
       "50%    1.000000e+00\n",
       "75%    3.000000e+00\n",
       "max    9.230000e+02"
      ]
     },
     "execution_count": 26,
     "metadata": {
      "tags": []
     },
     "output_type": "execute_result"
    }
   ],
   "source": [
    "df_final.describe()"
   ]
  },
  {
   "cell_type": "code",
   "execution_count": null,
   "metadata": {
    "colab": {
     "base_uri": "https://localhost:8080/"
    },
    "id": "zgCv7XYynC5T",
    "outputId": "3e4beaa0-5c6f-4968-d404-12be0d5288b9"
   },
   "outputs": [
    {
     "name": "stdout",
     "output_type": "stream",
     "text": [
      "<class 'pandas.core.frame.DataFrame'>\n",
      "Int64Index: 1450932 entries, 0 to 1450932\n",
      "Data columns (total 5 columns):\n",
      " #   Column       Non-Null Count    Dtype \n",
      "---  ------       --------------    ----- \n",
      " 0   user_id      1450932 non-null  object\n",
      " 1   song_id      1450932 non-null  object\n",
      " 2   freq         1450932 non-null  int64 \n",
      " 3   artist_name  1450932 non-null  object\n",
      " 4   release      1450932 non-null  object\n",
      "dtypes: int64(1), object(4)\n",
      "memory usage: 66.4+ MB\n"
     ]
    }
   ],
   "source": [
    "df_final.info()"
   ]
  },
  {
   "cell_type": "code",
   "execution_count": null,
   "metadata": {
    "colab": {
     "base_uri": "https://localhost:8080/"
    },
    "id": "ka7o77IInCzd",
    "outputId": "d9b93596-e355-4d48-eed2-614ca3642565"
   },
   "outputs": [
    {
     "data": {
      "text/plain": [
       "Index(['user_id', 'song_id', 'freq', 'artist_name', 'release'], dtype='object')"
      ]
     },
     "execution_count": 28,
     "metadata": {
      "tags": []
     },
     "output_type": "execute_result"
    }
   ],
   "source": [
    "df_final.columns"
   ]
  },
  {
   "cell_type": "code",
   "execution_count": null,
   "metadata": {
    "colab": {
     "base_uri": "https://localhost:8080/",
     "height": 421
    },
    "id": "yfRPkWhgnCpj",
    "outputId": "8588ac92-6323-4f06-af0a-6323cc3117d6"
   },
   "outputs": [
    {
     "data": {
      "text/plain": [
       "Text(0, 0.5, 'Song ID')"
      ]
     },
     "execution_count": 29,
     "metadata": {
      "tags": []
     },
     "output_type": "execute_result"
    },
    {
     "data": {
      "image/png": "[encoded data removed]",
      "text/plain": [
       "<Figure size 864x432 with 1 Axes>"
      ]
     },
     "metadata": {
      "needs_background": "light",
      "tags": []
     },
     "output_type": "display_data"
    }
   ],
   "source": [
    "freq=df_final.sort_values('freq',ascending=False)\n",
    "plt.figure(figsize=(12,6))\n",
    "ax=sns.barplot(x=freq['freq'].head(15), y=freq['song_id'].head(10), data=freq)\n",
    "plt.title('Most listened')\n",
    "plt.xlabel('Freq')\n",
    "plt.ylabel('Song ID')"
   ]
  },
  {
   "cell_type": "markdown",
   "metadata": {
    "id": "uZ1KtaJfZgvE"
   },
   "source": [
    "**We have found that a song_id SOXTUWG12AB018A2E2 is most time played. Now, we will find song and artist.**"
   ]
  },
  {
   "cell_type": "code",
   "execution_count": null,
   "metadata": {
    "colab": {
     "base_uri": "https://localhost:8080/"
    },
    "id": "oUR5qOVWZzTB",
    "outputId": "63f49527-307c-44d8-ff84-a51c7fd691f1"
   },
   "outputs": [
    {
     "data": {
      "text/plain": [
       "(array([1449166]),)"
      ]
     },
     "execution_count": 30,
     "metadata": {
      "tags": []
     },
     "output_type": "execute_result"
    }
   ],
   "source": [
    "np.where(df_final['song_id']=='SOXTUWG12AB018A2E2')"
   ]
  },
  {
   "cell_type": "code",
   "execution_count": null,
   "metadata": {
    "colab": {
     "base_uri": "https://localhost:8080/",
     "height": 77
    },
    "id": "dxxeBadmZe3P",
    "outputId": "b435d293-80f8-4fd8-87ba-90654e12e4f5"
   },
   "outputs": [
    {
     "data": {
      "text/html": [
       "<div>\n",
       "<style scoped>\n",
       "    .dataframe tbody tr th:only-of-type {\n",
       "        vertical-align: middle;\n",
       "    }\n",
       "\n",
       "    .dataframe tbody tr th {\n",
       "        vertical-align: top;\n",
       "    }\n",
       "\n",
       "    .dataframe thead th {\n",
       "        text-align: right;\n",
       "    }\n",
       "</style>\n",
       "<table border=\"1\" class=\"dataframe\">\n",
       "  <thead>\n",
       "    <tr style=\"text-align: right;\">\n",
       "      <th></th>\n",
       "      <th>user_id</th>\n",
       "      <th>song_id</th>\n",
       "      <th>freq</th>\n",
       "      <th>artist_name</th>\n",
       "      <th>release</th>\n",
       "    </tr>\n",
       "  </thead>\n",
       "  <tbody>\n",
       "    <tr>\n",
       "      <th>1449167</th>\n",
       "      <td>22bb29714137fa47083963c30e1a26f1bf517e7d</td>\n",
       "      <td>SOXTUWG12AB018A2E2</td>\n",
       "      <td>923</td>\n",
       "      <td>Kilgore</td>\n",
       "      <td>Drop The Hammer (Album Version)</td>\n",
       "    </tr>\n",
       "  </tbody>\n",
       "</table>\n",
       "</div>"
      ],
      "text/plain": [
       "                                          user_id  ...                          release\n",
       "1449167  22bb29714137fa47083963c30e1a26f1bf517e7d  ...  Drop The Hammer (Album Version)\n",
       "\n",
       "[1 rows x 5 columns]"
      ]
     },
     "execution_count": 31,
     "metadata": {
      "tags": []
     },
     "output_type": "execute_result"
    }
   ],
   "source": [
    "df_final.iloc[[1449166]]"
   ]
  },
  {
   "cell_type": "markdown",
   "metadata": {
    "id": "MLgx-hThaX-w"
   },
   "source": [
    "**By this anlysis, we can find that artist name='Kilgore' and realase='Drop The Hammer (Album Version)' is most palyed by a crzay user whose user_id is='22bb29714137fa47083963c30e1a26f1bf517e7d' palyed this song 923 times** "
   ]
  },
  {
   "cell_type": "markdown",
   "metadata": {
    "id": "XIFd165fe8aL"
   },
   "source": [
    "**in the continous of this anlysis we are going to find 5 most crazy users and there crzay choice song.**"
   ]
  },
  {
   "cell_type": "code",
   "execution_count": null,
   "metadata": {
    "colab": {
     "base_uri": "https://localhost:8080/"
    },
    "id": "CYUwCBDGmFiO",
    "outputId": "b7fc7e36-02c5-4484-9352-cd5de1a43260"
   },
   "outputs": [
    {
     "data": {
      "text/plain": [
       "262    1\n",
       "187    1\n",
       "259    1\n",
       "189    1\n",
       "923    1\n",
       "Name: freq, dtype: int64"
      ]
     },
     "execution_count": 32,
     "metadata": {
      "tags": []
     },
     "output_type": "execute_result"
    }
   ],
   "source": [
    "most_played_song_by_one_user=df_final['freq'].value_counts().tail(5)\n",
    "most_played_song_by_one_user"
   ]
  },
  {
   "cell_type": "code",
   "execution_count": null,
   "metadata": {
    "colab": {
     "base_uri": "https://localhost:8080/",
     "height": 144
    },
    "id": "Vca9OLYpZdLn",
    "outputId": "eaeeca2a-d385-4bd4-e5dd-9b95e55946c8"
   },
   "outputs": [
    {
     "name": "stdout",
     "output_type": "stream",
     "text": [
      "                                         user_id  ...                        release\n",
      "311739  efd470cc7311509e0bd24c5510262d80bc95eb54  ...  Unite (2009 Digital Remaster)\n",
      "\n",
      "[1 rows x 5 columns]\n"
     ]
    },
    {
     "data": {
      "text/html": [
       "<div>\n",
       "<style scoped>\n",
       "    .dataframe tbody tr th:only-of-type {\n",
       "        vertical-align: middle;\n",
       "    }\n",
       "\n",
       "    .dataframe tbody tr th {\n",
       "        vertical-align: top;\n",
       "    }\n",
       "\n",
       "    .dataframe thead th {\n",
       "        text-align: right;\n",
       "    }\n",
       "</style>\n",
       "<table border=\"1\" class=\"dataframe\">\n",
       "  <thead>\n",
       "    <tr style=\"text-align: right;\">\n",
       "      <th></th>\n",
       "      <th>user_id</th>\n",
       "      <th>song_id</th>\n",
       "      <th>freq</th>\n",
       "      <th>artist_name</th>\n",
       "      <th>release</th>\n",
       "    </tr>\n",
       "  </thead>\n",
       "  <tbody>\n",
       "    <tr>\n",
       "      <th>927480</th>\n",
       "      <td>ccf9db671153c78301f2fc2fe7dd9df9aa7f8a30</td>\n",
       "      <td>SOTFIPT12A6701F2FA</td>\n",
       "      <td>187</td>\n",
       "      <td>Red Hot Chili Peppers</td>\n",
       "      <td>Fortune Faded (Album Version)</td>\n",
       "    </tr>\n",
       "  </tbody>\n",
       "</table>\n",
       "</div>"
      ],
      "text/plain": [
       "                                         user_id  ...                        release\n",
       "927480  ccf9db671153c78301f2fc2fe7dd9df9aa7f8a30  ...  Fortune Faded (Album Version)\n",
       "\n",
       "[1 rows x 5 columns]"
      ]
     },
     "execution_count": 33,
     "metadata": {
      "tags": []
     },
     "output_type": "execute_result"
    }
   ],
   "source": [
    "#print(df_final[(df_final.freq==923)])\n",
    "#print(df_final[(df_final.freq==262)])\n",
    "#print(df_final[(df_final.freq==259)])\n",
    "print(df_final[(df_final.freq==189)])\n",
    "df_final[(df_final.freq==187)]"
   ]
  },
  {
   "cell_type": "markdown",
   "metadata": {
    "id": "jy-9s7whjuE5"
   },
   "source": [
    "**The top most 5 crazy users who have played their favt song in crazy way** \n",
    "\n",
    "1.   22bb29714137fa47083963c30e1a26f1bf517e7d\n",
    "2.   70c9faa9bf2149c6ea98cf3a099077971fe6e9b9\n",
    "3.   d4da4dc045d2a9ad7e55f266e627e6096325a678\n",
    "4.   efd470cc7311509e0bd24c5510262d80bc95eb54\n",
    "5.   ccf9db671153c78301f2fc2fe7dd9df9aa7f8a30\n",
    "\n"
   ]
  },
  {
   "cell_type": "code",
   "execution_count": 64,
   "metadata": {
    "colab": {
     "base_uri": "https://localhost:8080/",
     "height": 300
    },
    "id": "OYpxVcaO8wew",
    "outputId": "5a32cecb-1eeb-4a60-b5ea-4cf0fb0a5ce1"
   },
   "outputs": [
    {
     "data": {
      "text/html": [
       "<div>\n",
       "<style scoped>\n",
       "    .dataframe tbody tr th:only-of-type {\n",
       "        vertical-align: middle;\n",
       "    }\n",
       "\n",
       "    .dataframe tbody tr th {\n",
       "        vertical-align: top;\n",
       "    }\n",
       "\n",
       "    .dataframe thead th {\n",
       "        text-align: right;\n",
       "    }\n",
       "</style>\n",
       "<table border=\"1\" class=\"dataframe\">\n",
       "  <thead>\n",
       "    <tr style=\"text-align: right;\">\n",
       "      <th></th>\n",
       "      <th>user_id</th>\n",
       "      <th>song_id</th>\n",
       "      <th>freq</th>\n",
       "      <th>artist_name</th>\n",
       "      <th>release</th>\n",
       "    </tr>\n",
       "  </thead>\n",
       "  <tbody>\n",
       "    <tr>\n",
       "      <th>178584</th>\n",
       "      <td>fa82c0a1a93b7c52870d7b0a004b444bbdf19401</td>\n",
       "      <td>SOCNAXF12A6D4F9B34</td>\n",
       "      <td>500</td>\n",
       "      <td>Alliance Ethnik</td>\n",
       "      <td>Creil City</td>\n",
       "    </tr>\n",
       "    <tr>\n",
       "      <th>363980</th>\n",
       "      <td>9d12c30de5d9975f621f95f512699989ac544410</td>\n",
       "      <td>SOFFXAQ12A8AE45C2E</td>\n",
       "      <td>535</td>\n",
       "      <td>Fear My Thoughts</td>\n",
       "      <td>Death Chamber</td>\n",
       "    </tr>\n",
       "    <tr>\n",
       "      <th>471133</th>\n",
       "      <td>2d9ea6058d0872ccdc5b1c5c685758bb9c55f0a3</td>\n",
       "      <td>SOAOXTG12A67021AA7</td>\n",
       "      <td>597</td>\n",
       "      <td>Ms. Dynamite / Kymani Marley</td>\n",
       "      <td>Seed Will Grow</td>\n",
       "    </tr>\n",
       "    <tr>\n",
       "      <th>642730</th>\n",
       "      <td>a86e68128c6a48d3392db22ce1151a3bdccf5fcf</td>\n",
       "      <td>SOFVLYV12A8C145D8F</td>\n",
       "      <td>537</td>\n",
       "      <td>Us3</td>\n",
       "      <td>Believe In Yourself</td>\n",
       "    </tr>\n",
       "    <tr>\n",
       "      <th>838445</th>\n",
       "      <td>a1cc4d088600df2db42e6a305974675ffe8c905d</td>\n",
       "      <td>SOPMHHE12AB01845F6</td>\n",
       "      <td>646</td>\n",
       "      <td>The Beach Boys</td>\n",
       "      <td>What Is a Young Girl Made of</td>\n",
       "    </tr>\n",
       "    <tr>\n",
       "      <th>1297745</th>\n",
       "      <td>69ad6b6a1d14d740eb8c2f013a19c1f8048cecde</td>\n",
       "      <td>SONGOJV12AF729AEBD</td>\n",
       "      <td>582</td>\n",
       "      <td>Queen</td>\n",
       "      <td>Somebody To Love</td>\n",
       "    </tr>\n",
       "    <tr>\n",
       "      <th>1449167</th>\n",
       "      <td>22bb29714137fa47083963c30e1a26f1bf517e7d</td>\n",
       "      <td>SOXTUWG12AB018A2E2</td>\n",
       "      <td>923</td>\n",
       "      <td>Kilgore</td>\n",
       "      <td>Drop The Hammer (Album Version)</td>\n",
       "    </tr>\n",
       "  </tbody>\n",
       "</table>\n",
       "</div>"
      ],
      "text/plain": [
       "                                          user_id  ...                          release\n",
       "178584   fa82c0a1a93b7c52870d7b0a004b444bbdf19401  ...                       Creil City\n",
       "363980   9d12c30de5d9975f621f95f512699989ac544410  ...                    Death Chamber\n",
       "471133   2d9ea6058d0872ccdc5b1c5c685758bb9c55f0a3  ...                   Seed Will Grow\n",
       "642730   a86e68128c6a48d3392db22ce1151a3bdccf5fcf  ...              Believe In Yourself\n",
       "838445   a1cc4d088600df2db42e6a305974675ffe8c905d  ...     What Is a Young Girl Made of\n",
       "1297745  69ad6b6a1d14d740eb8c2f013a19c1f8048cecde  ...                 Somebody To Love\n",
       "1449167  22bb29714137fa47083963c30e1a26f1bf517e7d  ...  Drop The Hammer (Album Version)\n",
       "\n",
       "[7 rows x 5 columns]"
      ]
     },
     "execution_count": 64,
     "metadata": {
      "tags": []
     },
     "output_type": "execute_result"
    }
   ],
   "source": [
    "df_final[df_final['freq']>=500] # this cell had the info about the songs with greater than 500 listened times\n",
    "                                # there are only 7 users who had listened their favourite songs with more than or equal to 500 times"
   ]
  },
  {
   "cell_type": "code",
   "execution_count": 72,
   "metadata": {
    "colab": {
     "base_uri": "https://localhost:8080/",
     "height": 470
    },
    "id": "X4AI-AO49Orq",
    "outputId": "23a07b0a-e5c5-40db-894e-78b3c71ac58d"
   },
   "outputs": [
    {
     "data": {
      "text/html": [
       "<div>\n",
       "<style scoped>\n",
       "    .dataframe tbody tr th:only-of-type {\n",
       "        vertical-align: middle;\n",
       "    }\n",
       "\n",
       "    .dataframe tbody tr th {\n",
       "        vertical-align: top;\n",
       "    }\n",
       "\n",
       "    .dataframe thead th {\n",
       "        text-align: right;\n",
       "    }\n",
       "</style>\n",
       "<table border=\"1\" class=\"dataframe\">\n",
       "  <thead>\n",
       "    <tr style=\"text-align: right;\">\n",
       "      <th></th>\n",
       "      <th>user_id</th>\n",
       "      <th>song_id</th>\n",
       "      <th>freq</th>\n",
       "      <th>artist_name</th>\n",
       "      <th>release</th>\n",
       "    </tr>\n",
       "  </thead>\n",
       "  <tbody>\n",
       "    <tr>\n",
       "      <th>4043</th>\n",
       "      <td>ab8218336efff9f880d3a0e24b53a7aa7ebbf4b6</td>\n",
       "      <td>SOJSXJY12A8C13E32E</td>\n",
       "      <td>125</td>\n",
       "      <td>Clara Hill</td>\n",
       "      <td>Clara meets Slope - Hard To Say</td>\n",
       "    </tr>\n",
       "    <tr>\n",
       "      <th>5056</th>\n",
       "      <td>96deca47a75bb70478c086f435426485d575746a</td>\n",
       "      <td>SOFTZUB12AB0188C67</td>\n",
       "      <td>150</td>\n",
       "      <td>Kruder &amp; Dorfmeister</td>\n",
       "      <td>High Noon</td>\n",
       "    </tr>\n",
       "    <tr>\n",
       "      <th>5064</th>\n",
       "      <td>96deca47a75bb70478c086f435426485d575746a</td>\n",
       "      <td>SOOFEHM12A8AE457B4</td>\n",
       "      <td>241</td>\n",
       "      <td>Kylie Minogue</td>\n",
       "      <td>Confide In Me</td>\n",
       "    </tr>\n",
       "    <tr>\n",
       "      <th>5068</th>\n",
       "      <td>96deca47a75bb70478c086f435426485d575746a</td>\n",
       "      <td>SOPGFGG12A8C136E3A</td>\n",
       "      <td>214</td>\n",
       "      <td>LU</td>\n",
       "      <td>Por Besarte</td>\n",
       "    </tr>\n",
       "    <tr>\n",
       "      <th>9376</th>\n",
       "      <td>8463ade505658a6f70e9cfaa948b3b8515e18072</td>\n",
       "      <td>SOFGTEF12AB0185FF9</td>\n",
       "      <td>126</td>\n",
       "      <td>Chris Stills</td>\n",
       "      <td>Lucifer &amp; Jane  (LP Version)</td>\n",
       "    </tr>\n",
       "    <tr>\n",
       "      <th>...</th>\n",
       "      <td>...</td>\n",
       "      <td>...</td>\n",
       "      <td>...</td>\n",
       "      <td>...</td>\n",
       "      <td>...</td>\n",
       "    </tr>\n",
       "    <tr>\n",
       "      <th>1447287</th>\n",
       "      <td>ab979b06c4f6230267e66c6cb64e5d0ea24fc1ea</td>\n",
       "      <td>SOVALCK12A8C13C1F7</td>\n",
       "      <td>139</td>\n",
       "      <td>JK</td>\n",
       "      <td>You &amp; I</td>\n",
       "    </tr>\n",
       "    <tr>\n",
       "      <th>1447541</th>\n",
       "      <td>4b4ff0c1b288b1b33a2e5f5cc9ce534a3a4446de</td>\n",
       "      <td>SOAWUML12A6D4F3FE1</td>\n",
       "      <td>121</td>\n",
       "      <td>Ziggy Marley And The Melody Makers</td>\n",
       "      <td>This One</td>\n",
       "    </tr>\n",
       "    <tr>\n",
       "      <th>1449167</th>\n",
       "      <td>22bb29714137fa47083963c30e1a26f1bf517e7d</td>\n",
       "      <td>SOXTUWG12AB018A2E2</td>\n",
       "      <td>923</td>\n",
       "      <td>Kilgore</td>\n",
       "      <td>Drop The Hammer (Album Version)</td>\n",
       "    </tr>\n",
       "    <tr>\n",
       "      <th>1449384</th>\n",
       "      <td>89058561f2d633baf415db0ac35aefedd0e4378c</td>\n",
       "      <td>SOBONKR12A58A7A7E0</td>\n",
       "      <td>111</td>\n",
       "      <td>Dwight Yoakam</td>\n",
       "      <td>You're The One</td>\n",
       "    </tr>\n",
       "    <tr>\n",
       "      <th>1450200</th>\n",
       "      <td>f30198d7d45a33aad84e2f49853dc12ba180a701</td>\n",
       "      <td>SOMEILB12AB01870CD</td>\n",
       "      <td>144</td>\n",
       "      <td>Carter Burwell</td>\n",
       "      <td>Bella's Lullaby (Twilight Soundtrack Version)</td>\n",
       "    </tr>\n",
       "  </tbody>\n",
       "</table>\n",
       "<p>954 rows × 5 columns</p>\n",
       "</div>"
      ],
      "text/plain": [
       "                                          user_id  ...                                        release\n",
       "4043     ab8218336efff9f880d3a0e24b53a7aa7ebbf4b6  ...                Clara meets Slope - Hard To Say\n",
       "5056     96deca47a75bb70478c086f435426485d575746a  ...                                      High Noon\n",
       "5064     96deca47a75bb70478c086f435426485d575746a  ...                                  Confide In Me\n",
       "5068     96deca47a75bb70478c086f435426485d575746a  ...                                    Por Besarte\n",
       "9376     8463ade505658a6f70e9cfaa948b3b8515e18072  ...                   Lucifer & Jane  (LP Version)\n",
       "...                                           ...  ...                                            ...\n",
       "1447287  ab979b06c4f6230267e66c6cb64e5d0ea24fc1ea  ...                                        You & I\n",
       "1447541  4b4ff0c1b288b1b33a2e5f5cc9ce534a3a4446de  ...                                       This One\n",
       "1449167  22bb29714137fa47083963c30e1a26f1bf517e7d  ...                Drop The Hammer (Album Version)\n",
       "1449384  89058561f2d633baf415db0ac35aefedd0e4378c  ...                                 You're The One\n",
       "1450200  f30198d7d45a33aad84e2f49853dc12ba180a701  ...  Bella's Lullaby (Twilight Soundtrack Version)\n",
       "\n",
       "[954 rows x 5 columns]"
      ]
     },
     "execution_count": 72,
     "metadata": {
      "tags": []
     },
     "output_type": "execute_result"
    }
   ],
   "source": [
    "df_final[df_final['freq']>=100]"
   ]
  },
  {
   "cell_type": "code",
   "execution_count": 74,
   "metadata": {
    "colab": {
     "base_uri": "https://localhost:8080/"
    },
    "id": "TGisdRXU99hx",
    "outputId": "f4bcecf4-bce7-4e2b-c78b-32474acfd707"
   },
   "outputs": [
    {
     "data": {
      "text/plain": [
       "761"
      ]
     },
     "execution_count": 74,
     "metadata": {
      "tags": []
     },
     "output_type": "execute_result"
    }
   ],
   "source": [
    "df_final[df_final['freq']>=100]['song_id'].nunique()\n",
    "#there are 761 unique songs users listen each song more than or eqqual to 100 times"
   ]
  },
  {
   "cell_type": "code",
   "execution_count": 78,
   "metadata": {
    "colab": {
     "base_uri": "https://localhost:8080/"
    },
    "id": "xISJeLqS-TES",
    "outputId": "a58b2055-f588-44d9-c45c-88786ef2308c"
   },
   "outputs": [
    {
     "data": {
      "text/plain": [
       "array(['SOJSXJY12A8C13E32E', 'SOFTZUB12AB0188C67', 'SOOFEHM12A8AE457B4',\n",
       "       'SOPGFGG12A8C136E3A', 'SOFGTEF12AB0185FF9', 'SOKENKR12AB01828F7',\n",
       "       'SOAUWYT12A81C206F1', 'SOTFCUM12A6D4F7D0B', 'SOEPDNA12AC3DF9820',\n",
       "       'SOZVILY12AB01855ED', 'SOYBLYP12A58A79D32', 'SOSYLXK12A8C13F738',\n",
       "       'SOQLHST12AB0184A27', 'SOMMONH12A6D4F41CD', 'SOLGLUC12AB018A8FA',\n",
       "       'SOIKQFR12A6310F2A6', 'SOPUCYA12A8C13A694', 'SOJYISZ12A8C135F5A',\n",
       "       'SODLLYS12A8C13A96B', 'SOOWXAQ12AB0188996', 'SOTEGWG12AB01897AC',\n",
       "       'SOUNJIO12AB0181339', 'SOSJRJP12A6D4F826F', 'SONQCXC12A6D4F6A37',\n",
       "       'SOMGVYU12A8C1314FF', 'SOHPOMX12A58A7D506', 'SOBVCRB12A8C139012',\n",
       "       'SOTRQKZ12AB018E90B', 'SOIZFTE12AB0186842', 'SOMOFOP12AB01825DD',\n",
       "       'SOUVNUS12A8C14566E', 'SOQZQTH12AB0189AB8', 'SOACBLB12AB01871C7',\n",
       "       'SOZCDWG12A6D4F81E1', 'SOYXUDL12A582A2695', 'SONPZTQ12A8C13865E',\n",
       "       'SORIWEH12A8C13D4A6', 'SOEGIYH12A6D4FC0E3', 'SOMXSTV12AB018AA6E',\n",
       "       'SOWAHLO12A8C13BB33', 'SOXJFKD12A3F1EA31A', 'SOLTNCZ12A8C13FB4B',\n",
       "       'SOSXLTC12AF72A7F54', 'SOZDUTV12AB0183683', 'SOUEXOI12AB0189BA4',\n",
       "       'SOLCHMG12AB018422E', 'SOUNZHU12A8AE47481', 'SOAXGDH12A8C13F8A1',\n",
       "       'SONZNOZ12AB0184CA7', 'SONMXYK12AAF3B20EC', 'SOEOTVW12A8C1454C3',\n",
       "       'SOWZBJH12A8C1345DA', 'SONIJFN12A6D4F7A7A', 'SOQAXMJ12A8AE4673D',\n",
       "       'SOKZEGL12AB0187199', 'SOVSPCM12A67ADE7A8', 'SOBCNJU12A8C13F270',\n",
       "       'SOEPWYH12AF72A4813', 'SOLDJLX12A6D4F9A78', 'SORWJSF12A8C138AB6',\n",
       "       'SOWLFNL12AB017DB20', 'SOAZZRU12AB0182B0E', 'SOECDQQ12A6D4FAE07',\n",
       "       'SOFNMRS12AB017B420', 'SOLZPLS12A6D4F8C0D', 'SONGFCZ12AB01859AD',\n",
       "       'SOGTDQN12AC46881EE', 'SODUSRP12A6D4FA762', 'SOODZZZ12A6D4F7567',\n",
       "       'SOVDSJC12A58A7A271', 'SOTLHUV12A6D4FC541', 'SODCNEE12A6310E037',\n",
       "       'SOQGSUC12A8C13B66D', 'SOHNTQO12A8C134D13', 'SOVWBYM12A6D4F8A22',\n",
       "       'SOPVJNI12A81C219B9', 'SOVXELC12A8AE45ACD', 'SOGRAGY12A6D4F7248',\n",
       "       'SOPSOHT12A67AE0235', 'SOLTHPK12A58A7A679', 'SOKUOXE12A8C13464F',\n",
       "       'SOEZTQZ12A6D4F5820', 'SOMGSOH12A58A7910D', 'SOQCGHN12AB0181246',\n",
       "       'SOWAWSK12A8C1383B2', 'SOBLBDY12A58A7946C', 'SOQHDAV12A670206FE',\n",
       "       'SOOGSKM12AB018B11D', 'SOIZAZL12A6701C53B', 'SOXGIWN12A6310E0D8',\n",
       "       'SONGTTS12A6701E59A', 'SOPGMVN12A81C21EC8', 'SOCYUIN12A8C13AB8D',\n",
       "       'SOPJPMB12A8AE4862B', 'SORJSQI12A6701D62D', 'SOAPBSH12A58A80492',\n",
       "       'SOZNLBZ12A6D4F639E', 'SOTEEWK12A8C13B705', 'SOTSJBD12A670214A4',\n",
       "       'SOJMTFH12A8AE472E7', 'SOQZJMR12A6D4F9034', 'SOCVBFV12A6701FB94',\n",
       "       'SOACTJP12A67ADE925', 'SOELRWA12A8C142D0A', 'SONQCSP12AB0183292',\n",
       "       'SOHLYTJ12A6D4F9D8A', 'SOLEKZN12AF72A5261', 'SOIVTIS12AB018757B',\n",
       "       'SOQUDJA12A8C1412A5', 'SOCGMIW12AB018030A', 'SOIALDY12A58A76D61',\n",
       "       'SOOMOCL12A8C1334B2', 'SOWOOBT12A67AE00B6', 'SOYYGBZ12A6310F23A',\n",
       "       'SONURQC12AB018B245', 'SOSNOSA12A67ADA05B', 'SODPSYG12A8C145EBF',\n",
       "       'SOANOQW12A58A793D2', 'SOBANHD12A58A7BB7C', 'SOUFTBI12AB0183F65',\n",
       "       'SOJDPRJ12A58A7A568', 'SOBFUPC12AB018703B', 'SOFCUIP12A6D4F8072',\n",
       "       'SOTNHIP12AB0183131', 'SOQXBZN12AB018610A', 'SORKDWS12A6701E6D9',\n",
       "       'SOBDDJN12A6D4F698F', 'SOHUATK12AB017EB65', 'SOSPSPH12AF72A72D9',\n",
       "       'SOXAAFS12A8C14041D', 'SOVUMDZ12A8C13E621', 'SOYHUGQ12A6D4F7821',\n",
       "       'SOZPLKR12A6D4F8421', 'SOOFYTN12A6D4F9B35', 'SOCNAXF12A6D4F9B34',\n",
       "       'SOFFYBZ12A8C14178C', 'SODWONG12A8C1421B3', 'SOHEMBB12A6701E907',\n",
       "       'SOSRIHB12A8C13608B', 'SOKNHPO12A8C1435F9', 'SOPXKYD12A6D4FA876',\n",
       "       'SODWQRV12A8C13B85C', 'SOBFRNE12A6D4F7995', 'SOUDLVN12AAFF43658',\n",
       "       'SOBONKR12A58A7A7E0', 'SOIOZHO12AB017FE5E', 'SOILBYK12A6D4F79DB',\n",
       "       'SOVAEBJ12A58A7A364', 'SOBVLUD12AB0183D83', 'SOLGPOU12A58A7EA20',\n",
       "       'SODWLOQ12AB017EC73', 'SOLVLFW12A67020A3F', 'SOZGSKJ12A6D4FA879',\n",
       "       'SOBYXAH12AB01884D9', 'SONEWAX12AB018DD3F', 'SOLHTJY12A58A7AFE7',\n",
       "       'SOTKTQG12A6BD5294E', 'SOESAFA12AB01878EF', 'SOHTKMO12AB01843B0',\n",
       "       'SORWNVJ12AC3923CDC', 'SOBCOWD12A6701FD78', 'SOPLAHV12A8C13D110',\n",
       "       'SOEPQXD12A58A7BBFE', 'SOGSGHP12AB01870E0', 'SOTVFTN12AB017E8EF',\n",
       "       'SOIPJAX12A8C141A2D', 'SOPZSEZ12A6D4F74AE', 'SORCRFM12A58A7D1A0',\n",
       "       'SOJAUDJ12A67021398', 'SOEZFFS12A58A75BAB', 'SOPABCB12AB018124F',\n",
       "       'SOEQXSS12AF729EE8D', 'SOWEFXC12A6D4FA230', 'SOTVLQY12A58A798C2',\n",
       "       'SOUJJUO12A6701E336', 'SOZPMJT12AAF3B40D1', 'SOKYHYL12A8C13D79D',\n",
       "       'SOYHVSN12AB0181660', 'SOUBXHB12A81C231CC', 'SOGKTNS12A58A7C887',\n",
       "       'SOGMWPU12A8C13A97A', 'SOWEJXA12A6701C574', 'SONAPND12A6701F6CA',\n",
       "       'SOBTAOG12A6D4F9359', 'SOYFNQM12A8C14264B', 'SOLAEGP12AB018C40E',\n",
       "       'SOGZOIP12A6D4FB934', 'SOQWHFM12A8C138FF8', 'SOKIKWC12A6D4F98D8',\n",
       "       'SOBPEXK12A58A77F84', 'SOOXKGC12A6701F7A1', 'SODNDDS12AB017F3D1',\n",
       "       'SOPZEII12A67ADBA10', 'SOQIKXH12A6D4FD113', 'SODGVGW12AC9075A8D',\n",
       "       'SOJWSGL12A81C217B0', 'SOKPPGR12A81C217A7', 'SOIBXCA12A81C217B3',\n",
       "       'SOURKWT12A81C217C1', 'SOFXTMG12A81C217A4', 'SOWZUEB12A8C12FF12',\n",
       "       'SOZFWXQ12A58A7C631', 'SOCHWPT12AB0184F15', 'SOSNWNR12A6D4FDAF8',\n",
       "       'SORIUGO12A6D4F8902', 'SOYSITI12AB018B67B', 'SOCLLIB12AB017E9F5',\n",
       "       'SODAMPH12A6D4F84F6', 'SOYIEGB12A6D4F8C07', 'SODCRSD12A6D4FC427',\n",
       "       'SOGHPTS12A8C1313E5', 'SOLHDWB12A8AE47B59', 'SOPBSMV12A6D4FBDDB',\n",
       "       'SOJLDIQ12A58A7E506', 'SOXMTCY12A67AD8139', 'SOTVZIB12A6D4F694A',\n",
       "       'SOFWDRB12A8C134350', 'SOBASRJ12AC4686688', 'SOFVZRE12A8C139783',\n",
       "       'SOJGRIS12AB018B889', 'SOXLOQG12AF72A2D55', 'SOQSTHI12A8C13F4D4',\n",
       "       'SOTOXBH12AAF3B5B96', 'SOWYYUQ12A6701D68D', 'SOJWFXM12A3F1EBE8B',\n",
       "       'SOHSRVW12A58A7ED17', 'SOJAKUR12AB017FED8', 'SOVHKJL12AB017E2B2',\n",
       "       'SOJUXGA12AC961885C', 'SOLWAHM12AB018EBC8', 'SOMKNPS12AB018885F',\n",
       "       'SOLPRQS12A58A7BA78', 'SOJRSDU12A58A7CB2A', 'SOQXLHM12A8C13CA11',\n",
       "       'SOUBQGZ12A8C131BB8', 'SOZNHLC12A8C1392E0', 'SOZJUSJ12A8C13C249',\n",
       "       'SOGQNZK12AB0184E50', 'SOOZAEJ12A6BD530F2', 'SOIPYPB12A8C1360D4',\n",
       "       'SOUITQM12AB01894C0', 'SOUBZPQ12A8C13629D', 'SOPGCOH12A8C139789',\n",
       "       'SOFNQWJ12A8C13A9CB', 'SOPDVTD12A8C13618B', 'SOGLBYS12AB0184353',\n",
       "       'SOCSPOS12A58A7EBE7', 'SOJZSWQ12A8C13BD47', 'SOFFXAQ12A8AE45C2E',\n",
       "       'SOWQMMX12AB017DBE2', 'SOFJMQW12AF72AA3D7', 'SOPAQUF12AB0181802',\n",
       "       'SOPBFHP12A8C131F30', 'SOESAES12A8C139A7B', 'SONWWPR12A6D4FB657',\n",
       "       'SOPTPWD12A6D4FBD4E', 'SOWUKPB12A8C13F320', 'SOPTEDB12AB018441B',\n",
       "       'SOGKNQF12AB017FD67', 'SOIGFML12AB017F3C7', 'SOJJDMT12A6D4F72FB',\n",
       "       'SOHAYPS12A8C13A90C', 'SOCUHEP12AB017B563', 'SOTUARP12A8C13CB54',\n",
       "       'SORJNMJ12A8C13D994', 'SOXYWQM12A6D4F970A', 'SODCNJX12A6D4F93CB',\n",
       "       'SOGRSUM12A8C13480A', 'SOBMKJU12A6D4F7128', 'SOVVMWG12A58A79EFB',\n",
       "       'SOTQTRW12A58A7B996', 'SOTOJEN12A8C13D853', 'SOBAPGM12AB0183DC5',\n",
       "       'SOSXTUO12A6D4F916B', 'SOXZOMB12AB017DA15', 'SOZCWQA12A6701C798',\n",
       "       'SOVEDOZ12AB01873A1', 'SOPUONM12A81C203D7', 'SODFUIQ12A58A79DDF',\n",
       "       'SOCFRJS12A6D4FC40F', 'SOHQBNE12A58A797DA', 'SOCPJGO12AB017DD6C',\n",
       "       'SOMLUGI12A6D4FAC40', 'SONDKOF12A6D4F7D70', 'SOCINTC12AB01875D9',\n",
       "       'SOKDJBD12A8C133826', 'SOYUKQE12A58A79066', 'SOSAZWK12AC468D8C2',\n",
       "       'SOCHRXB12A8AE48069', 'SOVJPAR12AB018D58F', 'SOAIWAB12A8C13710A',\n",
       "       'SOSGEGU12AB018188A', 'SOITRTA12A6D4F8261', 'SOMRYYN12A6310F0F3',\n",
       "       'SOVIYTP12AAA15D725', 'SOGLWGG12A6D4F8046', 'SOLTAEJ12A8C13F793',\n",
       "       'SOOXLIG12AB0185803', 'SOZVYBA12A8C142618', 'SOAOXTG12A67021AA7',\n",
       "       'SOOFZHI12A6702045F', 'SOYKUYC12AB017F2C2', 'SORUNPI12A6D4F9C30',\n",
       "       'SOIOZPV12A58A7880B', 'SOVRMZU12AB017FE90', 'SOQREYK12AF72A0168',\n",
       "       'SOQXRZR12AB018C6C6', 'SODYJTK12A8C142E78', 'SOFKVPB12A58A7EE65',\n",
       "       'SOGRKQK12A6310E81A', 'SODGJKH12AAA8C9487', 'SOIVEPZ12A58A7D654',\n",
       "       'SOCNAPQ12AAA15EE26', 'SOJRDNG12A6D4F9119', 'SOCYOTN12A8C13A4B1',\n",
       "       'SOWVBKZ12A6701E2F1', 'SOMAOJJ12A8C1373E2', 'SOQHOUQ12A6D4F8DA9',\n",
       "       'SOMSQJL12A58A769EB', 'SOXMIOW12A8C1375D5', 'SOBMNXE12A8C140F8A',\n",
       "       'SOXNSGR12AF72A1AA9', 'SOSVMQS12A8C13A5E6', 'SOYTIYM12AB018B743',\n",
       "       'SOLCKBV12A8C13CEC1', 'SOIHQHJ12A8C1399C9', 'SOVVKNM12A8C139B2A',\n",
       "       'SOWJSLK12A6D4F94B9', 'SONIQRE12AF72A2B02', 'SOKPYGS12AB0180913',\n",
       "       'SONHLJN12A81C2169B', 'SONYMUG12A8C136FE5', 'SOAXMHT12A8C133D6C',\n",
       "       'SOYXAUC12A8AE453A0', 'SOQZYQH12A8AE468E5', 'SOZFTGT12A8C13BBA3',\n",
       "       'SOOQPPL12AB017D2E3', 'SOQGOPT12AAF3B2B27', 'SOPJCOG12AB0183322',\n",
       "       'SOWGTFY12AB017A88F', 'SOTTJUW12A8C1407B5', 'SOLTKXV12A8C1333F4',\n",
       "       'SOHWXEU12A8C1320D1', 'SOIITPI12AF72A5553', 'SOYHLCR12A8AE47DA4',\n",
       "       'SORUSZO12AB01812C4', 'SOFIBNI12A58A7A765', 'SOJXAMZ12AF72ABD3C',\n",
       "       'SOQZQQG12A8AE48EF0', 'SORYRJI12A8C132747', 'SOUCASL12AB0184B6B',\n",
       "       'SOIEWZJ12A679AE55A', 'SOKRAMY12A8C140804', 'SONQXSD12A8C13245C',\n",
       "       'SONWOVR12A81C20F6D', 'SOTGNIO12AB0184317', 'SOMGBDD12A58A78C88',\n",
       "       'SOZHRXQ12A8C136EC4', 'SODLVXI12AAF3B49C4', 'SOUZIOW12A8C142A3E',\n",
       "       'SOCJBOJ12A8C142D05', 'SOILFUU12AB017C75F', 'SOEQKZD12AB0185A13',\n",
       "       'SOZGXYF12AB0185579', 'SOSJBQM12A8C1423D2', 'SOJTDUS12A6D4FBF0E',\n",
       "       'SOEHZUQ12A3F1EBC10', 'SOBZZER12A6D4F7FA6', 'SOTVLHC12A6701EA31',\n",
       "       'SOPVIMD12A6D4FC150', 'SOGBFOO12A6D4FC933', 'SORAKQP12A58A7D699',\n",
       "       'SOKMZUI12A8AE49036', 'SOBPZLF12A8C145811', 'SOLDVPD12AF729B92F',\n",
       "       'SODJYMH12A8AE46EA5', 'SOPZXWU12AB018228C', 'SOJQOIK12AF72A0AAF',\n",
       "       'SOOONKL12AB0187911', 'SOGLRAT12A6D4FC502', 'SONKVIV12A6D4FAAC5',\n",
       "       'SOFDBEA12A67ADD058', 'SOALYAV12A8C133DC2', 'SOFVZOQ12AB018146B',\n",
       "       'SOCNADH12AC9097108', 'SONZNUB12A8C133206', 'SOMFAYR12A8C1309CC',\n",
       "       'SOGTADO12AB0187A02', 'SOKWYIS12A6D4F90BA', 'SOKCXXE12A6D4F5A04',\n",
       "       'SOFVLYV12A8C145D8F', 'SORQQOH12A58A7F638', 'SOQNZJU12AB018574E',\n",
       "       'SOLZMUW12A67ADEA51', 'SOKUBOH12A8C131BD1', 'SOECBHL12AB018C091',\n",
       "       'SOWEWRL12A58A7961F', 'SODALYQ12AB017EED4', 'SOHJNMC12A8C139C84',\n",
       "       'SOGZPSN12A8AE48A0C', 'SOPZPRR12A58A7CF92', 'SODFONJ12A8C136042',\n",
       "       'SOUMVOX12AB018298E', 'SOJBFFO12A6D4F6D00', 'SODPHMM12A8C13BA76',\n",
       "       'SOVGHSQ12A8C13BA9C', 'SONLENL12A6D4F7E1E', 'SODPEFV12A6D4F7E19',\n",
       "       'SOVGNMP12A8BED7531', 'SOJDRUC12A58A7820E', 'SOYQGAQ12AB0186ACE',\n",
       "       'SOYCLCK12AB017C857', 'SOALYOT12A8C142567', 'SOSLPTU12A8C1445D7',\n",
       "       'SOBOAFP12A8C131F36', 'SOBNQBQ12A6D4FB17C', 'SOQXWGV12A8AE451AF',\n",
       "       'SOKAHZG12A8C14425D', 'SOWHSGK12A6D4FC429', 'SOUVIUP12A6D4F7682',\n",
       "       'SORJICW12A8C13640D', 'SODVOKX12AF72A9347', 'SOALVOP12A6D4F5DA1',\n",
       "       'SOKSREW12A6D4F926D', 'SOXLSBV12AB018397A', 'SOILTTU12A67ADE5FE',\n",
       "       'SOGSSAS12AB0184F7E', 'SOFNERN12A8C13D78D', 'SOZIJPB12A6D4FA6BB',\n",
       "       'SOZEBAZ12AF72A80C8', 'SOMNTMT12A8C1400F6', 'SOLMKTS12A8AE46C27',\n",
       "       'SOSOIFC12A58A7A362', 'SOTCMDJ12A6D4F8528', 'SOTVJCB12A8C136E46',\n",
       "       'SOIOESO12A6D4F621D', 'SODZJCH12A8C132ADC', 'SOVIYKB12A6D4F936B',\n",
       "       'SODBJHO12AB01850CD', 'SOHFNKO12AB017C772', 'SONRHCE12A8C145C4F',\n",
       "       'SOIHGNU12A58A7AFD7', 'SOCBSZW12AB01891C1', 'SOUSKZE12A6D4FC70C',\n",
       "       'SOKNZYY12AF72A82A2', 'SOZCFFJ12AB0181564', 'SOTMLOE12A8C133F15',\n",
       "       'SOFACLA12A8C13F471', 'SOMUVMH12A6701C5FD', 'SOKZIJM12A6D4F97E2',\n",
       "       'SOSURBM12AB01898C9', 'SOJFQWU12A8C1448C7', 'SOPWUCY12A8C13932E',\n",
       "       'SOJVIHS12AC3A3E7F8', 'SOZUVIT12AB018B425', 'SONNOWO12AB0184A52',\n",
       "       'SOCFCEH12AC468DAA0', 'SOFTETC12A67AD74B1', 'SOVEEDI12AB0180CDF',\n",
       "       'SOAKMDU12A8C1346A9', 'SOGBVZW12A6D4FAFC9', 'SOFNYRK12A8C1371AA',\n",
       "       'SOCTUIP12A6702085B', 'SOAOAWR12A58A7B7BE', 'SONAMGX12A8C13545C',\n",
       "       'SOXNLQG12A8C141604', 'SOMAZDN12AB01813A8', 'SOZBANF12A81C23563',\n",
       "       'SOZWVEH12A6D4F7C37', 'SOFTHHP12A6D4F8B4E', 'SONHWUN12AC468C014',\n",
       "       'SOZTXNV12A8AE4516E', 'SOLGIWB12A58A77A05', 'SOCHYDE12A8C13E438',\n",
       "       'SOWULFH12A81C225EA', 'SOAWHZI12A6D4F804B', 'SOCEBPI12A58A7D08E',\n",
       "       'SOVTQLS12A6D4F8350', 'SOWZMGC12AB018612C', 'SOFLAPD12AB0188B62',\n",
       "       'SOALEQA12A58A77839', 'SOFBHEZ12A6701EAFC', 'SOTNKLI12AB0189CAA',\n",
       "       'SOMXQGH12A8C13CBEF', 'SOSBLHB12AB018895D', 'SOQLAIR12A8C13E221',\n",
       "       'SOITMVZ12A6D4F9A9B', 'SOXBHCJ12A8C13BA43', 'SOFPXSN12A6D4F6BD1',\n",
       "       'SOMEUED12A6701DBEA', 'SOTKVNF12A8C133D0D', 'SONFUBW12AB017F5FD',\n",
       "       'SOPDTEX12AB01847D0', 'SOAHHWM12A8C1434B6', 'SOFSGLT12AB018007B',\n",
       "       'SOICZHZ12AAA8C6654', 'SOHTCVN12A8C134E46', 'SOMDTXU12A8AE47430',\n",
       "       'SOWNIWL12AB017B720', 'SOEOLGZ12A8C134706', 'SOVMOPY12A8AE45F65',\n",
       "       'SOPMHHE12AB01845F6', 'SOMGJAD12A8C13A9A6', 'SOVGLTY12AF72A39CD',\n",
       "       'SOFUIUA12AC90752D4', 'SOPUDWU12A8AE4612A', 'SOLVMWK12A6D4F9859',\n",
       "       'SOFKSHF12A8AE47889', 'SOUZBUD12A8C13FD8E', 'SOIHUUT12AF72A2188',\n",
       "       'SOUMPJA12AAF3B3FD0', 'SOLXSIC12A6D4FA9AC', 'SONRYRS12A8C139DCE',\n",
       "       'SOSCSGN12A6D4F9B01', 'SOODTBU12AB0186A1F', 'SOYDNDN12A58A77663',\n",
       "       'SOXBCZH12A67ADAD77', 'SONSHLY12A6701EB77', 'SOOWZVV12AB0185EF2',\n",
       "       'SODDHOE12A58A7AC2F', 'SOWGOUK12A8C136AA6', 'SOOKPSN12A8AE4705A',\n",
       "       'SOFGBKU12A8AE47038', 'SOUTQKY12A8AE4703D', 'SOSFVDJ12AB017D672',\n",
       "       'SOZCXHW12A8C13AF62', 'SOFRZZT12A8C1351E6', 'SOHKSRH12A6701F66F',\n",
       "       'SOBBMXL12A6D4F767B', 'SOYMDXJ12A58A7C15B', 'SOFHXKM12A6D4F7765',\n",
       "       'SOWASMO12AAF3B338A', 'SOTZYRP12A58A7D3CF', 'SODWEBL12A8C141866',\n",
       "       'SOCQPKP12A8C13BF2D', 'SOLUSYD12AB0187024', 'SOZGXIP12A6D4FB50F',\n",
       "       'SOSYVNJ12AB01829E8', 'SOTBAIK12A6310DFAA', 'SOXKSNU12A58A7A8E3',\n",
       "       'SOTFIPT12A6701F2FA', 'SONBUIS12AAFF44565', 'SOAOSDF12A58A779F1',\n",
       "       'SOSHEAQ12A8C13CBC8', 'SOTSJDX12AF72A9AFD', 'SONZPPA12AF72A9E13',\n",
       "       'SOXJOZW12A6701E90E', 'SODITHX12A8AE46248', 'SOSMWMA12A6D4F7243',\n",
       "       'SONVPTP12A6D4F7A34', 'SOFLOUP12A58A78897', 'SOTTGNU12A67020491',\n",
       "       'SOUXMUL12A6D4FBD08', 'SODZHVJ12A8C13DB29', 'SOAZWZQ12A58A7B302',\n",
       "       'SOBRHVR12A8C133F35', 'SORQBYM12AB018ABA2', 'SOPZFOA12A8C13849F',\n",
       "       'SOOMNGN12A6D4FA4BF', 'SOMAKIT12A58A7E292', 'SOOZGTQ12A6D4F74F2',\n",
       "       'SOWEHOM12A6BD4E09E', 'SOBWKQC12A6D4F621E', 'SORVQLB12A8C131523',\n",
       "       'SOWDDNU12B0B809467', 'SOYABSZ12A81C1FEAC', 'SOCEIXD12A8C133B95',\n",
       "       'SONGCQI12A6D4FA682', 'SOHUFCT12A8151E05B', 'SOVXXJJ12AC4686528',\n",
       "       'SOUIEEX12A6D4F858C', 'SOIBSSJ12A8151E066', 'SOTGGLG12AC468B85F',\n",
       "       'SOGPUZS12A8C1349C8', 'SOYXKEN12AB018541B', 'SOPULUO12A8C13EB9F',\n",
       "       'SODHZSM12A58A7B5D9', 'SOYWPMG12A6D4F901A', 'SOAUDQF12A6D4F8B8D',\n",
       "       'SOMUFSJ12AB0182C55', 'SOPXFGP12A8C13FA9F', 'SOKGUUL12A6D4FE599',\n",
       "       'SODMKJP12AB018E28D', 'SOFUUYC12A8AE47443', 'SOWBOAH12A8C134559',\n",
       "       'SOBXKXD12A8C13B126', 'SOODRHW12A6310D8FF', 'SOLVRLL12A67020D7F',\n",
       "       'SOFZLFC12AB01858EB', 'SOKWSJO12A58A79BC3', 'SOKBTLR12AAA8C6656',\n",
       "       'SOEXUXT12A6701FFD9', 'SOPIJAI12AB01838F8', 'SOTGPCZ12A6D4FAEA5',\n",
       "       'SORAGYH12AAA15FD76', 'SOQCEYC12AB017D92D', 'SOGZIOM12A8C14025D',\n",
       "       'SOSQJWM12A6D4F79E0', 'SORHRZK12AB018187A', 'SOTWNDJ12A8C143984',\n",
       "       'SOCHZVH12AB017C522', 'SOYRLND12AB018065C', 'SONYVJQ12A8C13DB65',\n",
       "       'SOWNHVS12A8AE46D27', 'SOKXXTK12A8C1357CF', 'SOGFWUD12A6D4F6A71',\n",
       "       'SOYRTVQ12AB018BD14', 'SOBDKVR12A8C13E705', 'SOJQTAY12A8C13AFDA',\n",
       "       'SOYGQSW12AB0185688', 'SOKIYKQ12A8AE464FC', 'SOZRYCX12AC468A303',\n",
       "       'SOHRQFL12A6D4F3C8A', 'SOUIBQV12AF729E50D', 'SOFGEDR12A8C13FBD3',\n",
       "       'SODNOWW12A8C1450DD', 'SOXZFSB12AB017EC5B', 'SOFIPHI12AAF3B3DB2',\n",
       "       'SOTHEUK12AC90971F3', 'SOCNIFM12A8C13D73B', 'SOHXHWB12A58A7ACD1',\n",
       "       'SOXUQNR12AF72A69D6', 'SOOBYJS12A6D4FAB2E', 'SODPKNB12AF72ACEBA',\n",
       "       'SOZUVYE12AB017CA2D', 'SOJXIDI12A6D4F4444', 'SOFKABN12A8AE476C6',\n",
       "       'SOEHYJQ12A6D4F8058', 'SOTWCDE12AB018909C', 'SOFRQTD12A81C233C0',\n",
       "       'SOWDLPO12A6D4F72BB', 'SOZAEQI12AF72A5116', 'SOFPHEZ12A8C134DFB',\n",
       "       'SOFNMOU12A6D4F6892', 'SOTFIZA12A8C13D80F', 'SOUGCDK12AC95F075F',\n",
       "       'SOAAEJQ12A8C1437EF', 'SOHIOMW12B0B808A9B', 'SODZVOZ12A6D4F7CFF',\n",
       "       'SOGWZFC12A58A778BF', 'SODUWZY12AB0183594', 'SONWEHY12A58A796B5',\n",
       "       'SOVZHYS12A8C14663F', 'SOJDWBY12A8C13F6B2', 'SOXYRHQ12A58A77779',\n",
       "       'SOCZKYZ12A8C13C748', 'SOLLPYO12A8C13B38C', 'SOLFIMC12A8C136769',\n",
       "       'SOLZTYD12A8C143215', 'SOCSCRC12AB017C60C', 'SOSSNAE12AB0186585',\n",
       "       'SOQAJHW12AB0186004', 'SOIAVVU12A8C133CD8', 'SOIHRJH12A6D4F8ABF',\n",
       "       'SOWGFPG12A6D4F83E4', 'SONENUZ12A8C14230C', 'SOSYOHI12A8C144584',\n",
       "       'SOWOZZF12A8C133476', 'SOLWQQJ12A8C13A2BD', 'SOPFHKN12A8C141C9A',\n",
       "       'SOALRXW12A6D4F787D', 'SOWQXHG12AB0189D1A', 'SOAZGWE12A8C140EDF',\n",
       "       'SONYCOS12A5891F7E6', 'SOXDQPZ12A8C13F4FC', 'SOPHQGD12AB018561A',\n",
       "       'SOGPBAW12A6D4F9F22', 'SODWFXL12A6D4FB509', 'SOZBGGA12A8C135D6A',\n",
       "       'SONYEOJ12A8C142E86', 'SOVIZNF12AF72A710A', 'SOIFMIK12A58A791B5',\n",
       "       'SOPEERJ12A6D4F4536', 'SOCJKED12A6D4FD24E', 'SOZOIUU12A67ADFA39',\n",
       "       'SOGJYWQ12A6D4F7B2A', 'SOBRGZW12A8C13C541', 'SOCVNCZ12A58A77F01',\n",
       "       'SOUNNWW12AB018795D', 'SOUVTSM12AC468F6A7', 'SOOWJZM12A6D4F7995',\n",
       "       'SOVMADB12A8C137B96', 'SOWGPQK12A6701F299', 'SOSPAQW12A58A75619',\n",
       "       'SOTDCXR12A8AE48F76', 'SOGYDEG12A6D4F93C5', 'SODKBJP12A6D4F753D',\n",
       "       'SOPXMYF12A8C13FB16', 'SOYDHRV12AB0182B37', 'SOUMTMS12A6D4FDD9A',\n",
       "       'SORHUJT12A8C13B85E', 'SOVRIPE12A6D4FEA19', 'SOIAVQP12A8C13A813',\n",
       "       'SONGOJV12AF729AEBD', 'SOZQTAV12A58A80FF8', 'SOQANUA12AAF3B4628',\n",
       "       'SOFUDED12A81C218BD', 'SOOAYRA12A8C13C8BE', 'SOFBQBK12AC3DF9F44',\n",
       "       'SOYCNZF12A6D4F7F87', 'SORMLZF12A8C143FFA', 'SOWPTDD12A8C13247F',\n",
       "       'SOBWPDC12A6D4FACBC', 'SONZZHO12AB01892E1', 'SOBXRNA12AB01892D6',\n",
       "       'SOVKNEV12AB01892C5', 'SOVMCWX12A58A7D6E0', 'SOFEBZH12AB017FB35',\n",
       "       'SODJJIH12A6D4F793E', 'SOGQANL12A6701E099', 'SOWTLYJ12A8C13BC7C',\n",
       "       'SOWXUZK12AB018C0A8', 'SOEYKMZ12A58A813D5', 'SORFUWA12A58A80B26',\n",
       "       'SOFZNFR12A8C1395E5', 'SOQQQMM12A6310DFCC', 'SOQUCNO12AB018752E',\n",
       "       'SOLXQEG12A67AE2285', 'SOKBMTW12A8C13BC49', 'SOHUMQX12A8C140AE0',\n",
       "       'SODJWHY12A8C142CCE', 'SOMITCV12A58A781E5', 'SOVZBSB12A6D4F7CDF',\n",
       "       'SOSQIPK12A6D4F966A', 'SOUULHC12A6D4F9A4A', 'SOALFUO12AF72A4B98',\n",
       "       'SOXQBCW12AB018704A', 'SOVUYQD12A6310DBC7', 'SOUCAJA12AB0187236',\n",
       "       'SOBMVPB12A6D4FB90D', 'SOMNLUA12A8C143CF1', 'SOFCPOU12A8C13BF40',\n",
       "       'SOQBYQC12A8C143F2A', 'SOWOQPD12A8C136EF6', 'SOWCUCK12AB0182AD1',\n",
       "       'SOKKFDV12A6BD4DAA8', 'SOLFXKT12AB017E3E0', 'SOCPMIK12A6701E96D',\n",
       "       'SOWSCMF12A8AE456BB', 'SOZJHMG12A8C13C49E', 'SOZCBWK12A58A7DFA5',\n",
       "       'SONQEYS12AF72AABC9', 'SOMQHZK12A6D4F8074', 'SOBATYS12A58A76C6E',\n",
       "       'SOTLASX12AB0183993', 'SOVTYYJ12A8C13EE56', 'SOXEZLY12A8C137AB0',\n",
       "       'SOQPVXI12A6D4F7DC6', 'SOMWDXR12A8C13BBCA', 'SOLHFOM12AB017F654',\n",
       "       'SOMGIYR12AB0187973', 'SOFQEIP12A58A7AA7F', 'SOILNZM12AF72A791A',\n",
       "       'SOJJMWV12A67AE0ACB', 'SOYQKDL12AF729A9A6', 'SOYFRVX12AAF3B3F3E',\n",
       "       'SOPJRXK12AB0180079', 'SOVALCK12A8C13C1F7', 'SOAWUML12A6D4F3FE1',\n",
       "       'SOXTUWG12AB018A2E2', 'SOMEILB12AB01870CD'], dtype=object)"
      ]
     },
     "execution_count": 78,
     "metadata": {
      "tags": []
     },
     "output_type": "execute_result"
    }
   ],
   "source": [
    "df_final[df_final['freq']>=100]['song_id'].unique()\n",
    "#these are the 761 unique songs that users listen each song more than or eqqual to 100 times"
   ]
  },
  {
   "cell_type": "code",
   "execution_count": 73,
   "metadata": {
    "colab": {
     "base_uri": "https://localhost:8080/"
    },
    "id": "q9x8xJxL9Oow",
    "outputId": "0aeccfa4-485e-4fb7-c6b1-8d936c7c7860"
   },
   "outputs": [
    {
     "data": {
      "text/plain": [
       "793"
      ]
     },
     "execution_count": 73,
     "metadata": {
      "tags": []
     },
     "output_type": "execute_result"
    }
   ],
   "source": [
    "df_final[df_final['freq']>=100]['user_id'].nunique() \n",
    "# there are 793 users who listens some songs more than or equal to 100 times"
   ]
  },
  {
   "cell_type": "code",
   "execution_count": 80,
   "metadata": {
    "colab": {
     "base_uri": "https://localhost:8080/",
     "height": 470
    },
    "id": "ud-Va6CS_en9",
    "outputId": "351dceb1-f904-4511-eb4b-8a66d68498d8"
   },
   "outputs": [
    {
     "data": {
      "text/html": [
       "<div>\n",
       "<style scoped>\n",
       "    .dataframe tbody tr th:only-of-type {\n",
       "        vertical-align: middle;\n",
       "    }\n",
       "\n",
       "    .dataframe tbody tr th {\n",
       "        vertical-align: top;\n",
       "    }\n",
       "\n",
       "    .dataframe thead th {\n",
       "        text-align: right;\n",
       "    }\n",
       "</style>\n",
       "<table border=\"1\" class=\"dataframe\">\n",
       "  <thead>\n",
       "    <tr style=\"text-align: right;\">\n",
       "      <th></th>\n",
       "      <th>user_id</th>\n",
       "      <th>song_id</th>\n",
       "      <th>freq</th>\n",
       "      <th>artist_name</th>\n",
       "      <th>release</th>\n",
       "    </tr>\n",
       "  </thead>\n",
       "  <tbody>\n",
       "    <tr>\n",
       "      <th>0</th>\n",
       "      <td>fd50c4007b68a3737fe052d5a4f78ce8aa117f3d</td>\n",
       "      <td>SOBONKR12A58A7A7E0</td>\n",
       "      <td>1</td>\n",
       "      <td>Dwight Yoakam</td>\n",
       "      <td>You're The One</td>\n",
       "    </tr>\n",
       "    <tr>\n",
       "      <th>1</th>\n",
       "      <td>fd50c4007b68a3737fe052d5a4f78ce8aa117f3d</td>\n",
       "      <td>SOEGIYH12A6D4FC0E3</td>\n",
       "      <td>1</td>\n",
       "      <td>Barry Tuckwell/Academy of St Martin-in-the-Fie...</td>\n",
       "      <td>Horn Concerto No. 4 in E flat K495: II. Romanc...</td>\n",
       "    </tr>\n",
       "    <tr>\n",
       "      <th>2</th>\n",
       "      <td>fd50c4007b68a3737fe052d5a4f78ce8aa117f3d</td>\n",
       "      <td>SOFLJQZ12A6D4FADA6</td>\n",
       "      <td>1</td>\n",
       "      <td>Cartola</td>\n",
       "      <td>Tive Sim</td>\n",
       "    </tr>\n",
       "    <tr>\n",
       "      <th>3</th>\n",
       "      <td>fd50c4007b68a3737fe052d5a4f78ce8aa117f3d</td>\n",
       "      <td>SOHTKMO12AB01843B0</td>\n",
       "      <td>1</td>\n",
       "      <td>Lonnie Gordon</td>\n",
       "      <td>Catch You Baby (Steve Pitron &amp; Max Sanna Radio...</td>\n",
       "    </tr>\n",
       "    <tr>\n",
       "      <th>4</th>\n",
       "      <td>fd50c4007b68a3737fe052d5a4f78ce8aa117f3d</td>\n",
       "      <td>SODQZCY12A6D4F9D11</td>\n",
       "      <td>1</td>\n",
       "      <td>Miguel Calo</td>\n",
       "      <td>El Cuatrero</td>\n",
       "    </tr>\n",
       "    <tr>\n",
       "      <th>...</th>\n",
       "      <td>...</td>\n",
       "      <td>...</td>\n",
       "      <td>...</td>\n",
       "      <td>...</td>\n",
       "      <td>...</td>\n",
       "    </tr>\n",
       "    <tr>\n",
       "      <th>1450916</th>\n",
       "      <td>fc072bde2043756ea30ff07e4a5311e34825b4df</td>\n",
       "      <td>SORSIEU12AB017DCEC</td>\n",
       "      <td>1</td>\n",
       "      <td>Chris Rea</td>\n",
       "      <td>Speed</td>\n",
       "    </tr>\n",
       "    <tr>\n",
       "      <th>1450920</th>\n",
       "      <td>fc072bde2043756ea30ff07e4a5311e34825b4df</td>\n",
       "      <td>SOOMYKI12A8C13943C</td>\n",
       "      <td>1</td>\n",
       "      <td>L.S.G.</td>\n",
       "      <td>Into Deep (Clubmix 2)</td>\n",
       "    </tr>\n",
       "    <tr>\n",
       "      <th>1450922</th>\n",
       "      <td>fc072bde2043756ea30ff07e4a5311e34825b4df</td>\n",
       "      <td>SOBOVYQ12A6D4F7CBA</td>\n",
       "      <td>1</td>\n",
       "      <td>Los Delinqüentes</td>\n",
       "      <td>Ya Nadie Te Quiere</td>\n",
       "    </tr>\n",
       "    <tr>\n",
       "      <th>1450926</th>\n",
       "      <td>5e650759ebf89012044c6d52121eeada8b0ec814</td>\n",
       "      <td>SODCNJX12A6D4F93CB</td>\n",
       "      <td>1</td>\n",
       "      <td>Natiruts</td>\n",
       "      <td>Jamaica Roots II(Agora E Sempre)</td>\n",
       "    </tr>\n",
       "    <tr>\n",
       "      <th>1450928</th>\n",
       "      <td>5e650759ebf89012044c6d52121eeada8b0ec814</td>\n",
       "      <td>SOVLNXV12A6D4F706E</td>\n",
       "      <td>1</td>\n",
       "      <td>Mos Def</td>\n",
       "      <td>Ms. Fat Booty</td>\n",
       "    </tr>\n",
       "  </tbody>\n",
       "</table>\n",
       "<p>839136 rows × 5 columns</p>\n",
       "</div>"
      ],
      "text/plain": [
       "                                          user_id  ...                                            release\n",
       "0        fd50c4007b68a3737fe052d5a4f78ce8aa117f3d  ...                                     You're The One\n",
       "1        fd50c4007b68a3737fe052d5a4f78ce8aa117f3d  ...  Horn Concerto No. 4 in E flat K495: II. Romanc...\n",
       "2        fd50c4007b68a3737fe052d5a4f78ce8aa117f3d  ...                                           Tive Sim\n",
       "3        fd50c4007b68a3737fe052d5a4f78ce8aa117f3d  ...  Catch You Baby (Steve Pitron & Max Sanna Radio...\n",
       "4        fd50c4007b68a3737fe052d5a4f78ce8aa117f3d  ...                                        El Cuatrero\n",
       "...                                           ...  ...                                                ...\n",
       "1450916  fc072bde2043756ea30ff07e4a5311e34825b4df  ...                                              Speed\n",
       "1450920  fc072bde2043756ea30ff07e4a5311e34825b4df  ...                              Into Deep (Clubmix 2)\n",
       "1450922  fc072bde2043756ea30ff07e4a5311e34825b4df  ...                                 Ya Nadie Te Quiere\n",
       "1450926  5e650759ebf89012044c6d52121eeada8b0ec814  ...                   Jamaica Roots II(Agora E Sempre)\n",
       "1450928  5e650759ebf89012044c6d52121eeada8b0ec814  ...                                      Ms. Fat Booty\n",
       "\n",
       "[839136 rows x 5 columns]"
      ]
     },
     "execution_count": 80,
     "metadata": {
      "tags": []
     },
     "output_type": "execute_result"
    }
   ],
   "source": [
    "df_final[df_final['freq']<=1] \n",
    "# this is the list of 1 time listened songs"
   ]
  },
  {
   "cell_type": "code",
   "execution_count": 81,
   "metadata": {
    "colab": {
     "base_uri": "https://localhost:8080/"
    },
    "id": "gxqaV-mG__O2",
    "outputId": "2f3f0a77-da18-42c6-be44-063d2a8199e7"
   },
   "outputs": [
    {
     "data": {
      "text/plain": [
       "user_id  song_id  freq   release\n",
       "False    False    False  False      28148\n",
       "True     True     True   True         213\n",
       "dtype: int64"
      ]
     },
     "execution_count": 81,
     "metadata": {
      "tags": []
     },
     "output_type": "execute_result"
    }
   ],
   "source": [
    "(df_final.groupby(by=['artist_name']).count()>1000).value_counts()\n",
    "# there are 213 artists whose songs had greater than 1000 users"
   ]
  },
  {
   "cell_type": "code",
   "execution_count": 82,
   "metadata": {
    "colab": {
     "base_uri": "https://localhost:8080/"
    },
    "id": "PPZeQojoAGnH",
    "outputId": "56619a00-a7c4-4508-8dd0-69eb7a453703"
   },
   "outputs": [
    {
     "data": {
      "text/plain": [
       "28361"
      ]
     },
     "execution_count": 82,
     "metadata": {
      "tags": []
     },
     "output_type": "execute_result"
    }
   ],
   "source": [
    "df_final.artist_name.nunique() # there are 28,361 unique artists are available"
   ]
  },
  {
   "cell_type": "code",
   "execution_count": 83,
   "metadata": {
    "colab": {
     "base_uri": "https://localhost:8080/",
     "height": 450
    },
    "id": "6hwp06niARxW",
    "outputId": "5c29939d-4499-40b6-e883-f95df2c2d181"
   },
   "outputs": [
    {
     "data": {
      "text/html": [
       "<div>\n",
       "<style scoped>\n",
       "    .dataframe tbody tr th:only-of-type {\n",
       "        vertical-align: middle;\n",
       "    }\n",
       "\n",
       "    .dataframe tbody tr th {\n",
       "        vertical-align: top;\n",
       "    }\n",
       "\n",
       "    .dataframe thead th {\n",
       "        text-align: right;\n",
       "    }\n",
       "</style>\n",
       "<table border=\"1\" class=\"dataframe\">\n",
       "  <thead>\n",
       "    <tr style=\"text-align: right;\">\n",
       "      <th></th>\n",
       "      <th>user_id</th>\n",
       "      <th>song_id</th>\n",
       "      <th>freq</th>\n",
       "      <th>release</th>\n",
       "    </tr>\n",
       "    <tr>\n",
       "      <th>artist_name</th>\n",
       "      <th></th>\n",
       "      <th></th>\n",
       "      <th></th>\n",
       "      <th></th>\n",
       "    </tr>\n",
       "  </thead>\n",
       "  <tbody>\n",
       "    <tr>\n",
       "      <th>!!!</th>\n",
       "      <td>109</td>\n",
       "      <td>109</td>\n",
       "      <td>109</td>\n",
       "      <td>109</td>\n",
       "    </tr>\n",
       "    <tr>\n",
       "      <th>!Deladap</th>\n",
       "      <td>3</td>\n",
       "      <td>3</td>\n",
       "      <td>3</td>\n",
       "      <td>3</td>\n",
       "    </tr>\n",
       "    <tr>\n",
       "      <th>&amp; And Oceans</th>\n",
       "      <td>2</td>\n",
       "      <td>2</td>\n",
       "      <td>2</td>\n",
       "      <td>2</td>\n",
       "    </tr>\n",
       "    <tr>\n",
       "      <th>'68 Comeback</th>\n",
       "      <td>22</td>\n",
       "      <td>22</td>\n",
       "      <td>22</td>\n",
       "      <td>22</td>\n",
       "    </tr>\n",
       "    <tr>\n",
       "      <th>'N Sync/Phil Collins</th>\n",
       "      <td>48</td>\n",
       "      <td>48</td>\n",
       "      <td>48</td>\n",
       "      <td>48</td>\n",
       "    </tr>\n",
       "    <tr>\n",
       "      <th>...</th>\n",
       "      <td>...</td>\n",
       "      <td>...</td>\n",
       "      <td>...</td>\n",
       "      <td>...</td>\n",
       "    </tr>\n",
       "    <tr>\n",
       "      <th>Étienne Daho</th>\n",
       "      <td>45</td>\n",
       "      <td>45</td>\n",
       "      <td>45</td>\n",
       "      <td>45</td>\n",
       "    </tr>\n",
       "    <tr>\n",
       "      <th>Íon</th>\n",
       "      <td>5</td>\n",
       "      <td>5</td>\n",
       "      <td>5</td>\n",
       "      <td>5</td>\n",
       "    </tr>\n",
       "    <tr>\n",
       "      <th>Ólafur Arnalds</th>\n",
       "      <td>78</td>\n",
       "      <td>78</td>\n",
       "      <td>78</td>\n",
       "      <td>78</td>\n",
       "    </tr>\n",
       "    <tr>\n",
       "      <th>Órla Fallon</th>\n",
       "      <td>1</td>\n",
       "      <td>1</td>\n",
       "      <td>1</td>\n",
       "      <td>1</td>\n",
       "    </tr>\n",
       "    <tr>\n",
       "      <th>Özlem Tekin</th>\n",
       "      <td>1</td>\n",
       "      <td>1</td>\n",
       "      <td>1</td>\n",
       "      <td>1</td>\n",
       "    </tr>\n",
       "  </tbody>\n",
       "</table>\n",
       "<p>28361 rows × 4 columns</p>\n",
       "</div>"
      ],
      "text/plain": [
       "                      user_id  song_id  freq  release\n",
       "artist_name                                          \n",
       "!!!                       109      109   109      109\n",
       "!Deladap                    3        3     3        3\n",
       "& And Oceans                2        2     2        2\n",
       "'68 Comeback               22       22    22       22\n",
       "'N Sync/Phil Collins       48       48    48       48\n",
       "...                       ...      ...   ...      ...\n",
       "Étienne Daho               45       45    45       45\n",
       "Íon                         5        5     5        5\n",
       "Ólafur Arnalds             78       78    78       78\n",
       "Órla Fallon                 1        1     1        1\n",
       "Özlem Tekin                 1        1     1        1\n",
       "\n",
       "[28361 rows x 4 columns]"
      ]
     },
     "execution_count": 83,
     "metadata": {
      "tags": []
     },
     "output_type": "execute_result"
    }
   ],
   "source": [
    "df_final.groupby(by=['artist_name']).count() "
   ]
  },
  {
   "cell_type": "code",
   "execution_count": 84,
   "metadata": {
    "colab": {
     "base_uri": "https://localhost:8080/",
     "height": 419
    },
    "id": "vHBlVMRYAXvI",
    "outputId": "57644282-e385-4fe6-95f9-ba4b36659d50"
   },
   "outputs": [
    {
     "data": {
      "text/html": [
       "<div>\n",
       "<style scoped>\n",
       "    .dataframe tbody tr th:only-of-type {\n",
       "        vertical-align: middle;\n",
       "    }\n",
       "\n",
       "    .dataframe tbody tr th {\n",
       "        vertical-align: top;\n",
       "    }\n",
       "\n",
       "    .dataframe thead th {\n",
       "        text-align: right;\n",
       "    }\n",
       "</style>\n",
       "<table border=\"1\" class=\"dataframe\">\n",
       "  <thead>\n",
       "    <tr style=\"text-align: right;\">\n",
       "      <th></th>\n",
       "      <th>user_id</th>\n",
       "      <th>song_id</th>\n",
       "      <th>freq</th>\n",
       "      <th>artist_name</th>\n",
       "      <th>release</th>\n",
       "    </tr>\n",
       "  </thead>\n",
       "  <tbody>\n",
       "    <tr>\n",
       "      <th>23550</th>\n",
       "      <td>6de4f2710a3cf3138394d931215224efac265abf</td>\n",
       "      <td>SORLTDE12A6D4F5705</td>\n",
       "      <td>1</td>\n",
       "      <td>!!!</td>\n",
       "      <td>Must Be The Moon</td>\n",
       "    </tr>\n",
       "    <tr>\n",
       "      <th>82235</th>\n",
       "      <td>f6587207cba5d685999b650bb7b7701bacbb3c5d</td>\n",
       "      <td>SOKCVIN12A6D4F5709</td>\n",
       "      <td>2</td>\n",
       "      <td>!!!</td>\n",
       "      <td>Yadnus</td>\n",
       "    </tr>\n",
       "    <tr>\n",
       "      <th>89231</th>\n",
       "      <td>3b0eb941d6d0f8b6236f23be34810de9e5de5e87</td>\n",
       "      <td>SOESDGT12A6D4F570A</td>\n",
       "      <td>4</td>\n",
       "      <td>!!!</td>\n",
       "      <td>Bend Over Beethoven</td>\n",
       "    </tr>\n",
       "    <tr>\n",
       "      <th>97981</th>\n",
       "      <td>0de845be9e6514cfe5212c4615cb35e2aa0839ce</td>\n",
       "      <td>SOYHNTG12A6D4F5703</td>\n",
       "      <td>1</td>\n",
       "      <td>!!!</td>\n",
       "      <td>Myth Takes</td>\n",
       "    </tr>\n",
       "    <tr>\n",
       "      <th>106522</th>\n",
       "      <td>3a280d1855a284a73aa4275699456a1f7aa1303b</td>\n",
       "      <td>SOGRWKZ12A6D4F5708</td>\n",
       "      <td>1</td>\n",
       "      <td>!!!</td>\n",
       "      <td>Sweet Life</td>\n",
       "    </tr>\n",
       "    <tr>\n",
       "      <th>...</th>\n",
       "      <td>...</td>\n",
       "      <td>...</td>\n",
       "      <td>...</td>\n",
       "      <td>...</td>\n",
       "      <td>...</td>\n",
       "    </tr>\n",
       "    <tr>\n",
       "      <th>1408452</th>\n",
       "      <td>1b70a8a5ab97f9d92e183bd424ca87eaef6cb560</td>\n",
       "      <td>SOGRWKZ12A6D4F5708</td>\n",
       "      <td>6</td>\n",
       "      <td>!!!</td>\n",
       "      <td>Sweet Life</td>\n",
       "    </tr>\n",
       "    <tr>\n",
       "      <th>1410178</th>\n",
       "      <td>20f28480a33300f770a289f485f6f7e03a6a0277</td>\n",
       "      <td>SOGRWKZ12A6D4F5708</td>\n",
       "      <td>1</td>\n",
       "      <td>!!!</td>\n",
       "      <td>Sweet Life</td>\n",
       "    </tr>\n",
       "    <tr>\n",
       "      <th>1426426</th>\n",
       "      <td>0a5ce21d67387f5718334f75b60e2ce8b9169fee</td>\n",
       "      <td>SOYHNTG12A6D4F5703</td>\n",
       "      <td>1</td>\n",
       "      <td>!!!</td>\n",
       "      <td>Myth Takes</td>\n",
       "    </tr>\n",
       "    <tr>\n",
       "      <th>1426427</th>\n",
       "      <td>0a5ce21d67387f5718334f75b60e2ce8b9169fee</td>\n",
       "      <td>SOYDOCQ12A6D4F570B</td>\n",
       "      <td>1</td>\n",
       "      <td>!!!</td>\n",
       "      <td>Break In Case Of Anything</td>\n",
       "    </tr>\n",
       "    <tr>\n",
       "      <th>1428806</th>\n",
       "      <td>c82d63846f32e4b8f44617f16a7670a45216c12f</td>\n",
       "      <td>SOKCVIN12A6D4F5709</td>\n",
       "      <td>1</td>\n",
       "      <td>!!!</td>\n",
       "      <td>Yadnus</td>\n",
       "    </tr>\n",
       "  </tbody>\n",
       "</table>\n",
       "<p>109 rows × 5 columns</p>\n",
       "</div>"
      ],
      "text/plain": [
       "                                          user_id  ...                    release\n",
       "23550    6de4f2710a3cf3138394d931215224efac265abf  ...           Must Be The Moon\n",
       "82235    f6587207cba5d685999b650bb7b7701bacbb3c5d  ...                     Yadnus\n",
       "89231    3b0eb941d6d0f8b6236f23be34810de9e5de5e87  ...        Bend Over Beethoven\n",
       "97981    0de845be9e6514cfe5212c4615cb35e2aa0839ce  ...                 Myth Takes\n",
       "106522   3a280d1855a284a73aa4275699456a1f7aa1303b  ...                 Sweet Life\n",
       "...                                           ...  ...                        ...\n",
       "1408452  1b70a8a5ab97f9d92e183bd424ca87eaef6cb560  ...                 Sweet Life\n",
       "1410178  20f28480a33300f770a289f485f6f7e03a6a0277  ...                 Sweet Life\n",
       "1426426  0a5ce21d67387f5718334f75b60e2ce8b9169fee  ...                 Myth Takes\n",
       "1426427  0a5ce21d67387f5718334f75b60e2ce8b9169fee  ...  Break In Case Of Anything\n",
       "1428806  c82d63846f32e4b8f44617f16a7670a45216c12f  ...                     Yadnus\n",
       "\n",
       "[109 rows x 5 columns]"
      ]
     },
     "execution_count": 84,
     "metadata": {
      "tags": []
     },
     "output_type": "execute_result"
    }
   ],
   "source": [
    "df_final[df_final['artist_name']=='!!!'] # this is an abnormal activity which doesn't have any artist name for 109 rows"
   ]
  },
  {
   "cell_type": "code",
   "execution_count": 85,
   "metadata": {
    "colab": {
     "base_uri": "https://localhost:8080/"
    },
    "id": "3Cw4Oo0wAhRU",
    "outputId": "3f4d3460-74d0-4429-ab6f-054f2364acb0"
   },
   "outputs": [
    {
     "data": {
      "text/plain": [
       "(3.1871492343202616, 923, 1, 1.0, 7.05166361958703)"
      ]
     },
     "execution_count": 85,
     "metadata": {
      "tags": []
     },
     "output_type": "execute_result"
    }
   ],
   "source": [
    "df_final.freq.mean(),df_final.freq.max(),df_final.freq.min(),df_final.freq.median(),df_final.freq.std()\n",
    "# this cell had info for freq with its mean, max, min, medin, standard deviation values"
   ]
  },
  {
   "cell_type": "markdown",
   "metadata": {
    "id": "1bV73lQ7lF4O"
   },
   "source": [
    "**in the contious we will find most played song by all user.**"
   ]
  },
  {
   "cell_type": "code",
   "execution_count": 65,
   "metadata": {
    "colab": {
     "base_uri": "https://localhost:8080/"
    },
    "id": "30ty6VNTkrsT",
    "outputId": "9137c002-ef09-479f-b43b-2024f543991a"
   },
   "outputs": [
    {
     "data": {
      "text/plain": [
       "Sehr kosmisch                     5043\n",
       "Undo                              4483\n",
       "You're The One                    4270\n",
       "Dog Days Are Over (Radio Edit)    3780\n",
       "Revelry                           3672\n",
       "Name: release, dtype: int64"
      ]
     },
     "execution_count": 65,
     "metadata": {
      "tags": []
     },
     "output_type": "execute_result"
    }
   ],
   "source": [
    "df_final['release'].value_counts().head(5)"
   ]
  },
  {
   "cell_type": "markdown",
   "metadata": {
    "id": "Dx6ZPKY-yXD_"
   },
   "source": [
    "**now lets find most played song's artist.**"
   ]
  },
  {
   "cell_type": "code",
   "execution_count": 66,
   "metadata": {
    "colab": {
     "base_uri": "https://localhost:8080/",
     "height": 419
    },
    "id": "8ULEdciIymj2",
    "outputId": "cded1efc-1fc4-40bd-e573-19e14def4acb"
   },
   "outputs": [
    {
     "data": {
      "text/html": [
       "<div>\n",
       "<style scoped>\n",
       "    .dataframe tbody tr th:only-of-type {\n",
       "        vertical-align: middle;\n",
       "    }\n",
       "\n",
       "    .dataframe tbody tr th {\n",
       "        vertical-align: top;\n",
       "    }\n",
       "\n",
       "    .dataframe thead th {\n",
       "        text-align: right;\n",
       "    }\n",
       "</style>\n",
       "<table border=\"1\" class=\"dataframe\">\n",
       "  <thead>\n",
       "    <tr style=\"text-align: right;\">\n",
       "      <th></th>\n",
       "      <th>user_id</th>\n",
       "      <th>song_id</th>\n",
       "      <th>freq</th>\n",
       "      <th>artist_name</th>\n",
       "      <th>release</th>\n",
       "    </tr>\n",
       "  </thead>\n",
       "  <tbody>\n",
       "    <tr>\n",
       "      <th>22</th>\n",
       "      <td>d68dc6fc25248234590d7668a11e3335534ae4b4</td>\n",
       "      <td>SOFRQTD12A81C233C0</td>\n",
       "      <td>1</td>\n",
       "      <td>Harmonia</td>\n",
       "      <td>Sehr kosmisch</td>\n",
       "    </tr>\n",
       "    <tr>\n",
       "      <th>366</th>\n",
       "      <td>c732f882aa8d6db3bfaf8037d6418f27d3e07fc8</td>\n",
       "      <td>SOFRQTD12A81C233C0</td>\n",
       "      <td>2</td>\n",
       "      <td>Harmonia</td>\n",
       "      <td>Sehr kosmisch</td>\n",
       "    </tr>\n",
       "    <tr>\n",
       "      <th>455</th>\n",
       "      <td>bdbf8ddd82fa83ef4538a15298dfca19bfc4a3ca</td>\n",
       "      <td>SOFRQTD12A81C233C0</td>\n",
       "      <td>11</td>\n",
       "      <td>Harmonia</td>\n",
       "      <td>Sehr kosmisch</td>\n",
       "    </tr>\n",
       "    <tr>\n",
       "      <th>564</th>\n",
       "      <td>6493c305190b52657d4ea3f4adf367ffcf3427af</td>\n",
       "      <td>SOFRQTD12A81C233C0</td>\n",
       "      <td>3</td>\n",
       "      <td>Harmonia</td>\n",
       "      <td>Sehr kosmisch</td>\n",
       "    </tr>\n",
       "    <tr>\n",
       "      <th>693</th>\n",
       "      <td>a5d92e23cf3f711dfc473f1c3b296492ec02effd</td>\n",
       "      <td>SOFRQTD12A81C233C0</td>\n",
       "      <td>7</td>\n",
       "      <td>Harmonia</td>\n",
       "      <td>Sehr kosmisch</td>\n",
       "    </tr>\n",
       "    <tr>\n",
       "      <th>...</th>\n",
       "      <td>...</td>\n",
       "      <td>...</td>\n",
       "      <td>...</td>\n",
       "      <td>...</td>\n",
       "      <td>...</td>\n",
       "    </tr>\n",
       "    <tr>\n",
       "      <th>1448701</th>\n",
       "      <td>f884ce6c56be78242d7d39b03856a6ec35ca0b7c</td>\n",
       "      <td>SOFRQTD12A81C233C0</td>\n",
       "      <td>6</td>\n",
       "      <td>Harmonia</td>\n",
       "      <td>Sehr kosmisch</td>\n",
       "    </tr>\n",
       "    <tr>\n",
       "      <th>1449061</th>\n",
       "      <td>cb7711f1f28de9a2873a026bab8f246198fed24f</td>\n",
       "      <td>SOFRQTD12A81C233C0</td>\n",
       "      <td>8</td>\n",
       "      <td>Harmonia</td>\n",
       "      <td>Sehr kosmisch</td>\n",
       "    </tr>\n",
       "    <tr>\n",
       "      <th>1449731</th>\n",
       "      <td>67bdd623ade703d9ab2f99e6e7a37c0d921fef0a</td>\n",
       "      <td>SOFRQTD12A81C233C0</td>\n",
       "      <td>4</td>\n",
       "      <td>Harmonia</td>\n",
       "      <td>Sehr kosmisch</td>\n",
       "    </tr>\n",
       "    <tr>\n",
       "      <th>1450521</th>\n",
       "      <td>bfda9b649c891832d18e416ade1fc554ba11dd19</td>\n",
       "      <td>SOFRQTD12A81C233C0</td>\n",
       "      <td>5</td>\n",
       "      <td>Harmonia</td>\n",
       "      <td>Sehr kosmisch</td>\n",
       "    </tr>\n",
       "    <tr>\n",
       "      <th>1450787</th>\n",
       "      <td>2ef6c3bd761f5749b164062d0147391707da32db</td>\n",
       "      <td>SOFRQTD12A81C233C0</td>\n",
       "      <td>2</td>\n",
       "      <td>Harmonia</td>\n",
       "      <td>Sehr kosmisch</td>\n",
       "    </tr>\n",
       "  </tbody>\n",
       "</table>\n",
       "<p>5043 rows × 5 columns</p>\n",
       "</div>"
      ],
      "text/plain": [
       "                                          user_id  ...        release\n",
       "22       d68dc6fc25248234590d7668a11e3335534ae4b4  ...  Sehr kosmisch\n",
       "366      c732f882aa8d6db3bfaf8037d6418f27d3e07fc8  ...  Sehr kosmisch\n",
       "455      bdbf8ddd82fa83ef4538a15298dfca19bfc4a3ca  ...  Sehr kosmisch\n",
       "564      6493c305190b52657d4ea3f4adf367ffcf3427af  ...  Sehr kosmisch\n",
       "693      a5d92e23cf3f711dfc473f1c3b296492ec02effd  ...  Sehr kosmisch\n",
       "...                                           ...  ...            ...\n",
       "1448701  f884ce6c56be78242d7d39b03856a6ec35ca0b7c  ...  Sehr kosmisch\n",
       "1449061  cb7711f1f28de9a2873a026bab8f246198fed24f  ...  Sehr kosmisch\n",
       "1449731  67bdd623ade703d9ab2f99e6e7a37c0d921fef0a  ...  Sehr kosmisch\n",
       "1450521  bfda9b649c891832d18e416ade1fc554ba11dd19  ...  Sehr kosmisch\n",
       "1450787  2ef6c3bd761f5749b164062d0147391707da32db  ...  Sehr kosmisch\n",
       "\n",
       "[5043 rows x 5 columns]"
      ]
     },
     "execution_count": 66,
     "metadata": {
      "tags": []
     },
     "output_type": "execute_result"
    }
   ],
   "source": [
    "df_final[(df_final.release == 'Sehr kosmisch')] # there are 5043 users for this artist and the song"
   ]
  },
  {
   "cell_type": "markdown",
   "metadata": {
    "id": "BxqSChKwyzrg"
   },
   "source": [
    "**we can find \"harmonia\" is most played artist for a single song and listened by 5043 unique users**"
   ]
  },
  {
   "cell_type": "markdown",
   "metadata": {
    "id": "aP9cQT_szxJI"
   },
   "source": [
    "**now in contious we will find which user have played this song most. \"sehr kosmisch\" by harmoia.**"
   ]
  },
  {
   "cell_type": "code",
   "execution_count": 59,
   "metadata": {
    "colab": {
     "base_uri": "https://localhost:8080/",
     "height": 419
    },
    "id": "KMLGsQQP0EYS",
    "outputId": "daee5bf6-ad24-4ff7-e643-94191f048701"
   },
   "outputs": [
    {
     "data": {
      "text/html": [
       "<div>\n",
       "<style scoped>\n",
       "    .dataframe tbody tr th:only-of-type {\n",
       "        vertical-align: middle;\n",
       "    }\n",
       "\n",
       "    .dataframe tbody tr th {\n",
       "        vertical-align: top;\n",
       "    }\n",
       "\n",
       "    .dataframe thead th {\n",
       "        text-align: right;\n",
       "    }\n",
       "</style>\n",
       "<table border=\"1\" class=\"dataframe\">\n",
       "  <thead>\n",
       "    <tr style=\"text-align: right;\">\n",
       "      <th></th>\n",
       "      <th>user_id</th>\n",
       "      <th>song_id</th>\n",
       "      <th>freq</th>\n",
       "      <th>artist_name</th>\n",
       "      <th>release</th>\n",
       "    </tr>\n",
       "  </thead>\n",
       "  <tbody>\n",
       "    <tr>\n",
       "      <th>22</th>\n",
       "      <td>d68dc6fc25248234590d7668a11e3335534ae4b4</td>\n",
       "      <td>SOFRQTD12A81C233C0</td>\n",
       "      <td>1</td>\n",
       "      <td>Harmonia</td>\n",
       "      <td>Sehr kosmisch</td>\n",
       "    </tr>\n",
       "    <tr>\n",
       "      <th>366</th>\n",
       "      <td>c732f882aa8d6db3bfaf8037d6418f27d3e07fc8</td>\n",
       "      <td>SOFRQTD12A81C233C0</td>\n",
       "      <td>2</td>\n",
       "      <td>Harmonia</td>\n",
       "      <td>Sehr kosmisch</td>\n",
       "    </tr>\n",
       "    <tr>\n",
       "      <th>455</th>\n",
       "      <td>bdbf8ddd82fa83ef4538a15298dfca19bfc4a3ca</td>\n",
       "      <td>SOFRQTD12A81C233C0</td>\n",
       "      <td>11</td>\n",
       "      <td>Harmonia</td>\n",
       "      <td>Sehr kosmisch</td>\n",
       "    </tr>\n",
       "    <tr>\n",
       "      <th>564</th>\n",
       "      <td>6493c305190b52657d4ea3f4adf367ffcf3427af</td>\n",
       "      <td>SOFRQTD12A81C233C0</td>\n",
       "      <td>3</td>\n",
       "      <td>Harmonia</td>\n",
       "      <td>Sehr kosmisch</td>\n",
       "    </tr>\n",
       "    <tr>\n",
       "      <th>693</th>\n",
       "      <td>a5d92e23cf3f711dfc473f1c3b296492ec02effd</td>\n",
       "      <td>SOFRQTD12A81C233C0</td>\n",
       "      <td>7</td>\n",
       "      <td>Harmonia</td>\n",
       "      <td>Sehr kosmisch</td>\n",
       "    </tr>\n",
       "    <tr>\n",
       "      <th>...</th>\n",
       "      <td>...</td>\n",
       "      <td>...</td>\n",
       "      <td>...</td>\n",
       "      <td>...</td>\n",
       "      <td>...</td>\n",
       "    </tr>\n",
       "    <tr>\n",
       "      <th>1448701</th>\n",
       "      <td>f884ce6c56be78242d7d39b03856a6ec35ca0b7c</td>\n",
       "      <td>SOFRQTD12A81C233C0</td>\n",
       "      <td>6</td>\n",
       "      <td>Harmonia</td>\n",
       "      <td>Sehr kosmisch</td>\n",
       "    </tr>\n",
       "    <tr>\n",
       "      <th>1449061</th>\n",
       "      <td>cb7711f1f28de9a2873a026bab8f246198fed24f</td>\n",
       "      <td>SOFRQTD12A81C233C0</td>\n",
       "      <td>8</td>\n",
       "      <td>Harmonia</td>\n",
       "      <td>Sehr kosmisch</td>\n",
       "    </tr>\n",
       "    <tr>\n",
       "      <th>1449731</th>\n",
       "      <td>67bdd623ade703d9ab2f99e6e7a37c0d921fef0a</td>\n",
       "      <td>SOFRQTD12A81C233C0</td>\n",
       "      <td>4</td>\n",
       "      <td>Harmonia</td>\n",
       "      <td>Sehr kosmisch</td>\n",
       "    </tr>\n",
       "    <tr>\n",
       "      <th>1450521</th>\n",
       "      <td>bfda9b649c891832d18e416ade1fc554ba11dd19</td>\n",
       "      <td>SOFRQTD12A81C233C0</td>\n",
       "      <td>5</td>\n",
       "      <td>Harmonia</td>\n",
       "      <td>Sehr kosmisch</td>\n",
       "    </tr>\n",
       "    <tr>\n",
       "      <th>1450787</th>\n",
       "      <td>2ef6c3bd761f5749b164062d0147391707da32db</td>\n",
       "      <td>SOFRQTD12A81C233C0</td>\n",
       "      <td>2</td>\n",
       "      <td>Harmonia</td>\n",
       "      <td>Sehr kosmisch</td>\n",
       "    </tr>\n",
       "  </tbody>\n",
       "</table>\n",
       "<p>5043 rows × 5 columns</p>\n",
       "</div>"
      ],
      "text/plain": [
       "                                          user_id  ...        release\n",
       "22       d68dc6fc25248234590d7668a11e3335534ae4b4  ...  Sehr kosmisch\n",
       "366      c732f882aa8d6db3bfaf8037d6418f27d3e07fc8  ...  Sehr kosmisch\n",
       "455      bdbf8ddd82fa83ef4538a15298dfca19bfc4a3ca  ...  Sehr kosmisch\n",
       "564      6493c305190b52657d4ea3f4adf367ffcf3427af  ...  Sehr kosmisch\n",
       "693      a5d92e23cf3f711dfc473f1c3b296492ec02effd  ...  Sehr kosmisch\n",
       "...                                           ...  ...            ...\n",
       "1448701  f884ce6c56be78242d7d39b03856a6ec35ca0b7c  ...  Sehr kosmisch\n",
       "1449061  cb7711f1f28de9a2873a026bab8f246198fed24f  ...  Sehr kosmisch\n",
       "1449731  67bdd623ade703d9ab2f99e6e7a37c0d921fef0a  ...  Sehr kosmisch\n",
       "1450521  bfda9b649c891832d18e416ade1fc554ba11dd19  ...  Sehr kosmisch\n",
       "1450787  2ef6c3bd761f5749b164062d0147391707da32db  ...  Sehr kosmisch\n",
       "\n",
       "[5043 rows x 5 columns]"
      ]
     },
     "execution_count": 59,
     "metadata": {
      "tags": []
     },
     "output_type": "execute_result"
    }
   ],
   "source": [
    "pop_song=df_final[df_final['song_id']=='SOFRQTD12A81C233C0'] \n",
    "pop_song  "
   ]
  },
  {
   "cell_type": "code",
   "execution_count": 60,
   "metadata": {
    "colab": {
     "base_uri": "https://localhost:8080/"
    },
    "id": "0yZiXPps0MlO",
    "outputId": "6c26353c-88c8-4b46-f3c3-a6cea3cc7d81"
   },
   "outputs": [
    {
     "data": {
      "text/plain": [
       "user_id        ffedd3bea08f4ef2c7e5df5821b5e79ef2ca6ae5\n",
       "song_id                              SOFRQTD12A81C233C0\n",
       "freq                                                135\n",
       "artist_name                                    Harmonia\n",
       "release                                   Sehr kosmisch\n",
       "dtype: object"
      ]
     },
     "execution_count": 60,
     "metadata": {
      "tags": []
     },
     "output_type": "execute_result"
    }
   ],
   "source": [
    "pop_song.max()"
   ]
  },
  {
   "cell_type": "markdown",
   "metadata": {
    "id": "FTFVy8AM0QTZ"
   },
   "source": [
    "**hence we have find the user \"ffedd3bea08f4ef2c7e5df5821b5e79ef2ca6ae5\" has plyed the song( \"sehr kosmisch\" by harmoia.) most time(135). see also in graph**"
   ]
  },
  {
   "cell_type": "code",
   "execution_count": 61,
   "metadata": {
    "colab": {
     "base_uri": "https://localhost:8080/",
     "height": 628
    },
    "id": "vx3ljUuA16zX",
    "outputId": "111f906a-0815-419a-9d56-28a4c4425f91"
   },
   "outputs": [
    {
     "data": {
      "text/plain": [
       "<matplotlib.axes._subplots.AxesSubplot at 0x7f825532ccd0>"
      ]
     },
     "execution_count": 61,
     "metadata": {
      "tags": []
     },
     "output_type": "execute_result"
    },
    {
     "data": {
      "image/png": "[encoded data removed]",
      "text/plain": [
       "<Figure size 936x720 with 1 Axes>"
      ]
     },
     "metadata": {
      "tags": []
     },
     "output_type": "display_data"
    }
   ],
   "source": [
    "sns.set(rc={'figure.figsize':(13,10)})\n",
    "sns.countplot(pop_song['freq'])"
   ]
  },
  {
   "cell_type": "markdown",
   "metadata": {
    "id": "C3rA0AUApENk"
   },
   "source": [
    "**In the contious, we will find most active user.**"
   ]
  },
  {
   "cell_type": "code",
   "execution_count": 62,
   "metadata": {
    "colab": {
     "base_uri": "https://localhost:8080/"
    },
    "id": "EW0D2BNMpKqn",
    "outputId": "2739cee3-9060-4226-e904-928e5364363b"
   },
   "outputs": [
    {
     "data": {
      "text/plain": [
       "7d90be8dfdbde170f036ce8a4b915440137cb11c    53\n",
       "03ad93fdb01506ce205f4708decf8e4b1ae90fff    52\n",
       "0f8308935bcbb9a1e04ebb7c4d41c037e5f23b90    52\n",
       "016a24e91a72c159a5048ab1b9b2ba5ce761b526    52\n",
       "2e424b28bff1f62a2dae22a918f09f9c30c06d1b    52\n",
       "Name: user_id, dtype: int64"
      ]
     },
     "execution_count": 62,
     "metadata": {
      "tags": []
     },
     "output_type": "execute_result"
    }
   ],
   "source": [
    "most_user=df_final['user_id'].value_counts().head(5)\n",
    "most_user"
   ]
  },
  {
   "cell_type": "markdown",
   "metadata": {
    "id": "zJWjsdArpbRO"
   },
   "source": [
    "**in the contious we will find most palyed artist.**"
   ]
  },
  {
   "cell_type": "code",
   "execution_count": 43,
   "metadata": {
    "colab": {
     "base_uri": "https://localhost:8080/"
    },
    "id": "ntPU3VJwpiQw",
    "outputId": "5fd2e629-0c2e-45ab-c752-e7437c866d3d"
   },
   "outputs": [
    {
     "data": {
      "text/plain": [
       "Coldplay                  12279\n",
       "Kings Of Leon              8514\n",
       "Florence + The Machine     8213\n",
       "Justin Bieber              7669\n",
       "Jack Johnson               6784\n",
       "Name: artist_name, dtype: int64"
      ]
     },
     "execution_count": 43,
     "metadata": {
      "tags": []
     },
     "output_type": "execute_result"
    }
   ],
   "source": [
    "df_final['artist_name'].value_counts().head(5)"
   ]
  },
  {
   "cell_type": "markdown",
   "metadata": {
    "id": "C6eBaHXuq0Eh"
   },
   "source": [
    "**In the contious, we will find the coldplay artist's most played songs.**"
   ]
  },
  {
   "cell_type": "code",
   "execution_count": 46,
   "metadata": {
    "colab": {
     "base_uri": "https://localhost:8080/",
     "height": 419
    },
    "id": "pSNl318WrFaq",
    "outputId": "762c807d-2722-4db4-9634-70ee5e84bbc3"
   },
   "outputs": [
    {
     "data": {
      "text/html": [
       "<div>\n",
       "<style scoped>\n",
       "    .dataframe tbody tr th:only-of-type {\n",
       "        vertical-align: middle;\n",
       "    }\n",
       "\n",
       "    .dataframe tbody tr th {\n",
       "        vertical-align: top;\n",
       "    }\n",
       "\n",
       "    .dataframe thead th {\n",
       "        text-align: right;\n",
       "    }\n",
       "</style>\n",
       "<table border=\"1\" class=\"dataframe\">\n",
       "  <thead>\n",
       "    <tr style=\"text-align: right;\">\n",
       "      <th></th>\n",
       "      <th>user_id</th>\n",
       "      <th>song_id</th>\n",
       "      <th>freq</th>\n",
       "      <th>artist_name</th>\n",
       "      <th>release</th>\n",
       "    </tr>\n",
       "  </thead>\n",
       "  <tbody>\n",
       "    <tr>\n",
       "      <th>122</th>\n",
       "      <td>e9dc6b4c2b22aa6dc8260e1963021567728055b2</td>\n",
       "      <td>SOPXKYD12A6D4FA876</td>\n",
       "      <td>6</td>\n",
       "      <td>Coldplay</td>\n",
       "      <td>Yellow</td>\n",
       "    </tr>\n",
       "    <tr>\n",
       "      <th>336</th>\n",
       "      <td>248378ac27e1745d6a9d59392b7dc5b02a6186a6</td>\n",
       "      <td>SOKLRPJ12A8C13C3FE</td>\n",
       "      <td>1</td>\n",
       "      <td>Coldplay</td>\n",
       "      <td>The Scientist</td>\n",
       "    </tr>\n",
       "    <tr>\n",
       "      <th>353</th>\n",
       "      <td>6530c4fc41b9110de5d39fe0355fa103c66385f0</td>\n",
       "      <td>SOWEJXA12A6701C574</td>\n",
       "      <td>5</td>\n",
       "      <td>Coldplay</td>\n",
       "      <td>Fix You</td>\n",
       "    </tr>\n",
       "    <tr>\n",
       "      <th>360</th>\n",
       "      <td>6530c4fc41b9110de5d39fe0355fa103c66385f0</td>\n",
       "      <td>SOKLRPJ12A8C13C3FE</td>\n",
       "      <td>2</td>\n",
       "      <td>Coldplay</td>\n",
       "      <td>The Scientist</td>\n",
       "    </tr>\n",
       "    <tr>\n",
       "      <th>365</th>\n",
       "      <td>6530c4fc41b9110de5d39fe0355fa103c66385f0</td>\n",
       "      <td>SOPXKYD12A6D4FA876</td>\n",
       "      <td>3</td>\n",
       "      <td>Coldplay</td>\n",
       "      <td>Yellow</td>\n",
       "    </tr>\n",
       "    <tr>\n",
       "      <th>...</th>\n",
       "      <td>...</td>\n",
       "      <td>...</td>\n",
       "      <td>...</td>\n",
       "      <td>...</td>\n",
       "      <td>...</td>\n",
       "    </tr>\n",
       "    <tr>\n",
       "      <th>1450525</th>\n",
       "      <td>b98e6137741a5ed1ffd03d81e0ade159ba4eeeeb</td>\n",
       "      <td>SOKLRPJ12A8C13C3FE</td>\n",
       "      <td>2</td>\n",
       "      <td>Coldplay</td>\n",
       "      <td>The Scientist</td>\n",
       "    </tr>\n",
       "    <tr>\n",
       "      <th>1450545</th>\n",
       "      <td>b98e6137741a5ed1ffd03d81e0ade159ba4eeeeb</td>\n",
       "      <td>SOUKJBT12A6701C4D6</td>\n",
       "      <td>3</td>\n",
       "      <td>Coldplay</td>\n",
       "      <td>Speed Of Sound</td>\n",
       "    </tr>\n",
       "    <tr>\n",
       "      <th>1450651</th>\n",
       "      <td>32d65b81f82874077bd978fa129eff63a43e96f9</td>\n",
       "      <td>SOPXKYD12A6D4FA876</td>\n",
       "      <td>2</td>\n",
       "      <td>Coldplay</td>\n",
       "      <td>Yellow</td>\n",
       "    </tr>\n",
       "    <tr>\n",
       "      <th>1450655</th>\n",
       "      <td>32d65b81f82874077bd978fa129eff63a43e96f9</td>\n",
       "      <td>SOSVPIE12A6D4FA873</td>\n",
       "      <td>1</td>\n",
       "      <td>Coldplay</td>\n",
       "      <td>Shiver</td>\n",
       "    </tr>\n",
       "    <tr>\n",
       "      <th>1450841</th>\n",
       "      <td>6b6d43eb0a1a6bdf471cebe380524946884746c6</td>\n",
       "      <td>SOTGOVG12A6701C573</td>\n",
       "      <td>2</td>\n",
       "      <td>Coldplay</td>\n",
       "      <td>White Shadows</td>\n",
       "    </tr>\n",
       "  </tbody>\n",
       "</table>\n",
       "<p>12279 rows × 5 columns</p>\n",
       "</div>"
      ],
      "text/plain": [
       "                                          user_id  ...         release\n",
       "122      e9dc6b4c2b22aa6dc8260e1963021567728055b2  ...          Yellow\n",
       "336      248378ac27e1745d6a9d59392b7dc5b02a6186a6  ...   The Scientist\n",
       "353      6530c4fc41b9110de5d39fe0355fa103c66385f0  ...         Fix You\n",
       "360      6530c4fc41b9110de5d39fe0355fa103c66385f0  ...   The Scientist\n",
       "365      6530c4fc41b9110de5d39fe0355fa103c66385f0  ...          Yellow\n",
       "...                                           ...  ...             ...\n",
       "1450525  b98e6137741a5ed1ffd03d81e0ade159ba4eeeeb  ...   The Scientist\n",
       "1450545  b98e6137741a5ed1ffd03d81e0ade159ba4eeeeb  ...  Speed Of Sound\n",
       "1450651  32d65b81f82874077bd978fa129eff63a43e96f9  ...          Yellow\n",
       "1450655  32d65b81f82874077bd978fa129eff63a43e96f9  ...          Shiver\n",
       "1450841  6b6d43eb0a1a6bdf471cebe380524946884746c6  ...   White Shadows\n",
       "\n",
       "[12279 rows x 5 columns]"
      ]
     },
     "execution_count": 46,
     "metadata": {
      "tags": []
     },
     "output_type": "execute_result"
    }
   ],
   "source": [
    "data_Coldplay = df_final[(df_final.artist_name == 'Coldplay')]\n",
    "data_Coldplay"
   ]
  },
  {
   "cell_type": "code",
   "execution_count": 45,
   "metadata": {
    "colab": {
     "base_uri": "https://localhost:8080/"
    },
    "id": "Q59Bw98zrIGV",
    "outputId": "781546f8-323a-41ca-de9c-01f7a84b10a0"
   },
   "outputs": [
    {
     "data": {
      "text/plain": [
       "The Scientist    1675\n",
       "Clocks           1500\n",
       "Yellow           1299\n",
       "Fix You          1033\n",
       "In My Place       531\n",
       "Name: release, dtype: int64"
      ]
     },
     "execution_count": 45,
     "metadata": {
      "tags": []
     },
     "output_type": "execute_result"
    }
   ],
   "source": [
    "data_Coldplay['release'].value_counts().head(5)"
   ]
  },
  {
   "cell_type": "code",
   "execution_count": 47,
   "metadata": {
    "colab": {
     "base_uri": "https://localhost:8080/"
    },
    "id": "NfKrOLu63ro8",
    "outputId": "719568e0-4bce-411b-a857-be6a6b441a76"
   },
   "outputs": [
    {
     "data": {
      "text/plain": [
       "76"
      ]
     },
     "execution_count": 47,
     "metadata": {
      "tags": []
     },
     "output_type": "execute_result"
    }
   ],
   "source": [
    "data_Coldplay.song_id.nunique() # 76 songs are sung by codplay"
   ]
  },
  {
   "cell_type": "code",
   "execution_count": 50,
   "metadata": {
    "colab": {
     "base_uri": "https://localhost:8080/"
    },
    "id": "uMmnUyav3rdS",
    "outputId": "29d6b8e2-d553-44f4-c9f5-5e97c574562b"
   },
   "outputs": [
    {
     "data": {
      "text/plain": [
       "261"
      ]
     },
     "execution_count": 50,
     "metadata": {
      "tags": []
     },
     "output_type": "execute_result"
    }
   ],
   "source": [
    "data_Coldplay.freq.max() # a song by coldplay had highest frequency of 261"
   ]
  },
  {
   "cell_type": "code",
   "execution_count": 52,
   "metadata": {
    "colab": {
     "base_uri": "https://localhost:8080/",
     "height": 80
    },
    "id": "YRPvrIaC4V1G",
    "outputId": "3ce7f527-d235-47aa-a781-90c15f4e3e5f"
   },
   "outputs": [
    {
     "data": {
      "text/html": [
       "<div>\n",
       "<style scoped>\n",
       "    .dataframe tbody tr th:only-of-type {\n",
       "        vertical-align: middle;\n",
       "    }\n",
       "\n",
       "    .dataframe tbody tr th {\n",
       "        vertical-align: top;\n",
       "    }\n",
       "\n",
       "    .dataframe thead th {\n",
       "        text-align: right;\n",
       "    }\n",
       "</style>\n",
       "<table border=\"1\" class=\"dataframe\">\n",
       "  <thead>\n",
       "    <tr style=\"text-align: right;\">\n",
       "      <th></th>\n",
       "      <th>user_id</th>\n",
       "      <th>song_id</th>\n",
       "      <th>freq</th>\n",
       "      <th>artist_name</th>\n",
       "      <th>release</th>\n",
       "    </tr>\n",
       "  </thead>\n",
       "  <tbody>\n",
       "    <tr>\n",
       "      <th>558905</th>\n",
       "      <td>6a048c2e7fe977abb52aff4c43889f2819788c54</td>\n",
       "      <td>SOPXKYD12A6D4FA876</td>\n",
       "      <td>261</td>\n",
       "      <td>Coldplay</td>\n",
       "      <td>Yellow</td>\n",
       "    </tr>\n",
       "  </tbody>\n",
       "</table>\n",
       "</div>"
      ],
      "text/plain": [
       "                                         user_id  ... release\n",
       "558905  6a048c2e7fe977abb52aff4c43889f2819788c54  ...  Yellow\n",
       "\n",
       "[1 rows x 5 columns]"
      ]
     },
     "execution_count": 52,
     "metadata": {
      "tags": []
     },
     "output_type": "execute_result"
    }
   ],
   "source": [
    "data_Coldplay[data_Coldplay['freq']==261] # we can observe here info about highes listened song by coldplay artist"
   ]
  },
  {
   "cell_type": "code",
   "execution_count": 54,
   "metadata": {
    "colab": {
     "base_uri": "https://localhost:8080/",
     "height": 419
    },
    "id": "ba-BROMe5KW5",
    "outputId": "ad9fa4ec-841b-445e-aead-3ea707c78b97"
   },
   "outputs": [
    {
     "data": {
      "text/html": [
       "<div>\n",
       "<style scoped>\n",
       "    .dataframe tbody tr th:only-of-type {\n",
       "        vertical-align: middle;\n",
       "    }\n",
       "\n",
       "    .dataframe tbody tr th {\n",
       "        vertical-align: top;\n",
       "    }\n",
       "\n",
       "    .dataframe thead th {\n",
       "        text-align: right;\n",
       "    }\n",
       "</style>\n",
       "<table border=\"1\" class=\"dataframe\">\n",
       "  <thead>\n",
       "    <tr style=\"text-align: right;\">\n",
       "      <th></th>\n",
       "      <th>user_id</th>\n",
       "      <th>song_id</th>\n",
       "      <th>freq</th>\n",
       "      <th>artist_name</th>\n",
       "      <th>release</th>\n",
       "    </tr>\n",
       "  </thead>\n",
       "  <tbody>\n",
       "    <tr>\n",
       "      <th>122</th>\n",
       "      <td>e9dc6b4c2b22aa6dc8260e1963021567728055b2</td>\n",
       "      <td>SOPXKYD12A6D4FA876</td>\n",
       "      <td>6</td>\n",
       "      <td>Coldplay</td>\n",
       "      <td>Yellow</td>\n",
       "    </tr>\n",
       "    <tr>\n",
       "      <th>365</th>\n",
       "      <td>6530c4fc41b9110de5d39fe0355fa103c66385f0</td>\n",
       "      <td>SOPXKYD12A6D4FA876</td>\n",
       "      <td>3</td>\n",
       "      <td>Coldplay</td>\n",
       "      <td>Yellow</td>\n",
       "    </tr>\n",
       "    <tr>\n",
       "      <th>1642</th>\n",
       "      <td>36a35718d262b62cf00f038d76c4920912501b8a</td>\n",
       "      <td>SOPXKYD12A6D4FA876</td>\n",
       "      <td>5</td>\n",
       "      <td>Coldplay</td>\n",
       "      <td>Yellow</td>\n",
       "    </tr>\n",
       "    <tr>\n",
       "      <th>1794</th>\n",
       "      <td>071fd3aabca95437e6c390938ec79ad9ca4f3ece</td>\n",
       "      <td>SOPXKYD12A6D4FA876</td>\n",
       "      <td>2</td>\n",
       "      <td>Coldplay</td>\n",
       "      <td>Yellow</td>\n",
       "    </tr>\n",
       "    <tr>\n",
       "      <th>5053</th>\n",
       "      <td>6ad224a05378c6614ea08019a9494ee811d6c7e0</td>\n",
       "      <td>SOPXKYD12A6D4FA876</td>\n",
       "      <td>4</td>\n",
       "      <td>Coldplay</td>\n",
       "      <td>Yellow</td>\n",
       "    </tr>\n",
       "    <tr>\n",
       "      <th>...</th>\n",
       "      <td>...</td>\n",
       "      <td>...</td>\n",
       "      <td>...</td>\n",
       "      <td>...</td>\n",
       "      <td>...</td>\n",
       "    </tr>\n",
       "    <tr>\n",
       "      <th>1442468</th>\n",
       "      <td>60318fb458930606b80edbc190ea57609c818d44</td>\n",
       "      <td>SOPXKYD12A6D4FA876</td>\n",
       "      <td>1</td>\n",
       "      <td>Coldplay</td>\n",
       "      <td>Yellow</td>\n",
       "    </tr>\n",
       "    <tr>\n",
       "      <th>1443009</th>\n",
       "      <td>2ee1adf0cdac5444af8c9186e5e3d432abcbea43</td>\n",
       "      <td>SOPXKYD12A6D4FA876</td>\n",
       "      <td>4</td>\n",
       "      <td>Coldplay</td>\n",
       "      <td>Yellow</td>\n",
       "    </tr>\n",
       "    <tr>\n",
       "      <th>1445129</th>\n",
       "      <td>4b9cabf788964a5668be6b05986a7cd1056f28e8</td>\n",
       "      <td>SOPXKYD12A6D4FA876</td>\n",
       "      <td>1</td>\n",
       "      <td>Coldplay</td>\n",
       "      <td>Yellow</td>\n",
       "    </tr>\n",
       "    <tr>\n",
       "      <th>1449505</th>\n",
       "      <td>32d1d1dc07de0f6e46495d98243ce412d705efda</td>\n",
       "      <td>SOPXKYD12A6D4FA876</td>\n",
       "      <td>4</td>\n",
       "      <td>Coldplay</td>\n",
       "      <td>Yellow</td>\n",
       "    </tr>\n",
       "    <tr>\n",
       "      <th>1450651</th>\n",
       "      <td>32d65b81f82874077bd978fa129eff63a43e96f9</td>\n",
       "      <td>SOPXKYD12A6D4FA876</td>\n",
       "      <td>2</td>\n",
       "      <td>Coldplay</td>\n",
       "      <td>Yellow</td>\n",
       "    </tr>\n",
       "  </tbody>\n",
       "</table>\n",
       "<p>1299 rows × 5 columns</p>\n",
       "</div>"
      ],
      "text/plain": [
       "                                          user_id  ... release\n",
       "122      e9dc6b4c2b22aa6dc8260e1963021567728055b2  ...  Yellow\n",
       "365      6530c4fc41b9110de5d39fe0355fa103c66385f0  ...  Yellow\n",
       "1642     36a35718d262b62cf00f038d76c4920912501b8a  ...  Yellow\n",
       "1794     071fd3aabca95437e6c390938ec79ad9ca4f3ece  ...  Yellow\n",
       "5053     6ad224a05378c6614ea08019a9494ee811d6c7e0  ...  Yellow\n",
       "...                                           ...  ...     ...\n",
       "1442468  60318fb458930606b80edbc190ea57609c818d44  ...  Yellow\n",
       "1443009  2ee1adf0cdac5444af8c9186e5e3d432abcbea43  ...  Yellow\n",
       "1445129  4b9cabf788964a5668be6b05986a7cd1056f28e8  ...  Yellow\n",
       "1449505  32d1d1dc07de0f6e46495d98243ce412d705efda  ...  Yellow\n",
       "1450651  32d65b81f82874077bd978fa129eff63a43e96f9  ...  Yellow\n",
       "\n",
       "[1299 rows x 5 columns]"
      ]
     },
     "execution_count": 54,
     "metadata": {
      "tags": []
     },
     "output_type": "execute_result"
    }
   ],
   "source": [
    "cold_freq=df_final[df_final['song_id']=='SOPXKYD12A6D4FA876'] # there are 1299 users listened the most popular song by coldplay\n",
    "cold_freq"
   ]
  },
  {
   "cell_type": "code",
   "execution_count": 55,
   "metadata": {
    "colab": {
     "base_uri": "https://localhost:8080/"
    },
    "id": "Vr-KYlAh5tZf",
    "outputId": "fc47d3ab-60e5-4119-d4e4-44e79eb16040"
   },
   "outputs": [
    {
     "data": {
      "text/plain": [
       "3879"
      ]
     },
     "execution_count": 55,
     "metadata": {
      "tags": []
     },
     "output_type": "execute_result"
    }
   ],
   "source": [
    "cold_freq.freq.sum() # total 3,879 times the popular song of coldplay is listened by 1299 users"
   ]
  },
  {
   "cell_type": "markdown",
   "metadata": {
    "id": "fUNhHzYyrQDw"
   },
   "source": [
    "**The above songs are most palyed song of our most played artist (coldplay)**"
   ]
  },
  {
   "cell_type": "code",
   "execution_count": 56,
   "metadata": {
    "colab": {
     "base_uri": "https://localhost:8080/"
    },
    "id": "8iKuwI5Yrf6y",
    "outputId": "95702e64-5a04-40c0-934d-b6842edb398f"
   },
   "outputs": [
    {
     "data": {
      "text/plain": [
       "Killa Kela     1\n",
       "Andy Tau       1\n",
       "The Violets    1\n",
       "Craig Safan    1\n",
       "Seven Wiser    1\n",
       "Name: artist_name, dtype: int64"
      ]
     },
     "execution_count": 56,
     "metadata": {
      "tags": []
     },
     "output_type": "execute_result"
    }
   ],
   "source": [
    "df_final['artist_name'].value_counts().tail(5)"
   ]
  },
  {
   "cell_type": "markdown",
   "metadata": {
    "id": "JGpNMJfZs2ak"
   },
   "source": [
    "**By the above analysis, we can find that user that have only one release.**\n",
    "\n"
   ]
  },
  {
   "cell_type": "code",
   "execution_count": null,
   "metadata": {
    "colab": {
     "base_uri": "https://localhost:8080/",
     "height": 628
    },
    "id": "jCaBLQxlCabD",
    "outputId": "0423d767-a3ea-4f41-99d6-86a775de6d2d"
   },
   "outputs": [
    {
     "data": {
      "text/plain": [
       "[Text(0, 0.5, 'Density'), Text(0.5, 0, 'Freq')]"
      ]
     },
     "execution_count": 44,
     "metadata": {
      "tags": []
     },
     "output_type": "execute_result"
    },
    {
     "data": {
      "image/png": "[encoded data removed]",
      "text/plain": [
       "<Figure size 936x720 with 1 Axes>"
      ]
     },
     "metadata": {
      "tags": []
     },
     "output_type": "display_data"
    }
   ],
   "source": [
    "freq1=sns.distplot(df_final['freq'], hist=False, kde=True, \n",
    "             bins=int(180/5), color = 'red', \n",
    "             hist_kws={'edgecolor':'black'},\n",
    "             kde_kws={'linewidth': 1})\n",
    "freq1.set(xlabel=\"Freq\", ylabel = \"Density\")"
   ]
  },
  {
   "cell_type": "markdown",
   "metadata": {
    "id": "uv41QjZso7bN"
   },
   "source": [
    "**by this graph we get to know about that there are very much less song which has more freq**"
   ]
  },
  {
   "cell_type": "code",
   "execution_count": 63,
   "metadata": {
    "colab": {
     "base_uri": "https://localhost:8080/"
    },
    "id": "e1TMzvaFD6PB",
    "outputId": "11c5917c-79da-498e-85d2-8063a94b1505"
   },
   "outputs": [
    {
     "name": "stdout",
     "output_type": "stream",
     "text": [
      "freq\n",
      "1      839136\n",
      "2      213712\n",
      "3       95726\n",
      "4       55158\n",
      "5       73542\n",
      "        ...  \n",
      "537         1\n",
      "582         1\n",
      "597         1\n",
      "646         1\n",
      "923         1\n",
      "Length: 299, dtype: int64\n"
     ]
    }
   ],
   "source": [
    "print(df_final.groupby(['freq']).size())"
   ]
  },
  {
   "cell_type": "code",
   "execution_count": null,
   "metadata": {
    "colab": {
     "base_uri": "https://localhost:8080/"
    },
    "id": "VCMgbNIlsHSK",
    "outputId": "58a59882-f36d-4362-970d-40de1ba4499a"
   },
   "outputs": [
    {
     "data": {
      "text/plain": [
       "1      57.83\n",
       "2      14.73\n",
       "3       6.60\n",
       "5       5.07\n",
       "4       3.80\n",
       "       ...  \n",
       "262     0.00\n",
       "187     0.00\n",
       "259     0.00\n",
       "189     0.00\n",
       "923     0.00\n",
       "Name: freq, Length: 299, dtype: float64"
      ]
     },
     "execution_count": 22,
     "metadata": {
      "tags": []
     },
     "output_type": "execute_result"
    }
   ],
   "source": [
    "(df_final.freq.value_counts()/len(df_final)*100).round(2)\n",
    "# here 1 time listened songs contribute 57.83% of data in the whole dataset and followed by 2 times ie. of 14.73%"
   ]
  },
  {
   "cell_type": "code",
   "execution_count": 40,
   "metadata": {
    "colab": {
     "base_uri": "https://localhost:8080/"
    },
    "id": "pw2NI_GF0ff-",
    "outputId": "d1acbfca-c7e6-45c5-911c-70857213bf55"
   },
   "outputs": [
    {
     "data": {
      "text/plain": [
       "Sehr kosmisch                                                          0.35\n",
       "Undo                                                                   0.31\n",
       "You're The One                                                         0.29\n",
       "Dog Days Are Over (Radio Edit)                                         0.26\n",
       "Revelry                                                                0.25\n",
       "Secrets                                                                0.24\n",
       "Horn Concerto No. 4 in E flat K495: II. Romance (Andante cantabile)    0.23\n",
       "Hey_ Soul Sister                                                       0.19\n",
       "Fireflies                                                              0.19\n",
       "Tive Sim                                                               0.18\n",
       "Name: release, dtype: float64"
      ]
     },
     "execution_count": 40,
     "metadata": {
      "tags": []
     },
     "output_type": "execute_result"
    }
   ],
   "source": [
    "(df_final.release.value_counts()/len(df_final)*100).round(2).head(10)\n",
    "# percentage of top 10 releases and their contribution in the whole dataset "
   ]
  },
  {
   "cell_type": "code",
   "execution_count": 41,
   "metadata": {
    "colab": {
     "base_uri": "https://localhost:8080/"
    },
    "id": "G7xARKxF1DPu",
    "outputId": "6cf4d51e-4005-4a6b-e265-c9d42f993bc9"
   },
   "outputs": [
    {
     "data": {
      "text/plain": [
       "1      57.83\n",
       "2      14.73\n",
       "3       6.60\n",
       "5       5.07\n",
       "4       3.80\n",
       "       ...  \n",
       "262     0.00\n",
       "187     0.00\n",
       "259     0.00\n",
       "189     0.00\n",
       "923     0.00\n",
       "Name: freq, Length: 299, dtype: float64"
      ]
     },
     "execution_count": 41,
     "metadata": {
      "tags": []
     },
     "output_type": "execute_result"
    }
   ],
   "source": [
    "(df_final.freq.value_counts()/len(df_final)*100).round(2)\n",
    "# here 1 time listened songs contribute 57.83% of data in the whole dataset and followed by 2 times ie. of 14.73%"
   ]
  },
  {
   "cell_type": "code",
   "execution_count": 42,
   "metadata": {
    "colab": {
     "base_uri": "https://localhost:8080/"
    },
    "id": "y9rNvQ6d1DG4",
    "outputId": "b77a8a4b-2de0-43c5-fd93-4bc58c4a48a2"
   },
   "outputs": [
    {
     "data": {
      "text/plain": [
       "SOFRQTD12A81C233C0    0.35\n",
       "SOAUWYT12A81C206F1    0.31\n",
       "SOBONKR12A58A7A7E0    0.29\n",
       "SOAXGDH12A8C13F8A1    0.26\n",
       "SOSXLTC12AF72A7F54    0.25\n",
       "SONYKOW12AB01849C9    0.24\n",
       "SOEGIYH12A6D4FC0E3    0.23\n",
       "SODJWHY12A8C142CCE    0.19\n",
       "SOLFXKT12AB017E3E0    0.19\n",
       "SOFLJQZ12A6D4FADA6    0.18\n",
       "Name: song_id, dtype: float64"
      ]
     },
     "execution_count": 42,
     "metadata": {
      "tags": []
     },
     "output_type": "execute_result"
    }
   ],
   "source": [
    "(df_final.song_id.value_counts()/len(df_final)*100).round(2).head(10)\n",
    "# percentage of top 10 song id's and its contribution in the whole dataset "
   ]
  },
  {
   "cell_type": "code",
   "execution_count": null,
   "metadata": {
    "colab": {
     "base_uri": "https://localhost:8080/"
    },
    "id": "jsTMtHNiD6uE",
    "outputId": "e232561c-b4e1-4a92-ba2c-b8f6f98793b9"
   },
   "outputs": [
    {
     "data": {
      "text/plain": [
       "user_id\n",
       "00007a02388c208ea7176479f6ae06f8224355b3     9\n",
       "00014a76ed063e1a749171a253bca9d9a0ff1782    11\n",
       "00015189668691680bb1a2e58afde1541ec92ced    17\n",
       "0001ff7aa2667c8d8b945317b88adaed1c0b9dc2     9\n",
       "00020fcd8b01986a6a85b896ccde6c49f35142ad    32\n",
       "                                            ..\n",
       "fffdef71f13352e9cff769f1d96f5ccf90f8955e     7\n",
       "fffe29116f96c97b47a5dabdd406784ad0ba6f30     6\n",
       "fffe5b73c50c72ca9c54947efac1fcacf59c4a17    23\n",
       "fffed0bee753cd78494011b8b55dafd4f5c7e5ff    13\n",
       "ffff07d7d9bb187aa58c7b81b3d3f35e7cf7c0ee    13\n",
       "Length: 110000, dtype: int64"
      ]
     },
     "execution_count": 30,
     "metadata": {
      "tags": []
     },
     "output_type": "execute_result"
    }
   ],
   "source": [
    "user=df_final.groupby(['user_id']).size()\n",
    "user"
   ]
  },
  {
   "cell_type": "code",
   "execution_count": null,
   "metadata": {
    "colab": {
     "base_uri": "https://localhost:8080/"
    },
    "id": "XxUw9IaJu92a",
    "outputId": "38ada28a-7ef5-4fef-bd9c-84481d0ec287"
   },
   "outputs": [
    {
     "data": {
      "text/plain": [
       "7d90be8dfdbde170f036ce8a4b915440137cb11c    53\n",
       "03ad93fdb01506ce205f4708decf8e4b1ae90fff    52\n",
       "0f8308935bcbb9a1e04ebb7c4d41c037e5f23b90    52\n",
       "016a24e91a72c159a5048ab1b9b2ba5ce761b526    52\n",
       "2e424b28bff1f62a2dae22a918f09f9c30c06d1b    52\n",
       "                                            ..\n",
       "27e691b8a052ec64d3bcdd2d4d8613b594111ee0     5\n",
       "a8896a6d3ee07671c99d42a2e8d7d9477ef55b09     5\n",
       "025349a7d40ffe229ab848b38cc2061928bf385f     5\n",
       "57beb17aa8a74504cdeba09e843f13d49cf09df2     5\n",
       "6cf68370a54e6f6577759bf5f991e0bdd17d97d7     5\n",
       "Name: user_id, Length: 110000, dtype: int64"
      ]
     },
     "execution_count": 31,
     "metadata": {
      "tags": []
     },
     "output_type": "execute_result"
    }
   ],
   "source": [
    "df_final.user_id.value_counts() #this cell gives user count that how many songs particular user listened\n",
    "# there is user with highest user count of 53"
   ]
  },
  {
   "cell_type": "code",
   "execution_count": null,
   "metadata": {
    "colab": {
     "base_uri": "https://localhost:8080/",
     "height": 1000
    },
    "id": "zftqpqAPu-dy",
    "outputId": "28914cbf-3c8c-43fd-c052-80eb2c329cb6"
   },
   "outputs": [
    {
     "data": {
      "text/html": [
       "<div>\n",
       "<style scoped>\n",
       "    .dataframe tbody tr th:only-of-type {\n",
       "        vertical-align: middle;\n",
       "    }\n",
       "\n",
       "    .dataframe tbody tr th {\n",
       "        vertical-align: top;\n",
       "    }\n",
       "\n",
       "    .dataframe thead th {\n",
       "        text-align: right;\n",
       "    }\n",
       "</style>\n",
       "<table border=\"1\" class=\"dataframe\">\n",
       "  <thead>\n",
       "    <tr style=\"text-align: right;\">\n",
       "      <th></th>\n",
       "      <th>user_id</th>\n",
       "      <th>song_id</th>\n",
       "      <th>freq</th>\n",
       "      <th>artist_name</th>\n",
       "      <th>release</th>\n",
       "    </tr>\n",
       "  </thead>\n",
       "  <tbody>\n",
       "    <tr>\n",
       "      <th>259575</th>\n",
       "      <td>7d90be8dfdbde170f036ce8a4b915440137cb11c</td>\n",
       "      <td>SOKNWRZ12A8C13BF62</td>\n",
       "      <td>1</td>\n",
       "      <td>Postal Service</td>\n",
       "      <td>Natural Anthem (Album)</td>\n",
       "    </tr>\n",
       "    <tr>\n",
       "      <th>259576</th>\n",
       "      <td>7d90be8dfdbde170f036ce8a4b915440137cb11c</td>\n",
       "      <td>SOMPGPP12A6BD55D5F</td>\n",
       "      <td>5</td>\n",
       "      <td>Nine Inch Nails</td>\n",
       "      <td>Vessel</td>\n",
       "    </tr>\n",
       "    <tr>\n",
       "      <th>259577</th>\n",
       "      <td>7d90be8dfdbde170f036ce8a4b915440137cb11c</td>\n",
       "      <td>SOOVOSX12A81C22771</td>\n",
       "      <td>1</td>\n",
       "      <td>The Beginning Of The End</td>\n",
       "      <td>Funky Nassau_ Part 1 (LP Version)</td>\n",
       "    </tr>\n",
       "    <tr>\n",
       "      <th>259578</th>\n",
       "      <td>7d90be8dfdbde170f036ce8a4b915440137cb11c</td>\n",
       "      <td>SOSLQGG12A6D4F5045</td>\n",
       "      <td>1</td>\n",
       "      <td>Nevermore</td>\n",
       "      <td>Matricide</td>\n",
       "    </tr>\n",
       "    <tr>\n",
       "      <th>259579</th>\n",
       "      <td>7d90be8dfdbde170f036ce8a4b915440137cb11c</td>\n",
       "      <td>SOTIFKV12A6D4FAD83</td>\n",
       "      <td>2</td>\n",
       "      <td>D-Flame Feat. Wayne Marshall</td>\n",
       "      <td>Call Me Crazy</td>\n",
       "    </tr>\n",
       "    <tr>\n",
       "      <th>259580</th>\n",
       "      <td>7d90be8dfdbde170f036ce8a4b915440137cb11c</td>\n",
       "      <td>SOTFCUM12A6D4F7D0B</td>\n",
       "      <td>1</td>\n",
       "      <td>Remy</td>\n",
       "      <td>Intro</td>\n",
       "    </tr>\n",
       "    <tr>\n",
       "      <th>259581</th>\n",
       "      <td>7d90be8dfdbde170f036ce8a4b915440137cb11c</td>\n",
       "      <td>SOECRTE12A8C14296D</td>\n",
       "      <td>1</td>\n",
       "      <td>Blue October</td>\n",
       "      <td>Blue Skies</td>\n",
       "    </tr>\n",
       "    <tr>\n",
       "      <th>259582</th>\n",
       "      <td>7d90be8dfdbde170f036ce8a4b915440137cb11c</td>\n",
       "      <td>SOKXERP12A6D4F9895</td>\n",
       "      <td>1</td>\n",
       "      <td>Ana Caram</td>\n",
       "      <td>Overjoyed / Ancora</td>\n",
       "    </tr>\n",
       "    <tr>\n",
       "      <th>259583</th>\n",
       "      <td>7d90be8dfdbde170f036ce8a4b915440137cb11c</td>\n",
       "      <td>SOJAMRN12AB018BA2B</td>\n",
       "      <td>5</td>\n",
       "      <td>Eartha Kitt</td>\n",
       "      <td>Let's Do It_ Let's Fall In Love</td>\n",
       "    </tr>\n",
       "    <tr>\n",
       "      <th>259584</th>\n",
       "      <td>7d90be8dfdbde170f036ce8a4b915440137cb11c</td>\n",
       "      <td>SOYSSSK12A8C13BC34</td>\n",
       "      <td>2</td>\n",
       "      <td>Yeasayer</td>\n",
       "      <td>Wait For The Wintertime</td>\n",
       "    </tr>\n",
       "    <tr>\n",
       "      <th>259585</th>\n",
       "      <td>7d90be8dfdbde170f036ce8a4b915440137cb11c</td>\n",
       "      <td>SOAXJHW12A81C21E1F</td>\n",
       "      <td>2</td>\n",
       "      <td>Paramore</td>\n",
       "      <td>Misery Business (Single Version)</td>\n",
       "    </tr>\n",
       "    <tr>\n",
       "      <th>259586</th>\n",
       "      <td>7d90be8dfdbde170f036ce8a4b915440137cb11c</td>\n",
       "      <td>SOOEEPE12A8AE459A4</td>\n",
       "      <td>2</td>\n",
       "      <td>Metallica</td>\n",
       "      <td>The Unforgiven III</td>\n",
       "    </tr>\n",
       "    <tr>\n",
       "      <th>259587</th>\n",
       "      <td>7d90be8dfdbde170f036ce8a4b915440137cb11c</td>\n",
       "      <td>SOVHIIY12A58A7A606</td>\n",
       "      <td>1</td>\n",
       "      <td>The Bar-Kays</td>\n",
       "      <td>Soul Finger</td>\n",
       "    </tr>\n",
       "    <tr>\n",
       "      <th>259588</th>\n",
       "      <td>7d90be8dfdbde170f036ce8a4b915440137cb11c</td>\n",
       "      <td>SOYYBHE12A6BD53865</td>\n",
       "      <td>1</td>\n",
       "      <td>Ours</td>\n",
       "      <td>La Maison De Mes Parents (Edit)</td>\n",
       "    </tr>\n",
       "    <tr>\n",
       "      <th>259589</th>\n",
       "      <td>7d90be8dfdbde170f036ce8a4b915440137cb11c</td>\n",
       "      <td>SOVOJVL12A6D4F93C1</td>\n",
       "      <td>2</td>\n",
       "      <td>Paolo Nutini</td>\n",
       "      <td>Rewind [Album Version]</td>\n",
       "    </tr>\n",
       "    <tr>\n",
       "      <th>259590</th>\n",
       "      <td>7d90be8dfdbde170f036ce8a4b915440137cb11c</td>\n",
       "      <td>SOBHRTW12A8AE48014</td>\n",
       "      <td>5</td>\n",
       "      <td>Rolf Harris</td>\n",
       "      <td>The Court Of King Caractacus</td>\n",
       "    </tr>\n",
       "    <tr>\n",
       "      <th>259591</th>\n",
       "      <td>7d90be8dfdbde170f036ce8a4b915440137cb11c</td>\n",
       "      <td>SOGYTIV12A6D4FBF10</td>\n",
       "      <td>1</td>\n",
       "      <td>Carla Bruni</td>\n",
       "      <td>Promises Like Pie-Crust (Album)</td>\n",
       "    </tr>\n",
       "    <tr>\n",
       "      <th>259592</th>\n",
       "      <td>7d90be8dfdbde170f036ce8a4b915440137cb11c</td>\n",
       "      <td>SOQXDUU12A6310E836</td>\n",
       "      <td>1</td>\n",
       "      <td>Marvin Gaye</td>\n",
       "      <td>I Want You</td>\n",
       "    </tr>\n",
       "    <tr>\n",
       "      <th>259593</th>\n",
       "      <td>7d90be8dfdbde170f036ce8a4b915440137cb11c</td>\n",
       "      <td>SOPRYVX12AF72A5B7F</td>\n",
       "      <td>1</td>\n",
       "      <td>Bad Manners</td>\n",
       "      <td>Special Brew</td>\n",
       "    </tr>\n",
       "    <tr>\n",
       "      <th>259594</th>\n",
       "      <td>7d90be8dfdbde170f036ce8a4b915440137cb11c</td>\n",
       "      <td>SOWVLZC12AB017F4FB</td>\n",
       "      <td>5</td>\n",
       "      <td>Insane Clown Posse</td>\n",
       "      <td>Out</td>\n",
       "    </tr>\n",
       "    <tr>\n",
       "      <th>259595</th>\n",
       "      <td>7d90be8dfdbde170f036ce8a4b915440137cb11c</td>\n",
       "      <td>SOBATYS12A58A76C6E</td>\n",
       "      <td>5</td>\n",
       "      <td>The Kingston Trio</td>\n",
       "      <td>Greenback Dollar</td>\n",
       "    </tr>\n",
       "    <tr>\n",
       "      <th>259596</th>\n",
       "      <td>7d90be8dfdbde170f036ce8a4b915440137cb11c</td>\n",
       "      <td>SOEXMJG12A8C13EC18</td>\n",
       "      <td>1</td>\n",
       "      <td>Led Zeppelin</td>\n",
       "      <td>Ten Years Gone  (Album Version)</td>\n",
       "    </tr>\n",
       "    <tr>\n",
       "      <th>259597</th>\n",
       "      <td>7d90be8dfdbde170f036ce8a4b915440137cb11c</td>\n",
       "      <td>SONZTEN12A8C136B8C</td>\n",
       "      <td>1</td>\n",
       "      <td>Yeasayer</td>\n",
       "      <td>2080</td>\n",
       "    </tr>\n",
       "    <tr>\n",
       "      <th>259598</th>\n",
       "      <td>7d90be8dfdbde170f036ce8a4b915440137cb11c</td>\n",
       "      <td>SOTGHQR12A8C1406C5</td>\n",
       "      <td>1</td>\n",
       "      <td>Chris Bathgate</td>\n",
       "      <td>Coda</td>\n",
       "    </tr>\n",
       "    <tr>\n",
       "      <th>259599</th>\n",
       "      <td>7d90be8dfdbde170f036ce8a4b915440137cb11c</td>\n",
       "      <td>SOOCQDM12A8C140869</td>\n",
       "      <td>1</td>\n",
       "      <td>Mungo Jerry</td>\n",
       "      <td>In The Summertime</td>\n",
       "    </tr>\n",
       "    <tr>\n",
       "      <th>259600</th>\n",
       "      <td>7d90be8dfdbde170f036ce8a4b915440137cb11c</td>\n",
       "      <td>SOACEQF12A58A7B70E</td>\n",
       "      <td>1</td>\n",
       "      <td>La Portuaria</td>\n",
       "      <td>Escenas De La Vida(En Vivo)</td>\n",
       "    </tr>\n",
       "    <tr>\n",
       "      <th>259601</th>\n",
       "      <td>7d90be8dfdbde170f036ce8a4b915440137cb11c</td>\n",
       "      <td>SOBYWZZ12A58A7B90E</td>\n",
       "      <td>1</td>\n",
       "      <td>Hadag Nachash</td>\n",
       "      <td>Gan Haedden (Edden)</td>\n",
       "    </tr>\n",
       "    <tr>\n",
       "      <th>259602</th>\n",
       "      <td>7d90be8dfdbde170f036ce8a4b915440137cb11c</td>\n",
       "      <td>SOQBYQC12A8C143F2A</td>\n",
       "      <td>1</td>\n",
       "      <td>Alceu Valença</td>\n",
       "      <td>No Balanço Da Canoa</td>\n",
       "    </tr>\n",
       "    <tr>\n",
       "      <th>259603</th>\n",
       "      <td>7d90be8dfdbde170f036ce8a4b915440137cb11c</td>\n",
       "      <td>SOATPFD12A8C136B88</td>\n",
       "      <td>2</td>\n",
       "      <td>Yeasayer</td>\n",
       "      <td>Wait For The Summer</td>\n",
       "    </tr>\n",
       "    <tr>\n",
       "      <th>259604</th>\n",
       "      <td>7d90be8dfdbde170f036ce8a4b915440137cb11c</td>\n",
       "      <td>SOBABRB12A6701DF4B</td>\n",
       "      <td>6</td>\n",
       "      <td>Shania Twain</td>\n",
       "      <td>Nah!</td>\n",
       "    </tr>\n",
       "    <tr>\n",
       "      <th>259605</th>\n",
       "      <td>7d90be8dfdbde170f036ce8a4b915440137cb11c</td>\n",
       "      <td>SOQDYRL12A8C13211D</td>\n",
       "      <td>1</td>\n",
       "      <td>Glenn Lewis</td>\n",
       "      <td>Don't You Forget It</td>\n",
       "    </tr>\n",
       "    <tr>\n",
       "      <th>259606</th>\n",
       "      <td>7d90be8dfdbde170f036ce8a4b915440137cb11c</td>\n",
       "      <td>SOZJFDM12AB01807DC</td>\n",
       "      <td>1</td>\n",
       "      <td>Rick Ross</td>\n",
       "      <td>Push It</td>\n",
       "    </tr>\n",
       "    <tr>\n",
       "      <th>259607</th>\n",
       "      <td>7d90be8dfdbde170f036ce8a4b915440137cb11c</td>\n",
       "      <td>SOMDZLO12AF729A7C1</td>\n",
       "      <td>2</td>\n",
       "      <td>In Flames</td>\n",
       "      <td>Artifacts of the black rain</td>\n",
       "    </tr>\n",
       "    <tr>\n",
       "      <th>259608</th>\n",
       "      <td>7d90be8dfdbde170f036ce8a4b915440137cb11c</td>\n",
       "      <td>SOVFEGN12AF72A3369</td>\n",
       "      <td>1</td>\n",
       "      <td>A.A. Bondy</td>\n",
       "      <td>Killed Myself When I Was Young</td>\n",
       "    </tr>\n",
       "    <tr>\n",
       "      <th>259609</th>\n",
       "      <td>7d90be8dfdbde170f036ce8a4b915440137cb11c</td>\n",
       "      <td>SOIIUPO12A6D4F7EA8</td>\n",
       "      <td>2</td>\n",
       "      <td>Dion &amp; The Belmonts</td>\n",
       "      <td>A Teenager In Love</td>\n",
       "    </tr>\n",
       "    <tr>\n",
       "      <th>259610</th>\n",
       "      <td>7d90be8dfdbde170f036ce8a4b915440137cb11c</td>\n",
       "      <td>SOCXEKQ12AAF3B5490</td>\n",
       "      <td>1</td>\n",
       "      <td>Rammstein</td>\n",
       "      <td>Stripped</td>\n",
       "    </tr>\n",
       "    <tr>\n",
       "      <th>259611</th>\n",
       "      <td>7d90be8dfdbde170f036ce8a4b915440137cb11c</td>\n",
       "      <td>SOWZREA12A6701D93D</td>\n",
       "      <td>1</td>\n",
       "      <td>Method Man / Busta Rhymes</td>\n",
       "      <td>What's Happenin'</td>\n",
       "    </tr>\n",
       "    <tr>\n",
       "      <th>259612</th>\n",
       "      <td>7d90be8dfdbde170f036ce8a4b915440137cb11c</td>\n",
       "      <td>SOQBRAQ12A58A7D473</td>\n",
       "      <td>5</td>\n",
       "      <td>Eels</td>\n",
       "      <td>My Beloved Monster</td>\n",
       "    </tr>\n",
       "    <tr>\n",
       "      <th>259613</th>\n",
       "      <td>7d90be8dfdbde170f036ce8a4b915440137cb11c</td>\n",
       "      <td>SOAVGMK12A8C144BDD</td>\n",
       "      <td>1</td>\n",
       "      <td>Ryan Leslie</td>\n",
       "      <td>How It Was Supposed To Be</td>\n",
       "    </tr>\n",
       "    <tr>\n",
       "      <th>259614</th>\n",
       "      <td>7d90be8dfdbde170f036ce8a4b915440137cb11c</td>\n",
       "      <td>SOXGIHJ12A8C13B367</td>\n",
       "      <td>4</td>\n",
       "      <td>Yeasayer</td>\n",
       "      <td>Final Path</td>\n",
       "    </tr>\n",
       "    <tr>\n",
       "      <th>259615</th>\n",
       "      <td>7d90be8dfdbde170f036ce8a4b915440137cb11c</td>\n",
       "      <td>SOZJJCY12A8C13C917</td>\n",
       "      <td>1</td>\n",
       "      <td>Yo La Tengo</td>\n",
       "      <td>Out The Window</td>\n",
       "    </tr>\n",
       "    <tr>\n",
       "      <th>259616</th>\n",
       "      <td>7d90be8dfdbde170f036ce8a4b915440137cb11c</td>\n",
       "      <td>SOZQOLR12A8C136B84</td>\n",
       "      <td>2</td>\n",
       "      <td>Yeasayer</td>\n",
       "      <td>Sunrise</td>\n",
       "    </tr>\n",
       "    <tr>\n",
       "      <th>259617</th>\n",
       "      <td>7d90be8dfdbde170f036ce8a4b915440137cb11c</td>\n",
       "      <td>SOLZTYD12A8C143215</td>\n",
       "      <td>1</td>\n",
       "      <td>Mischa Daniels</td>\n",
       "      <td>Another Place</td>\n",
       "    </tr>\n",
       "    <tr>\n",
       "      <th>259618</th>\n",
       "      <td>7d90be8dfdbde170f036ce8a4b915440137cb11c</td>\n",
       "      <td>SOAPEQV12A8C13CD31</td>\n",
       "      <td>1</td>\n",
       "      <td>Hird</td>\n",
       "      <td>Getting Closer</td>\n",
       "    </tr>\n",
       "    <tr>\n",
       "      <th>259619</th>\n",
       "      <td>7d90be8dfdbde170f036ce8a4b915440137cb11c</td>\n",
       "      <td>SOGGUCU12A6D4F76C2</td>\n",
       "      <td>2</td>\n",
       "      <td>Steve Hackett</td>\n",
       "      <td>Hackett To Pieces</td>\n",
       "    </tr>\n",
       "    <tr>\n",
       "      <th>259620</th>\n",
       "      <td>7d90be8dfdbde170f036ce8a4b915440137cb11c</td>\n",
       "      <td>SODZVMN12AC3DF81C6</td>\n",
       "      <td>1</td>\n",
       "      <td>Datarock</td>\n",
       "      <td>Give It Up (Kissy Sell Out's 4x4 Cello Mix)</td>\n",
       "    </tr>\n",
       "    <tr>\n",
       "      <th>259621</th>\n",
       "      <td>7d90be8dfdbde170f036ce8a4b915440137cb11c</td>\n",
       "      <td>SODHITM12A58A79070</td>\n",
       "      <td>1</td>\n",
       "      <td>Baby Huey &amp; The Baby Sitters</td>\n",
       "      <td>Listen To Me (LP Version)</td>\n",
       "    </tr>\n",
       "    <tr>\n",
       "      <th>259622</th>\n",
       "      <td>7d90be8dfdbde170f036ce8a4b915440137cb11c</td>\n",
       "      <td>SOMHUFR12A8C14179D</td>\n",
       "      <td>1</td>\n",
       "      <td>Klaus Lage</td>\n",
       "      <td>Ab Jetzt Nicht Mehr</td>\n",
       "    </tr>\n",
       "    <tr>\n",
       "      <th>259623</th>\n",
       "      <td>7d90be8dfdbde170f036ce8a4b915440137cb11c</td>\n",
       "      <td>SOGMHOJ12A6D2282AA</td>\n",
       "      <td>1</td>\n",
       "      <td>Shearwater</td>\n",
       "      <td>Red Sea_ Black Sea</td>\n",
       "    </tr>\n",
       "    <tr>\n",
       "      <th>259624</th>\n",
       "      <td>7d90be8dfdbde170f036ce8a4b915440137cb11c</td>\n",
       "      <td>SOXHIDK12A58A7CFB3</td>\n",
       "      <td>1</td>\n",
       "      <td>Jadakiss / Swizz Beatz / OJ Da Juiceman</td>\n",
       "      <td>Who's Real</td>\n",
       "    </tr>\n",
       "    <tr>\n",
       "      <th>259625</th>\n",
       "      <td>7d90be8dfdbde170f036ce8a4b915440137cb11c</td>\n",
       "      <td>SOHKZPT12AB0183E4B</td>\n",
       "      <td>2</td>\n",
       "      <td>Okkervil River</td>\n",
       "      <td>Love To A Monster</td>\n",
       "    </tr>\n",
       "    <tr>\n",
       "      <th>259626</th>\n",
       "      <td>7d90be8dfdbde170f036ce8a4b915440137cb11c</td>\n",
       "      <td>SOJSQYL12A81C23901</td>\n",
       "      <td>4</td>\n",
       "      <td>Onar</td>\n",
       "      <td>Xehasmeni Melodia</td>\n",
       "    </tr>\n",
       "    <tr>\n",
       "      <th>259627</th>\n",
       "      <td>7d90be8dfdbde170f036ce8a4b915440137cb11c</td>\n",
       "      <td>SOHTWGE12AB0188968</td>\n",
       "      <td>5</td>\n",
       "      <td>Triple Darkness</td>\n",
       "      <td>Represent</td>\n",
       "    </tr>\n",
       "  </tbody>\n",
       "</table>\n",
       "</div>"
      ],
      "text/plain": [
       "                                         user_id  ...                                      release\n",
       "259575  7d90be8dfdbde170f036ce8a4b915440137cb11c  ...                       Natural Anthem (Album)\n",
       "259576  7d90be8dfdbde170f036ce8a4b915440137cb11c  ...                                       Vessel\n",
       "259577  7d90be8dfdbde170f036ce8a4b915440137cb11c  ...            Funky Nassau_ Part 1 (LP Version)\n",
       "259578  7d90be8dfdbde170f036ce8a4b915440137cb11c  ...                                    Matricide\n",
       "259579  7d90be8dfdbde170f036ce8a4b915440137cb11c  ...                                Call Me Crazy\n",
       "259580  7d90be8dfdbde170f036ce8a4b915440137cb11c  ...                                        Intro\n",
       "259581  7d90be8dfdbde170f036ce8a4b915440137cb11c  ...                                   Blue Skies\n",
       "259582  7d90be8dfdbde170f036ce8a4b915440137cb11c  ...                           Overjoyed / Ancora\n",
       "259583  7d90be8dfdbde170f036ce8a4b915440137cb11c  ...              Let's Do It_ Let's Fall In Love\n",
       "259584  7d90be8dfdbde170f036ce8a4b915440137cb11c  ...                      Wait For The Wintertime\n",
       "259585  7d90be8dfdbde170f036ce8a4b915440137cb11c  ...             Misery Business (Single Version)\n",
       "259586  7d90be8dfdbde170f036ce8a4b915440137cb11c  ...                           The Unforgiven III\n",
       "259587  7d90be8dfdbde170f036ce8a4b915440137cb11c  ...                                  Soul Finger\n",
       "259588  7d90be8dfdbde170f036ce8a4b915440137cb11c  ...              La Maison De Mes Parents (Edit)\n",
       "259589  7d90be8dfdbde170f036ce8a4b915440137cb11c  ...                       Rewind [Album Version]\n",
       "259590  7d90be8dfdbde170f036ce8a4b915440137cb11c  ...                 The Court Of King Caractacus\n",
       "259591  7d90be8dfdbde170f036ce8a4b915440137cb11c  ...              Promises Like Pie-Crust (Album)\n",
       "259592  7d90be8dfdbde170f036ce8a4b915440137cb11c  ...                                   I Want You\n",
       "259593  7d90be8dfdbde170f036ce8a4b915440137cb11c  ...                                 Special Brew\n",
       "259594  7d90be8dfdbde170f036ce8a4b915440137cb11c  ...                                          Out\n",
       "259595  7d90be8dfdbde170f036ce8a4b915440137cb11c  ...                             Greenback Dollar\n",
       "259596  7d90be8dfdbde170f036ce8a4b915440137cb11c  ...              Ten Years Gone  (Album Version)\n",
       "259597  7d90be8dfdbde170f036ce8a4b915440137cb11c  ...                                         2080\n",
       "259598  7d90be8dfdbde170f036ce8a4b915440137cb11c  ...                                         Coda\n",
       "259599  7d90be8dfdbde170f036ce8a4b915440137cb11c  ...                            In The Summertime\n",
       "259600  7d90be8dfdbde170f036ce8a4b915440137cb11c  ...                  Escenas De La Vida(En Vivo)\n",
       "259601  7d90be8dfdbde170f036ce8a4b915440137cb11c  ...                          Gan Haedden (Edden)\n",
       "259602  7d90be8dfdbde170f036ce8a4b915440137cb11c  ...                          No Balanço Da Canoa\n",
       "259603  7d90be8dfdbde170f036ce8a4b915440137cb11c  ...                          Wait For The Summer\n",
       "259604  7d90be8dfdbde170f036ce8a4b915440137cb11c  ...                                         Nah!\n",
       "259605  7d90be8dfdbde170f036ce8a4b915440137cb11c  ...                          Don't You Forget It\n",
       "259606  7d90be8dfdbde170f036ce8a4b915440137cb11c  ...                                      Push It\n",
       "259607  7d90be8dfdbde170f036ce8a4b915440137cb11c  ...                  Artifacts of the black rain\n",
       "259608  7d90be8dfdbde170f036ce8a4b915440137cb11c  ...               Killed Myself When I Was Young\n",
       "259609  7d90be8dfdbde170f036ce8a4b915440137cb11c  ...                           A Teenager In Love\n",
       "259610  7d90be8dfdbde170f036ce8a4b915440137cb11c  ...                                     Stripped\n",
       "259611  7d90be8dfdbde170f036ce8a4b915440137cb11c  ...                             What's Happenin'\n",
       "259612  7d90be8dfdbde170f036ce8a4b915440137cb11c  ...                           My Beloved Monster\n",
       "259613  7d90be8dfdbde170f036ce8a4b915440137cb11c  ...                    How It Was Supposed To Be\n",
       "259614  7d90be8dfdbde170f036ce8a4b915440137cb11c  ...                                   Final Path\n",
       "259615  7d90be8dfdbde170f036ce8a4b915440137cb11c  ...                               Out The Window\n",
       "259616  7d90be8dfdbde170f036ce8a4b915440137cb11c  ...                                      Sunrise\n",
       "259617  7d90be8dfdbde170f036ce8a4b915440137cb11c  ...                                Another Place\n",
       "259618  7d90be8dfdbde170f036ce8a4b915440137cb11c  ...                               Getting Closer\n",
       "259619  7d90be8dfdbde170f036ce8a4b915440137cb11c  ...                            Hackett To Pieces\n",
       "259620  7d90be8dfdbde170f036ce8a4b915440137cb11c  ...  Give It Up (Kissy Sell Out's 4x4 Cello Mix)\n",
       "259621  7d90be8dfdbde170f036ce8a4b915440137cb11c  ...                    Listen To Me (LP Version)\n",
       "259622  7d90be8dfdbde170f036ce8a4b915440137cb11c  ...                          Ab Jetzt Nicht Mehr\n",
       "259623  7d90be8dfdbde170f036ce8a4b915440137cb11c  ...                           Red Sea_ Black Sea\n",
       "259624  7d90be8dfdbde170f036ce8a4b915440137cb11c  ...                                   Who's Real\n",
       "259625  7d90be8dfdbde170f036ce8a4b915440137cb11c  ...                            Love To A Monster\n",
       "259626  7d90be8dfdbde170f036ce8a4b915440137cb11c  ...                            Xehasmeni Melodia\n",
       "259627  7d90be8dfdbde170f036ce8a4b915440137cb11c  ...                                    Represent\n",
       "\n",
       "[53 rows x 5 columns]"
      ]
     },
     "execution_count": 34,
     "metadata": {
      "tags": []
     },
     "output_type": "execute_result"
    }
   ],
   "source": [
    "# lets check with the highest user count\n",
    "user=df_final[df_final['user_id']=='7d90be8dfdbde170f036ce8a4b915440137cb11c']\n",
    "user"
   ]
  },
  {
   "cell_type": "code",
   "execution_count": null,
   "metadata": {
    "colab": {
     "base_uri": "https://localhost:8080/"
    },
    "id": "PH3b0_YPvv4n",
    "outputId": "598e86f8-397d-410f-9019-02ae4c5906a9"
   },
   "outputs": [
    {
     "data": {
      "text/plain": [
       "SOHKZPT12AB0183E4B    1\n",
       "SOOCQDM12A8C140869    1\n",
       "SOAPEQV12A8C13CD31    1\n",
       "SOKXERP12A6D4F9895    1\n",
       "SOAXJHW12A81C21E1F    1\n",
       "SOVHIIY12A58A7A606    1\n",
       "SOCXEKQ12AAF3B5490    1\n",
       "SODHITM12A58A79070    1\n",
       "SOTFCUM12A6D4F7D0B    1\n",
       "SOXGIHJ12A8C13B367    1\n",
       "SONZTEN12A8C136B8C    1\n",
       "SODZVMN12AC3DF81C6    1\n",
       "SOBATYS12A58A76C6E    1\n",
       "SOGMHOJ12A6D2282AA    1\n",
       "SOZJJCY12A8C13C917    1\n",
       "SOMPGPP12A6BD55D5F    1\n",
       "SOATPFD12A8C136B88    1\n",
       "SOWZREA12A6701D93D    1\n",
       "SOBYWZZ12A58A7B90E    1\n",
       "SOJSQYL12A81C23901    1\n",
       "SOQDYRL12A8C13211D    1\n",
       "SOJAMRN12AB018BA2B    1\n",
       "SOQBRAQ12A58A7D473    1\n",
       "SOOEEPE12A8AE459A4    1\n",
       "SOLZTYD12A8C143215    1\n",
       "SOMHUFR12A8C14179D    1\n",
       "SOGYTIV12A6D4FBF10    1\n",
       "SOACEQF12A58A7B70E    1\n",
       "SOVOJVL12A6D4F93C1    1\n",
       "SOMDZLO12AF729A7C1    1\n",
       "SOQXDUU12A6310E836    1\n",
       "SOZQOLR12A8C136B84    1\n",
       "SOVFEGN12AF72A3369    1\n",
       "SOZJFDM12AB01807DC    1\n",
       "SOTIFKV12A6D4FAD83    1\n",
       "SOAVGMK12A8C144BDD    1\n",
       "SOWVLZC12AB017F4FB    1\n",
       "SOEXMJG12A8C13EC18    1\n",
       "SOHTWGE12AB0188968    1\n",
       "SOOVOSX12A81C22771    1\n",
       "SOBHRTW12A8AE48014    1\n",
       "SOGGUCU12A6D4F76C2    1\n",
       "SOKNWRZ12A8C13BF62    1\n",
       "SOTGHQR12A8C1406C5    1\n",
       "SOYSSSK12A8C13BC34    1\n",
       "SOQBYQC12A8C143F2A    1\n",
       "SOIIUPO12A6D4F7EA8    1\n",
       "SOPRYVX12AF72A5B7F    1\n",
       "SOYYBHE12A6BD53865    1\n",
       "SOECRTE12A8C14296D    1\n",
       "SOBABRB12A6701DF4B    1\n",
       "SOSLQGG12A6D4F5045    1\n",
       "SOXHIDK12A58A7CFB3    1\n",
       "Name: song_id, dtype: int64"
      ]
     },
     "execution_count": 35,
     "metadata": {
      "tags": []
     },
     "output_type": "execute_result"
    }
   ],
   "source": [
    "user.song_id.value_counts() # highest user had listened 53 different songs"
   ]
  },
  {
   "cell_type": "code",
   "execution_count": null,
   "metadata": {
    "colab": {
     "base_uri": "https://localhost:8080/",
     "height": 359
    },
    "id": "UAyDRoEOvv0X",
    "outputId": "426d6fe5-8df7-49da-c3d2-9f8ad95f5991"
   },
   "outputs": [
    {
     "data": {
      "text/html": [
       "<div>\n",
       "<style scoped>\n",
       "    .dataframe tbody tr th:only-of-type {\n",
       "        vertical-align: middle;\n",
       "    }\n",
       "\n",
       "    .dataframe tbody tr th {\n",
       "        vertical-align: top;\n",
       "    }\n",
       "\n",
       "    .dataframe thead th {\n",
       "        text-align: right;\n",
       "    }\n",
       "</style>\n",
       "<table border=\"1\" class=\"dataframe\">\n",
       "  <thead>\n",
       "    <tr style=\"text-align: right;\">\n",
       "      <th></th>\n",
       "      <th>user_id</th>\n",
       "      <th>song_id</th>\n",
       "      <th>freq</th>\n",
       "      <th>artist_name</th>\n",
       "      <th>release</th>\n",
       "    </tr>\n",
       "  </thead>\n",
       "  <tbody>\n",
       "    <tr>\n",
       "      <th>259576</th>\n",
       "      <td>7d90be8dfdbde170f036ce8a4b915440137cb11c</td>\n",
       "      <td>SOMPGPP12A6BD55D5F</td>\n",
       "      <td>5</td>\n",
       "      <td>Nine Inch Nails</td>\n",
       "      <td>Vessel</td>\n",
       "    </tr>\n",
       "    <tr>\n",
       "      <th>259583</th>\n",
       "      <td>7d90be8dfdbde170f036ce8a4b915440137cb11c</td>\n",
       "      <td>SOJAMRN12AB018BA2B</td>\n",
       "      <td>5</td>\n",
       "      <td>Eartha Kitt</td>\n",
       "      <td>Let's Do It_ Let's Fall In Love</td>\n",
       "    </tr>\n",
       "    <tr>\n",
       "      <th>259590</th>\n",
       "      <td>7d90be8dfdbde170f036ce8a4b915440137cb11c</td>\n",
       "      <td>SOBHRTW12A8AE48014</td>\n",
       "      <td>5</td>\n",
       "      <td>Rolf Harris</td>\n",
       "      <td>The Court Of King Caractacus</td>\n",
       "    </tr>\n",
       "    <tr>\n",
       "      <th>259594</th>\n",
       "      <td>7d90be8dfdbde170f036ce8a4b915440137cb11c</td>\n",
       "      <td>SOWVLZC12AB017F4FB</td>\n",
       "      <td>5</td>\n",
       "      <td>Insane Clown Posse</td>\n",
       "      <td>Out</td>\n",
       "    </tr>\n",
       "    <tr>\n",
       "      <th>259595</th>\n",
       "      <td>7d90be8dfdbde170f036ce8a4b915440137cb11c</td>\n",
       "      <td>SOBATYS12A58A76C6E</td>\n",
       "      <td>5</td>\n",
       "      <td>The Kingston Trio</td>\n",
       "      <td>Greenback Dollar</td>\n",
       "    </tr>\n",
       "    <tr>\n",
       "      <th>259604</th>\n",
       "      <td>7d90be8dfdbde170f036ce8a4b915440137cb11c</td>\n",
       "      <td>SOBABRB12A6701DF4B</td>\n",
       "      <td>6</td>\n",
       "      <td>Shania Twain</td>\n",
       "      <td>Nah!</td>\n",
       "    </tr>\n",
       "    <tr>\n",
       "      <th>259612</th>\n",
       "      <td>7d90be8dfdbde170f036ce8a4b915440137cb11c</td>\n",
       "      <td>SOQBRAQ12A58A7D473</td>\n",
       "      <td>5</td>\n",
       "      <td>Eels</td>\n",
       "      <td>My Beloved Monster</td>\n",
       "    </tr>\n",
       "    <tr>\n",
       "      <th>259614</th>\n",
       "      <td>7d90be8dfdbde170f036ce8a4b915440137cb11c</td>\n",
       "      <td>SOXGIHJ12A8C13B367</td>\n",
       "      <td>4</td>\n",
       "      <td>Yeasayer</td>\n",
       "      <td>Final Path</td>\n",
       "    </tr>\n",
       "    <tr>\n",
       "      <th>259626</th>\n",
       "      <td>7d90be8dfdbde170f036ce8a4b915440137cb11c</td>\n",
       "      <td>SOJSQYL12A81C23901</td>\n",
       "      <td>4</td>\n",
       "      <td>Onar</td>\n",
       "      <td>Xehasmeni Melodia</td>\n",
       "    </tr>\n",
       "    <tr>\n",
       "      <th>259627</th>\n",
       "      <td>7d90be8dfdbde170f036ce8a4b915440137cb11c</td>\n",
       "      <td>SOHTWGE12AB0188968</td>\n",
       "      <td>5</td>\n",
       "      <td>Triple Darkness</td>\n",
       "      <td>Represent</td>\n",
       "    </tr>\n",
       "  </tbody>\n",
       "</table>\n",
       "</div>"
      ],
      "text/plain": [
       "                                         user_id  ...                          release\n",
       "259576  7d90be8dfdbde170f036ce8a4b915440137cb11c  ...                           Vessel\n",
       "259583  7d90be8dfdbde170f036ce8a4b915440137cb11c  ...  Let's Do It_ Let's Fall In Love\n",
       "259590  7d90be8dfdbde170f036ce8a4b915440137cb11c  ...     The Court Of King Caractacus\n",
       "259594  7d90be8dfdbde170f036ce8a4b915440137cb11c  ...                              Out\n",
       "259595  7d90be8dfdbde170f036ce8a4b915440137cb11c  ...                 Greenback Dollar\n",
       "259604  7d90be8dfdbde170f036ce8a4b915440137cb11c  ...                             Nah!\n",
       "259612  7d90be8dfdbde170f036ce8a4b915440137cb11c  ...               My Beloved Monster\n",
       "259614  7d90be8dfdbde170f036ce8a4b915440137cb11c  ...                       Final Path\n",
       "259626  7d90be8dfdbde170f036ce8a4b915440137cb11c  ...                Xehasmeni Melodia\n",
       "259627  7d90be8dfdbde170f036ce8a4b915440137cb11c  ...                        Represent\n",
       "\n",
       "[10 rows x 5 columns]"
      ]
     },
     "execution_count": 36,
     "metadata": {
      "tags": []
     },
     "output_type": "execute_result"
    }
   ],
   "source": [
    "user[user['freq']>3] # this cell provides information about the song id's the highest user had listened more than 3 times"
   ]
  },
  {
   "cell_type": "code",
   "execution_count": null,
   "metadata": {
    "id": "cXb0oG1H0OXC"
   },
   "outputs": [],
   "source": []
  },
  {
   "cell_type": "code",
   "execution_count": null,
   "metadata": {
    "colab": {
     "base_uri": "https://localhost:8080/",
     "height": 609
    },
    "id": "nyxZP_v2Guod",
    "outputId": "32d408a0-0866-42bb-93e3-0f27c46aa194",
    "scrolled": true
   },
   "outputs": [
    {
     "ename": "ValueError",
     "evalue": "ignored",
     "output_type": "error",
     "traceback": [
      "\u001b[0;31m---------------------------------------------------------------------------\u001b[0m",
      "\u001b[0;31mValueError\u001b[0m                                Traceback (most recent call last)",
      "\u001b[0;32m<ipython-input-39-680ad529566b>\u001b[0m in \u001b[0;36m<module>\u001b[0;34m()\u001b[0m\n\u001b[1;32m      2\u001b[0m              \u001b[0mbins\u001b[0m\u001b[0;34m=\u001b[0m\u001b[0mint\u001b[0m\u001b[0;34m(\u001b[0m\u001b[0;36m180\u001b[0m\u001b[0;34m/\u001b[0m\u001b[0;36m5\u001b[0m\u001b[0;34m)\u001b[0m\u001b[0;34m,\u001b[0m \u001b[0mcolor\u001b[0m \u001b[0;34m=\u001b[0m \u001b[0;34m'red'\u001b[0m\u001b[0;34m,\u001b[0m\u001b[0;34m\u001b[0m\u001b[0;34m\u001b[0m\u001b[0m\n\u001b[1;32m      3\u001b[0m              \u001b[0mhist_kws\u001b[0m\u001b[0;34m=\u001b[0m\u001b[0;34m{\u001b[0m\u001b[0;34m'edgecolor'\u001b[0m\u001b[0;34m:\u001b[0m\u001b[0;34m'black'\u001b[0m\u001b[0;34m}\u001b[0m\u001b[0;34m,\u001b[0m\u001b[0;34m\u001b[0m\u001b[0;34m\u001b[0m\u001b[0m\n\u001b[0;32m----> 4\u001b[0;31m              kde_kws={'linewidth': 1})\n\u001b[0m\u001b[1;32m      5\u001b[0m \u001b[0mUser1\u001b[0m\u001b[0;34m.\u001b[0m\u001b[0mset\u001b[0m\u001b[0;34m(\u001b[0m\u001b[0mxlabel\u001b[0m\u001b[0;34m=\u001b[0m\u001b[0;34m\"Number of Songs Per User\"\u001b[0m\u001b[0;34m,\u001b[0m \u001b[0mylabel\u001b[0m \u001b[0;34m=\u001b[0m \u001b[0;34m\"Density\"\u001b[0m\u001b[0;34m)\u001b[0m\u001b[0;34m\u001b[0m\u001b[0;34m\u001b[0m\u001b[0m\n",
      "\u001b[0;32m/usr/local/lib/python3.7/dist-packages/seaborn/distributions.py\u001b[0m in \u001b[0;36mdistplot\u001b[0;34m(a, bins, hist, kde, rug, fit, hist_kws, kde_kws, rug_kws, fit_kws, color, vertical, norm_hist, axlabel, label, ax, x)\u001b[0m\n\u001b[1;32m   2572\u001b[0m \u001b[0;34m\u001b[0m\u001b[0m\n\u001b[1;32m   2573\u001b[0m     \u001b[0;31m# Make a a 1-d float array\u001b[0m\u001b[0;34m\u001b[0m\u001b[0;34m\u001b[0m\u001b[0;34m\u001b[0m\u001b[0m\n\u001b[0;32m-> 2574\u001b[0;31m     \u001b[0ma\u001b[0m \u001b[0;34m=\u001b[0m \u001b[0mnp\u001b[0m\u001b[0;34m.\u001b[0m\u001b[0masarray\u001b[0m\u001b[0;34m(\u001b[0m\u001b[0ma\u001b[0m\u001b[0;34m,\u001b[0m \u001b[0mfloat\u001b[0m\u001b[0;34m)\u001b[0m\u001b[0;34m\u001b[0m\u001b[0;34m\u001b[0m\u001b[0m\n\u001b[0m\u001b[1;32m   2575\u001b[0m     \u001b[0;32mif\u001b[0m \u001b[0ma\u001b[0m\u001b[0;34m.\u001b[0m\u001b[0mndim\u001b[0m \u001b[0;34m>\u001b[0m \u001b[0;36m1\u001b[0m\u001b[0;34m:\u001b[0m\u001b[0;34m\u001b[0m\u001b[0;34m\u001b[0m\u001b[0m\n\u001b[1;32m   2576\u001b[0m         \u001b[0ma\u001b[0m \u001b[0;34m=\u001b[0m \u001b[0ma\u001b[0m\u001b[0;34m.\u001b[0m\u001b[0msqueeze\u001b[0m\u001b[0;34m(\u001b[0m\u001b[0;34m)\u001b[0m\u001b[0;34m\u001b[0m\u001b[0;34m\u001b[0m\u001b[0m\n",
      "\u001b[0;32m/usr/local/lib/python3.7/dist-packages/numpy/core/_asarray.py\u001b[0m in \u001b[0;36masarray\u001b[0;34m(a, dtype, order)\u001b[0m\n\u001b[1;32m     81\u001b[0m \u001b[0;34m\u001b[0m\u001b[0m\n\u001b[1;32m     82\u001b[0m     \"\"\"\n\u001b[0;32m---> 83\u001b[0;31m     \u001b[0;32mreturn\u001b[0m \u001b[0marray\u001b[0m\u001b[0;34m(\u001b[0m\u001b[0ma\u001b[0m\u001b[0;34m,\u001b[0m \u001b[0mdtype\u001b[0m\u001b[0;34m,\u001b[0m \u001b[0mcopy\u001b[0m\u001b[0;34m=\u001b[0m\u001b[0;32mFalse\u001b[0m\u001b[0;34m,\u001b[0m \u001b[0morder\u001b[0m\u001b[0;34m=\u001b[0m\u001b[0morder\u001b[0m\u001b[0;34m)\u001b[0m\u001b[0;34m\u001b[0m\u001b[0;34m\u001b[0m\u001b[0m\n\u001b[0m\u001b[1;32m     84\u001b[0m \u001b[0;34m\u001b[0m\u001b[0m\n\u001b[1;32m     85\u001b[0m \u001b[0;34m\u001b[0m\u001b[0m\n",
      "\u001b[0;32m/usr/local/lib/python3.7/dist-packages/pandas/core/generic.py\u001b[0m in \u001b[0;36m__array__\u001b[0;34m(self, dtype)\u001b[0m\n\u001b[1;32m   1779\u001b[0m \u001b[0;34m\u001b[0m\u001b[0m\n\u001b[1;32m   1780\u001b[0m     \u001b[0;32mdef\u001b[0m \u001b[0m__array__\u001b[0m\u001b[0;34m(\u001b[0m\u001b[0mself\u001b[0m\u001b[0;34m,\u001b[0m \u001b[0mdtype\u001b[0m\u001b[0;34m=\u001b[0m\u001b[0;32mNone\u001b[0m\u001b[0;34m)\u001b[0m \u001b[0;34m->\u001b[0m \u001b[0mnp\u001b[0m\u001b[0;34m.\u001b[0m\u001b[0mndarray\u001b[0m\u001b[0;34m:\u001b[0m\u001b[0;34m\u001b[0m\u001b[0;34m\u001b[0m\u001b[0m\n\u001b[0;32m-> 1781\u001b[0;31m         \u001b[0;32mreturn\u001b[0m \u001b[0mnp\u001b[0m\u001b[0;34m.\u001b[0m\u001b[0masarray\u001b[0m\u001b[0;34m(\u001b[0m\u001b[0mself\u001b[0m\u001b[0;34m.\u001b[0m\u001b[0m_values\u001b[0m\u001b[0;34m,\u001b[0m \u001b[0mdtype\u001b[0m\u001b[0;34m=\u001b[0m\u001b[0mdtype\u001b[0m\u001b[0;34m)\u001b[0m\u001b[0;34m\u001b[0m\u001b[0;34m\u001b[0m\u001b[0m\n\u001b[0m\u001b[1;32m   1782\u001b[0m \u001b[0;34m\u001b[0m\u001b[0m\n\u001b[1;32m   1783\u001b[0m     \u001b[0;32mdef\u001b[0m \u001b[0m__array_wrap__\u001b[0m\u001b[0;34m(\u001b[0m\u001b[0mself\u001b[0m\u001b[0;34m,\u001b[0m \u001b[0mresult\u001b[0m\u001b[0;34m,\u001b[0m \u001b[0mcontext\u001b[0m\u001b[0;34m=\u001b[0m\u001b[0;32mNone\u001b[0m\u001b[0;34m)\u001b[0m\u001b[0;34m:\u001b[0m\u001b[0;34m\u001b[0m\u001b[0;34m\u001b[0m\u001b[0m\n",
      "\u001b[0;32m/usr/local/lib/python3.7/dist-packages/numpy/core/_asarray.py\u001b[0m in \u001b[0;36masarray\u001b[0;34m(a, dtype, order)\u001b[0m\n\u001b[1;32m     81\u001b[0m \u001b[0;34m\u001b[0m\u001b[0m\n\u001b[1;32m     82\u001b[0m     \"\"\"\n\u001b[0;32m---> 83\u001b[0;31m     \u001b[0;32mreturn\u001b[0m \u001b[0marray\u001b[0m\u001b[0;34m(\u001b[0m\u001b[0ma\u001b[0m\u001b[0;34m,\u001b[0m \u001b[0mdtype\u001b[0m\u001b[0;34m,\u001b[0m \u001b[0mcopy\u001b[0m\u001b[0;34m=\u001b[0m\u001b[0;32mFalse\u001b[0m\u001b[0;34m,\u001b[0m \u001b[0morder\u001b[0m\u001b[0;34m=\u001b[0m\u001b[0morder\u001b[0m\u001b[0;34m)\u001b[0m\u001b[0;34m\u001b[0m\u001b[0;34m\u001b[0m\u001b[0m\n\u001b[0m\u001b[1;32m     84\u001b[0m \u001b[0;34m\u001b[0m\u001b[0m\n\u001b[1;32m     85\u001b[0m \u001b[0;34m\u001b[0m\u001b[0m\n",
      "\u001b[0;31mValueError\u001b[0m: could not convert string to float: '7d90be8dfdbde170f036ce8a4b915440137cb11c'"
     ]
    },
    {
     "data": {
      "image/png": "[encoded data removed]",
      "text/plain": [
       "<Figure size 432x288 with 1 Axes>"
      ]
     },
     "metadata": {
      "needs_background": "light",
      "tags": []
     },
     "output_type": "display_data"
    }
   ],
   "source": [
    "User1=sns.distplot(user, hist=False, kde=True, \n",
    "             bins=int(180/5), color = 'red', \n",
    "             hist_kws={'edgecolor':'black'},\n",
    "             kde_kws={'linewidth': 1})\n",
    "User1.set(xlabel=\"Number of Songs Per User\", ylabel = \"Density\")"
   ]
  },
  {
   "cell_type": "markdown",
   "metadata": {
    "id": "4crrmmzTqlPW"
   },
   "source": [
    "**by this graph we get to know about ther e are some user who played more song.**"
   ]
  },
  {
   "cell_type": "code",
   "execution_count": null,
   "metadata": {
    "colab": {
     "base_uri": "https://localhost:8080/",
     "height": 339
    },
    "id": "By92cuD0JNUD",
    "outputId": "48224afa-8f64-4b04-c230-fa63c04eba0b"
   },
   "outputs": [
    {
     "data": {
      "text/plain": [
       "<matplotlib.axes._subplots.AxesSubplot at 0x7f3b095de6d0>"
      ]
     },
     "execution_count": 48,
     "metadata": {
      "tags": []
     },
     "output_type": "execute_result"
    },
    {
     "data": {
      "image/png": "[encoded data removed]",
      "text/plain": [
       "<Figure size 720x360 with 1 Axes>"
      ]
     },
     "metadata": {
      "tags": []
     },
     "output_type": "display_data"
    }
   ],
   "source": [
    "plt.figure(figsize=[10,5])\n",
    "sns.boxplot(data=df_final.freq)"
   ]
  },
  {
   "cell_type": "code",
   "execution_count": null,
   "metadata": {
    "colab": {
     "base_uri": "https://localhost:8080/"
    },
    "id": "u8KoZZ2Yyvmb",
    "outputId": "b7821a39-dc0b-4e45-ae4f-6bba2cf056fe"
   },
   "outputs": [
    {
     "data": {
      "text/plain": [
       "17.24384045828895"
      ]
     },
     "execution_count": 49,
     "metadata": {
      "tags": []
     },
     "output_type": "execute_result"
    }
   ],
   "source": [
    "df_final.freq.skew()"
   ]
  },
  {
   "cell_type": "markdown",
   "metadata": {
    "id": "1SXlMV-2yzCx"
   },
   "source": [
    "**By seeing skew value of Freq column  the data is not normally distributed , it is highly positive skew  which means when freq value  is high then users are less  ,when freq is low then user are more**"
   ]
  }
 ],
 "metadata": {
  "colab": {
   "collapsed_sections": [],
   "name": "Music Recommender System.ipynb",
   "provenance": []
  },
  "kernelspec": {
   "display_name": "Python 3",
   "language": "python",
   "name": "python3"
  },
  "language_info": {
   "codemirror_mode": {
    "name": "ipython",
    "version": 3
   },
   "file_extension": ".py",
   "mimetype": "text/x-python",
   "name": "python",
   "nbconvert_exporter": "python",
   "pygments_lexer": "ipython3",
   "version": "3.8.5"
  },
  "toc": {
   "base_numbering": 1,
   "nav_menu": {},
   "number_sections": true,
   "sideBar": true,
   "skip_h1_title": false,
   "title_cell": "Table of Contents",
   "title_sidebar": "Contents",
   "toc_cell": false,
   "toc_position": {},
   "toc_section_display": true,
   "toc_window_display": false
  },
  "varInspector": {
   "cols": {
    "lenName": 16,
    "lenType": 16,
    "lenVar": 40
   },
   "kernels_config": {
    "python": {
     "delete_cmd_postfix": "",
     "delete_cmd_prefix": "del ",
     "library": "var_list.py",
     "varRefreshCmd": "print(var_dic_list())"
    },
    "r": {
     "delete_cmd_postfix": ") ",
     "delete_cmd_prefix": "rm(",
     "library": "var_list.r",
     "varRefreshCmd": "cat(var_dic_list()) "
    }
   },
   "types_to_exclude": [
    "module",
    "function",
    "builtin_function_or_method",
    "instance",
    "_Feature"
   ],
   "window_display": false
  }
 },
 "nbformat": 4,
 "nbformat_minor": 1
}
